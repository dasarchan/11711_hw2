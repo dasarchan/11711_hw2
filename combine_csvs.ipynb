{
 "cells": [
  {
   "cell_type": "code",
<<<<<<< HEAD
   "execution_count": 22,
   "metadata": {},
   "outputs": [],
   "source": [
    "import pandas as pd\n",
    "\n",
    "def xlsx_to_csv(xlsx_file, csv_file):\n",
    "    xlsx = pd.ExcelFile(xlsx_file)\n",
    "    data = pd.concat([pd.read_excel(xlsx, sheet_name=sheet) for sheet in xlsx.sheet_names])\n",
    "    data.to_csv(csv_file, index=False)\n",
    "\n",
    "# Example usage\n",
    "xlsx_to_csv('anlp_Music_Culture.xlsx', 'music_and_culture.csv')"
=======
   "execution_count": null,
   "metadata": {},
   "outputs": [],
   "source": [
    "import pandas as pd"
>>>>>>> 2c80a1b63cbfd05982cfe6a9c3cba37a77a23257
   ]
  },
  {
   "cell_type": "code",
<<<<<<< HEAD
   "execution_count": 23,
=======
   "execution_count": 13,
>>>>>>> 2c80a1b63cbfd05982cfe6a9c3cba37a77a23257
   "metadata": {},
   "outputs": [
    {
     "name": "stdout",
     "output_type": "stream",
     "text": [
      "Index(['source', 'url', 'text'], dtype='object')\n",
      "Index(['text', 'source'], dtype='object')\n",
      "Index(['source', 'text'], dtype='object')\n",
      "Index(['source', 'text'], dtype='object')\n",
      "347\n",
      "1705\n",
      "1688\n",
      "8007\n",
<<<<<<< HEAD
      "Index(['source', 'url', 'text'], dtype='object')\n",
=======
      "Index(['source', 'text'], dtype='object')\n",
>>>>>>> 2c80a1b63cbfd05982cfe6a9c3cba37a77a23257
      "11747\n"
     ]
    }
   ],
   "source": [
    "music_culture = pd.read_csv('music_and_culture.csv')\n",
    "music_culture = music_culture.rename(columns={'Url': 'source'})\n",
    "events_sports = pd.read_csv('events_and_sports.csv')\n",
    "\n",
    "restaurant_week = pd.read_csv('restaurant_week.csv')\n",
    "restaurant_week = restaurant_week.rename(columns={'link': 'source'})\n",
    "general_info = pd.read_csv('general_info.csv', lineterminator='\\n')\n",
    "general_info = general_info.rename(columns={'link': 'source'})\n",
    "\n",
    "music_culture['text'] = music_culture['Text']\n",
    "\n",
    "music_culture = music_culture.drop(columns=['Text'])\n",
    "\n",
    "print(music_culture.columns)\n",
    "print(events_sports.columns)\n",
    "print(restaurant_week.columns)\n",
    "print(general_info.columns)\n",
    "\n",
    "print(len(music_culture))\n",
    "print(len(events_sports))\n",
    "print(len(restaurant_week))\n",
    "print(len(general_info))\n",
    "\n",
    "all_combined = pd.concat([music_culture, events_sports, restaurant_week, general_info], ignore_index=True)\n",
    "print(all_combined.columns)\n",
    "print(len(all_combined))\n",
    "\n",
    "all_combined.to_csv('all_combined.csv', index=False)"
   ]
  },
  {
   "cell_type": "code",
   "execution_count": null,
   "metadata": {},
   "outputs": [],
   "source": []
  }
 ],
 "metadata": {
  "kernelspec": {
   "display_name": "anlp-hw2",
   "language": "python",
   "name": "python3"
  },
  "language_info": {
   "codemirror_mode": {
    "name": "ipython",
    "version": 3
   },
   "file_extension": ".py",
   "mimetype": "text/x-python",
   "name": "python",
   "nbconvert_exporter": "python",
   "pygments_lexer": "ipython3",
   "version": "3.9.21"
  }
 },
 "nbformat": 4,
 "nbformat_minor": 2
}
