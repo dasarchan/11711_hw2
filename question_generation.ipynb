{
 "cells": [
  {
   "cell_type": "code",
   "execution_count": 24,
   "metadata": {},
   "outputs": [],
   "source": [
    "import requests\n",
    "import json\n",
    "\n",
    "def generate_question(chunk, model_name=\"llama3.2\"):\n",
    "    \"\"\"\n",
    "    Generate a single question-answer pair from a given text chunk using an Ollama model.\n",
    "    \n",
    "    Args:\n",
    "        chunk (str): The text chunk to generate a QA pair from\n",
    "        model_name (str): The name of the Ollama model to use (default: \"llama3.2\")\n",
    "        \n",
    "    Returns:\n",
    "        str: Generated question-answer pair in tuple format\n",
    "    \"\"\"\n",
    "    # Ollama API endpoint (default is localhost on port 11434)\n",
    "    api_url = \"http://localhost:11434/api/generate\"\n",
    "    \n",
    "    # Create the prompt for question and answer generation\n",
    "    prompt = f\"\"\"\n",
    "    You are an expert question-answer pair generator. Your task is to create exactly ONE high-quality question and its corresponding answer based on the provided text chunk.\n",
    "\n",
    "    TEXT CHUNK:\n",
    "    {chunk}\n",
    "\n",
    "    INSTRUCTIONS:\n",
    "    1. Generate ONE question-answer pair that captures key information from the text chunk.\n",
    "    2. The answer must be comprehensive, accurate, and fully supported by the text.\n",
    "    3. The answer should be 1 sentence long - informative but concise.\n",
    "    4. The question should belong to one of these categories:\n",
    "       - Basic factual questions (e.g., \"When was Carnegie Mellon University founded?\")\n",
    "       - Document-enhanced questions that benefit from specific textual context (e.g., \"What is the name of the annual pickle festival held in Pittsburgh?\")\n",
    "       - Specific information questions that require exact details from the text (e.g., \"When was the Pittsburgh Soul Food Festival established?\")\n",
    "       - Time-sensitive questions related to events, schedules, or dates (e.g., \"Who is performing at City Theatre on May 15th?\")\n",
    "    5. Vary the question types across different chunks to ensure diversity.\n",
    "    \n",
    "    OUTPUT FORMAT:\n",
    "    Return ONLY a Python tuple with proper formatting: (\"Question text\", \"Answer text\")\n",
    "    - Include proper quotes and parentheses\n",
    "    - No explanations, comments, or additional text\n",
    "    - No numbering or prefixes\n",
    "    \n",
    "    Generate a question-answer pair now:\n",
    "    \"\"\"\n",
    "    \n",
    "    # Prepare the request payload\n",
    "    payload = {\n",
    "        \"model\": model_name,\n",
    "        \"prompt\": prompt,\n",
    "        \"stream\": False\n",
    "    }\n",
    "    \n",
    "    try:\n",
    "        # Make the API request to Ollama\n",
    "        response = requests.post(api_url, json=payload)\n",
    "        response.raise_for_status()  # Raise exception for HTTP errors\n",
    "        \n",
    "        # Parse the response\n",
    "        result = response.json()\n",
    "        return result[\"response\"].strip()\n",
    "    \n",
    "    except requests.exceptions.RequestException as e:\n",
    "        print(f\"Error communicating with Ollama: {e}\")\n",
    "        return None\n",
    "    except (KeyError, json.JSONDecodeError) as e:\n",
    "        print(f\"Error processing Ollama response: {e}\")\n",
    "        return None"
   ]
  },
  {
   "cell_type": "code",
   "execution_count": 25,
   "metadata": {},
   "outputs": [
    {
     "name": "stdout",
     "output_type": "stream",
     "text": [
      "(\"Where did the Los Angeles Dodgers play the World Series in 2020?\", \"The Los Angeles Dodgers played the World Series in 2020 in Arlington, Texas, at Globe Life Field due to the COVID-19 pandemic.\")\n"
     ]
    }
   ],
   "source": [
    "chunk = \"The Los Angeles Dodgers won the World Series in 2020. The games were played in Arlington, Texas, at Globe Life Field due to the COVID-19 pandemic.\"\n",
    "\n",
    "questions = generate_question(chunk, model_name=\"gemma3:12b\")\n",
    "print(questions)"
   ]
  },
  {
   "cell_type": "code",
   "execution_count": 14,
   "metadata": {},
   "outputs": [
    {
     "data": {
      "text/plain": [
       "('What year did the Los Angeles Dodgers win the World Series?',\n",
       " 'The Los Angeles Dodgers won the World Series in 2020.')"
      ]
     },
     "execution_count": 14,
     "metadata": {},
     "output_type": "execute_result"
    }
   ],
   "source": [
    "import re\n",
    "tuple_match = re.search(r'\\(\\\".*?\\\", \\\".*?\\\"\\)', questions)\n",
    "tuple_str = tuple_match.group(0)\n",
    "tuple_str\n",
    "eval(tuple_str)"
   ]
  },
  {
   "cell_type": "code",
   "execution_count": 68,
   "metadata": {},
   "outputs": [],
   "source": [
    "# questions.strip().split(\"\\n\")"
   ]
  },
  {
   "cell_type": "code",
   "execution_count": 21,
   "metadata": {},
   "outputs": [
    {
     "name": "stdout",
     "output_type": "stream",
     "text": [
      "12370\n"
     ]
    }
   ],
   "source": [
    "## read csv file\n",
    "import pandas as pd\n",
    "from tqdm import tqdm\n",
    "df = pd.read_csv(\"all_combined.csv\", lineterminator='\\n')\n",
    "print(len(df[\"text\"]))\n",
    "\n"
   ]
  },
  {
   "cell_type": "code",
   "execution_count": 30,
   "metadata": {},
   "outputs": [],
   "source": [
    "def generate_questions_for_dataset(df, model_name=\"llama3.3:latest\", max_attempts=5, save_path=\"all_combined.csv\"):\n",
    "    \"\"\"\n",
    "    Generate questions for each text in the dataframe using the specified model.\n",
    "    \n",
    "    Args:\n",
    "        df: DataFrame containing a 'text' column\n",
    "        model_name: Name of the model to use for question generation\n",
    "        max_attempts: Maximum number of attempts for each text\n",
    "        save_path: Path to save the updated dataframe\n",
    "        \n",
    "    Returns:\n",
    "        Updated DataFrame with a new column containing generated questions\n",
    "    \"\"\"\n",
    "\n",
    "    \n",
    "    # Create a list to store all questions\n",
    "    all_questions = []\n",
    "    all_answers = []\n",
    "    # Create a file to log generation results\n",
    "    log_file = open(f\"{model_name}_question_generation_log.txt\", \"w\")\n",
    "\n",
    "    # Add tqdm progress bar\n",
    "    for i in tqdm(range(len(df)), desc=f\"Generating questions with {model_name}\"):\n",
    "        # if i % 100 == 0:\n",
    "        #     print(\"current row index: \", i)\n",
    "        attempts = 0\n",
    "        question = None\n",
    "        \n",
    "        while attempts < max_attempts:\n",
    "            try:\n",
    "                response = generate_question(df[\"text\"][i], model_name=model_name)\n",
    "                # print(\"The text is: \", df[\"text\"][i])\n",
    "                if model_name == \"deepseek-r1\":\n",
    "                    tuple_match = re.search(r'\\(\\\".*?\\\", \\\".*?\\\"\\)', response)\n",
    "                    tuple_str = tuple_match.group(0)\n",
    "                    question, answer = eval(tuple_str)\n",
    "                else:\n",
    "                    question, answer = eval(response)\n",
    "                if question and answer:  # If we got a valid response\n",
    "                    # print(\"-------- ---------\")\n",
    "                    # print(question)\n",
    "                    # print(answer)\n",
    "                    # print(\"-------- ---------\")\n",
    "                    break\n",
    "                raise Exception(\"Empty response received\")\n",
    "                \n",
    "            except Exception as e:\n",
    "                attempts += 1\n",
    "                print(f\"Attempt {attempts} failed: {str(e)}\")\n",
    "                if attempts == max_attempts:\n",
    "                    print(f\"Failed to generate question after {max_attempts} attempts\")\n",
    "        \n",
    "        # Add the question to our list (empty string if generation failed)\n",
    "        if question and answer:\n",
    "            all_questions.append(question)\n",
    "            all_answers.append(answer)\n",
    "            log_file.write(f\"{i}\\t{question}\\t{answer}\\n\")\n",
    "        else:\n",
    "            all_questions.append(\"\")\n",
    "            all_answers.append(\"\")\n",
    "            log_file.write(f\"{i}\\t\\n\")\n",
    "    # Close the log file\n",
    "    log_file.close()\n",
    "\n",
    "    # After collecting all questions, add them as a new column\n",
    "    column_name = f\"{model_name}_question\"\n",
    "    df[column_name] = all_questions\n",
    "    column_name = f\"{model_name}_answer\"\n",
    "    df[column_name] = all_answers\n",
    "\n",
    "    # Save the final dataframe once at the end\n",
    "    df.to_csv(save_path, index=False)\n",
    "    \n",
    "    return df"
   ]
  },
  {
   "cell_type": "code",
   "execution_count": 31,
   "metadata": {},
   "outputs": [
    {
     "name": "stderr",
     "output_type": "stream",
     "text": [
      "Generating questions with gemma3:12b:   0%|          | 57/12370 [00:50<2:41:35,  1.27it/s]"
     ]
    },
    {
     "name": "stdout",
     "output_type": "stream",
     "text": [
      "Attempt 1 failed: unterminated string literal (detected at line 1) (<string>, line 1)\n"
     ]
    },
    {
     "name": "stderr",
     "output_type": "stream",
     "text": [
      "Generating questions with gemma3:12b:   0%|          | 58/12370 [00:52<3:34:46,  1.05s/it]"
     ]
    },
    {
     "name": "stdout",
     "output_type": "stream",
     "text": [
      "Attempt 1 failed: invalid syntax. Perhaps you forgot a comma? (<string>, line 1)\n",
      "Attempt 2 failed: invalid syntax. Perhaps you forgot a comma? (<string>, line 1)\n",
      "Attempt 3 failed: invalid syntax. Perhaps you forgot a comma? (<string>, line 1)\n",
      "Attempt 4 failed: invalid syntax. Perhaps you forgot a comma? (<string>, line 1)\n"
     ]
    },
    {
     "name": "stderr",
     "output_type": "stream",
     "text": [
      "Generating questions with gemma3:12b:   0%|          | 59/12370 [00:58<8:23:53,  2.46s/it]"
     ]
    },
    {
     "name": "stdout",
     "output_type": "stream",
     "text": [
      "Attempt 5 failed: invalid syntax. Perhaps you forgot a comma? (<string>, line 1)\n",
      "Failed to generate question after 5 attempts\n"
     ]
    },
    {
     "name": "stderr",
     "output_type": "stream",
     "text": [
      "Generating questions with gemma3:12b:   1%|          | 115/12370 [01:49<2:56:57,  1.15it/s]"
     ]
    },
    {
     "name": "stdout",
     "output_type": "stream",
     "text": [
      "Attempt 1 failed: invalid syntax. Perhaps you forgot a comma? (<string>, line 1)\n",
      "Attempt 2 failed: invalid syntax. Perhaps you forgot a comma? (<string>, line 1)\n",
      "Attempt 3 failed: invalid syntax. Perhaps you forgot a comma? (<string>, line 1)\n",
      "Attempt 4 failed: invalid syntax. Perhaps you forgot a comma? (<string>, line 1)\n"
     ]
    },
    {
     "name": "stderr",
     "output_type": "stream",
     "text": [
      "Generating questions with gemma3:12b:   2%|▏         | 268/12370 [04:14<3:08:27,  1.07it/s]"
     ]
    },
    {
     "name": "stdout",
     "output_type": "stream",
     "text": [
      "Attempt 1 failed: unterminated string literal (detected at line 1) (<string>, line 1)\n"
     ]
    },
    {
     "name": "stderr",
     "output_type": "stream",
     "text": [
      "Generating questions with gemma3:12b:   2%|▏         | 285/12370 [04:32<3:28:48,  1.04s/it]"
     ]
    },
    {
     "name": "stdout",
     "output_type": "stream",
     "text": [
      "Attempt 1 failed: invalid syntax. Perhaps you forgot a comma? (<string>, line 1)\n",
      "Attempt 2 failed: invalid syntax. Perhaps you forgot a comma? (<string>, line 1)\n",
      "Attempt 3 failed: invalid syntax. Perhaps you forgot a comma? (<string>, line 1)\n",
      "Attempt 4 failed: invalid syntax. Perhaps you forgot a comma? (<string>, line 1)\n"
     ]
    },
    {
     "name": "stderr",
     "output_type": "stream",
     "text": [
      "Generating questions with gemma3:12b:   2%|▏         | 286/12370 [04:36<6:32:49,  1.95s/it]"
     ]
    },
    {
     "name": "stdout",
     "output_type": "stream",
     "text": [
      "Attempt 5 failed: invalid syntax. Perhaps you forgot a comma? (<string>, line 1)\n",
      "Failed to generate question after 5 attempts\n"
     ]
    },
    {
     "name": "stderr",
     "output_type": "stream",
     "text": [
      "Generating questions with gemma3:12b:   3%|▎         | 349/12370 [05:31<2:36:45,  1.28it/s]"
     ]
    },
    {
     "name": "stdout",
     "output_type": "stream",
     "text": [
      "Attempt 1 failed: unterminated string literal (detected at line 1) (<string>, line 1)\n"
     ]
    },
    {
     "name": "stderr",
     "output_type": "stream",
     "text": [
      "Generating questions with gemma3:12b:   3%|▎         | 382/12370 [06:00<2:33:02,  1.31it/s]"
     ]
    },
    {
     "name": "stdout",
     "output_type": "stream",
     "text": [
      "Attempt 1 failed: invalid syntax. Perhaps you forgot a comma? (<string>, line 1)\n",
      "Attempt 2 failed: invalid syntax. Perhaps you forgot a comma? (<string>, line 1)\n",
      "Attempt 3 failed: invalid syntax. Perhaps you forgot a comma? (<string>, line 1)\n",
      "Attempt 4 failed: invalid syntax. Perhaps you forgot a comma? (<string>, line 1)\n"
     ]
    },
    {
     "name": "stderr",
     "output_type": "stream",
     "text": [
      "Generating questions with gemma3:12b:   3%|▎         | 383/12370 [06:03<5:36:45,  1.69s/it]"
     ]
    },
    {
     "name": "stdout",
     "output_type": "stream",
     "text": [
      "Attempt 5 failed: invalid syntax. Perhaps you forgot a comma? (<string>, line 1)\n",
      "Failed to generate question after 5 attempts\n"
     ]
    },
    {
     "name": "stderr",
     "output_type": "stream",
     "text": [
      "Generating questions with gemma3:12b:   4%|▍         | 474/12370 [07:17<2:36:45,  1.26it/s]"
     ]
    },
    {
     "name": "stdout",
     "output_type": "stream",
     "text": [
      "Error communicating with Ollama: 500 Server Error: Internal Server Error for url: http://localhost:11434/api/generate\n",
      "Attempt 1 failed: eval() arg 1 must be a string, bytes or code object\n"
     ]
    },
    {
     "name": "stderr",
     "output_type": "stream",
     "text": [
      "Generating questions with gemma3:12b:   4%|▍         | 479/12370 [07:28<4:30:48,  1.37s/it]"
     ]
    },
    {
     "name": "stdout",
     "output_type": "stream",
     "text": [
      "Attempt 1 failed: invalid syntax. Perhaps you forgot a comma? (<string>, line 1)\n"
     ]
    },
    {
     "name": "stderr",
     "output_type": "stream",
     "text": [
      "Generating questions with gemma3:12b:   5%|▌         | 624/12370 [09:29<3:12:29,  1.02it/s]"
     ]
    },
    {
     "name": "stdout",
     "output_type": "stream",
     "text": [
      "Attempt 1 failed: invalid syntax. Perhaps you forgot a comma? (<string>, line 1)\n"
     ]
    },
    {
     "name": "stderr",
     "output_type": "stream",
     "text": [
      "Generating questions with gemma3:12b:   5%|▌         | 654/12370 [09:57<3:06:56,  1.04it/s]"
     ]
    },
    {
     "name": "stdout",
     "output_type": "stream",
     "text": [
      "Attempt 1 failed: unterminated string literal (detected at line 1) (<string>, line 1)\n"
     ]
    },
    {
     "name": "stderr",
     "output_type": "stream",
     "text": [
      "Generating questions with gemma3:12b:   5%|▌         | 664/12370 [10:08<3:03:37,  1.06it/s]"
     ]
    },
    {
     "name": "stdout",
     "output_type": "stream",
     "text": [
      "Error communicating with Ollama: 500 Server Error: Internal Server Error for url: http://localhost:11434/api/generate\n",
      "Attempt 1 failed: eval() arg 1 must be a string, bytes or code object\n"
     ]
    },
    {
     "name": "stderr",
     "output_type": "stream",
     "text": [
      "Generating questions with gemma3:12b:   7%|▋         | 888/12370 [13:04<2:05:20,  1.53it/s] "
     ]
    },
    {
     "name": "stdout",
     "output_type": "stream",
     "text": [
      "Error communicating with Ollama: 500 Server Error: Internal Server Error for url: http://localhost:11434/api/generate\n",
      "Attempt 1 failed: eval() arg 1 must be a string, bytes or code object\n"
     ]
    },
    {
     "name": "stderr",
     "output_type": "stream",
     "text": [
      "Generating questions with gemma3:12b:   9%|▉         | 1131/12370 [16:26<2:44:21,  1.14it/s]"
     ]
    },
    {
     "name": "stdout",
     "output_type": "stream",
     "text": [
      "Error communicating with Ollama: 500 Server Error: Internal Server Error for url: http://localhost:11434/api/generate\n",
      "Attempt 1 failed: eval() arg 1 must be a string, bytes or code object\n"
     ]
    },
    {
     "name": "stderr",
     "output_type": "stream",
     "text": [
      "Generating questions with gemma3:12b:  11%|█         | 1345/12370 [19:14<2:30:18,  1.22it/s]"
     ]
    },
    {
     "name": "stdout",
     "output_type": "stream",
     "text": [
      "Error communicating with Ollama: 500 Server Error: Internal Server Error for url: http://localhost:11434/api/generate\n",
      "Attempt 1 failed: eval() arg 1 must be a string, bytes or code object\n"
     ]
    },
    {
     "name": "stderr",
     "output_type": "stream",
     "text": [
      "Generating questions with gemma3:12b:  12%|█▏        | 1469/12370 [20:50<2:21:26,  1.28it/s]"
     ]
    },
    {
     "name": "stdout",
     "output_type": "stream",
     "text": [
      "Attempt 1 failed: invalid syntax. Perhaps you forgot a comma? (<string>, line 1)\n",
      "Attempt 2 failed: invalid syntax. Perhaps you forgot a comma? (<string>, line 1)\n"
     ]
    },
    {
     "name": "stderr",
     "output_type": "stream",
     "text": [
      "Generating questions with gemma3:12b:  12%|█▏        | 1488/12370 [21:08<2:20:30,  1.29it/s]"
     ]
    },
    {
     "name": "stdout",
     "output_type": "stream",
     "text": [
      "Error communicating with Ollama: 500 Server Error: Internal Server Error for url: http://localhost:11434/api/generate\n",
      "Attempt 1 failed: eval() arg 1 must be a string, bytes or code object\n"
     ]
    },
    {
     "name": "stderr",
     "output_type": "stream",
     "text": [
      "Generating questions with gemma3:12b:  13%|█▎        | 1644/12370 [23:11<2:05:16,  1.43it/s]"
     ]
    },
    {
     "name": "stdout",
     "output_type": "stream",
     "text": [
      "Error communicating with Ollama: 500 Server Error: Internal Server Error for url: http://localhost:11434/api/generate\n",
      "Attempt 1 failed: eval() arg 1 must be a string, bytes or code object\n"
     ]
    },
    {
     "name": "stderr",
     "output_type": "stream",
     "text": [
      "Generating questions with gemma3:12b:  13%|█▎        | 1656/12370 [23:29<2:25:06,  1.23it/s]"
     ]
    },
    {
     "name": "stdout",
     "output_type": "stream",
     "text": [
      "Error communicating with Ollama: 500 Server Error: Internal Server Error for url: http://localhost:11434/api/generate\n",
      "Attempt 1 failed: eval() arg 1 must be a string, bytes or code object\n"
     ]
    },
    {
     "name": "stderr",
     "output_type": "stream",
     "text": [
      "Generating questions with gemma3:12b:  14%|█▎        | 1699/12370 [24:11<2:17:25,  1.29it/s]"
     ]
    },
    {
     "name": "stdout",
     "output_type": "stream",
     "text": [
      "Error communicating with Ollama: 500 Server Error: Internal Server Error for url: http://localhost:11434/api/generate\n",
      "Attempt 1 failed: eval() arg 1 must be a string, bytes or code object\n"
     ]
    },
    {
     "name": "stderr",
     "output_type": "stream",
     "text": [
      "Generating questions with gemma3:12b:  18%|█▊        | 2166/12370 [29:34<2:26:58,  1.16it/s]"
     ]
    },
    {
     "name": "stdout",
     "output_type": "stream",
     "text": [
      "Error communicating with Ollama: 500 Server Error: Internal Server Error for url: http://localhost:11434/api/generate\n",
      "Attempt 1 failed: eval() arg 1 must be a string, bytes or code object\n"
     ]
    },
    {
     "name": "stderr",
     "output_type": "stream",
     "text": [
      "Generating questions with gemma3:12b:  18%|█▊        | 2260/12370 [30:55<2:14:09,  1.26it/s]"
     ]
    },
    {
     "name": "stdout",
     "output_type": "stream",
     "text": [
      "Error communicating with Ollama: 500 Server Error: Internal Server Error for url: http://localhost:11434/api/generate\n",
      "Attempt 1 failed: eval() arg 1 must be a string, bytes or code object\n"
     ]
    },
    {
     "name": "stderr",
     "output_type": "stream",
     "text": [
      "Generating questions with gemma3:12b:  19%|█▉        | 2335/12370 [32:01<2:23:31,  1.17it/s]"
     ]
    },
    {
     "name": "stdout",
     "output_type": "stream",
     "text": [
      "Error communicating with Ollama: 500 Server Error: Internal Server Error for url: http://localhost:11434/api/generate\n",
      "Attempt 1 failed: eval() arg 1 must be a string, bytes or code object\n"
     ]
    },
    {
     "name": "stderr",
     "output_type": "stream",
     "text": [
      "Generating questions with gemma3:12b:  20%|█▉        | 2437/12370 [33:30<2:04:27,  1.33it/s]"
     ]
    },
    {
     "name": "stdout",
     "output_type": "stream",
     "text": [
      "Error communicating with Ollama: 500 Server Error: Internal Server Error for url: http://localhost:11434/api/generate\n",
      "Attempt 1 failed: eval() arg 1 must be a string, bytes or code object\n"
     ]
    },
    {
     "name": "stderr",
     "output_type": "stream",
     "text": [
      "Generating questions with gemma3:12b:  20%|██        | 2516/12370 [34:39<2:13:52,  1.23it/s]"
     ]
    },
    {
     "name": "stdout",
     "output_type": "stream",
     "text": [
      "Error communicating with Ollama: 500 Server Error: Internal Server Error for url: http://localhost:11434/api/generate\n",
      "Attempt 1 failed: eval() arg 1 must be a string, bytes or code object\n"
     ]
    },
    {
     "name": "stderr",
     "output_type": "stream",
     "text": [
      "Generating questions with gemma3:12b:  23%|██▎       | 2815/12370 [38:32<1:49:19,  1.46it/s]"
     ]
    },
    {
     "name": "stdout",
     "output_type": "stream",
     "text": [
      "Error communicating with Ollama: 500 Server Error: Internal Server Error for url: http://localhost:11434/api/generate\n",
      "Attempt 1 failed: eval() arg 1 must be a string, bytes or code object\n"
     ]
    },
    {
     "name": "stderr",
     "output_type": "stream",
     "text": [
      "Generating questions with gemma3:12b:  25%|██▌       | 3148/12370 [42:56<2:01:14,  1.27it/s]"
     ]
    },
    {
     "name": "stdout",
     "output_type": "stream",
     "text": [
      "Error communicating with Ollama: 500 Server Error: Internal Server Error for url: http://localhost:11434/api/generate\n",
      "Attempt 1 failed: eval() arg 1 must be a string, bytes or code object\n"
     ]
    },
    {
     "name": "stderr",
     "output_type": "stream",
     "text": [
      "Generating questions with gemma3:12b:  26%|██▌       | 3156/12370 [43:09<2:17:27,  1.12it/s]"
     ]
    },
    {
     "name": "stdout",
     "output_type": "stream",
     "text": [
      "Error communicating with Ollama: 500 Server Error: Internal Server Error for url: http://localhost:11434/api/generate\n",
      "Attempt 1 failed: eval() arg 1 must be a string, bytes or code object\n"
     ]
    },
    {
     "name": "stderr",
     "output_type": "stream",
     "text": [
      "Generating questions with gemma3:12b:  26%|██▋       | 3252/12370 [44:30<1:39:15,  1.53it/s]"
     ]
    },
    {
     "name": "stdout",
     "output_type": "stream",
     "text": [
      "Error communicating with Ollama: 500 Server Error: Internal Server Error for url: http://localhost:11434/api/generate\n",
      "Attempt 1 failed: eval() arg 1 must be a string, bytes or code object\n"
     ]
    },
    {
     "name": "stderr",
     "output_type": "stream",
     "text": [
      "Generating questions with gemma3:12b:  28%|██▊       | 3454/12370 [47:14<1:56:28,  1.28it/s]"
     ]
    },
    {
     "name": "stdout",
     "output_type": "stream",
     "text": [
      "Error communicating with Ollama: 500 Server Error: Internal Server Error for url: http://localhost:11434/api/generate\n",
      "Attempt 1 failed: eval() arg 1 must be a string, bytes or code object\n"
     ]
    },
    {
     "name": "stderr",
     "output_type": "stream",
     "text": [
      "Generating questions with gemma3:12b:  29%|██▉       | 3623/12370 [49:34<1:44:52,  1.39it/s]"
     ]
    },
    {
     "name": "stdout",
     "output_type": "stream",
     "text": [
      "Error communicating with Ollama: 500 Server Error: Internal Server Error for url: http://localhost:11434/api/generate\n",
      "Attempt 1 failed: eval() arg 1 must be a string, bytes or code object\n"
     ]
    },
    {
     "name": "stderr",
     "output_type": "stream",
     "text": [
      "Generating questions with gemma3:12b:  31%|███       | 3789/12370 [51:56<1:37:55,  1.46it/s]"
     ]
    },
    {
     "name": "stdout",
     "output_type": "stream",
     "text": [
      "Attempt 1 failed: invalid syntax. Perhaps you forgot a comma? (<string>, line 1)\n",
      "Attempt 2 failed: invalid syntax. Perhaps you forgot a comma? (<string>, line 1)\n",
      "Attempt 3 failed: invalid syntax. Perhaps you forgot a comma? (<string>, line 1)\n",
      "Attempt 4 failed: invalid syntax. Perhaps you forgot a comma? (<string>, line 1)\n"
     ]
    },
    {
     "name": "stderr",
     "output_type": "stream",
     "text": [
      "Generating questions with gemma3:12b:  31%|███       | 3790/12370 [51:59<3:20:02,  1.40s/it]"
     ]
    },
    {
     "name": "stdout",
     "output_type": "stream",
     "text": [
      "Attempt 5 failed: invalid syntax. Perhaps you forgot a comma? (<string>, line 1)\n",
      "Failed to generate question after 5 attempts\n"
     ]
    },
    {
     "name": "stderr",
     "output_type": "stream",
     "text": [
      "Generating questions with gemma3:12b:  31%|███       | 3802/12370 [52:09<1:47:39,  1.33it/s]"
     ]
    },
    {
     "name": "stdout",
     "output_type": "stream",
     "text": [
      "Attempt 1 failed: invalid syntax. Perhaps you forgot a comma? (<string>, line 1)\n"
     ]
    },
    {
     "name": "stderr",
     "output_type": "stream",
     "text": [
      "Generating questions with gemma3:12b:  31%|███       | 3822/12370 [52:28<2:12:42,  1.07it/s]"
     ]
    },
    {
     "name": "stdout",
     "output_type": "stream",
     "text": [
      "Attempt 1 failed: invalid syntax. Perhaps you forgot a comma? (<string>, line 1)\n",
      "Attempt 2 failed: invalid syntax. Perhaps you forgot a comma? (<string>, line 1)\n",
      "Attempt 3 failed: invalid syntax. Perhaps you forgot a comma? (<string>, line 1)\n",
      "Attempt 4 failed: invalid syntax. Perhaps you forgot a comma? (<string>, line 1)\n"
     ]
    },
    {
     "name": "stderr",
     "output_type": "stream",
     "text": [
      "Generating questions with gemma3:12b:  31%|███       | 3858/12370 [53:02<1:51:25,  1.27it/s]"
     ]
    },
    {
     "name": "stdout",
     "output_type": "stream",
     "text": [
      "Attempt 1 failed: invalid syntax. Perhaps you forgot a comma? (<string>, line 1)\n"
     ]
    },
    {
     "name": "stderr",
     "output_type": "stream",
     "text": [
      "Generating questions with gemma3:12b:  31%|███       | 3863/12370 [53:07<2:07:22,  1.11it/s]"
     ]
    },
    {
     "name": "stdout",
     "output_type": "stream",
     "text": [
      "Error communicating with Ollama: 500 Server Error: Internal Server Error for url: http://localhost:11434/api/generate\n",
      "Attempt 1 failed: eval() arg 1 must be a string, bytes or code object\n"
     ]
    },
    {
     "name": "stderr",
     "output_type": "stream",
     "text": [
      "Generating questions with gemma3:12b:  31%|███▏      | 3866/12370 [53:17<4:38:44,  1.97s/it]<string>:1: SyntaxWarning: 'str' object is not callable; perhaps you missed a comma?\n"
     ]
    },
    {
     "name": "stdout",
     "output_type": "stream",
     "text": [
      "Attempt 1 failed: 'str' object is not callable\n"
     ]
    },
    {
     "name": "stderr",
     "output_type": "stream",
     "text": [
      "Generating questions with gemma3:12b:  34%|███▎      | 4161/12370 [56:46<1:36:34,  1.42it/s]"
     ]
    },
    {
     "name": "stdout",
     "output_type": "stream",
     "text": [
      "Attempt 1 failed: invalid syntax. Perhaps you forgot a comma? (<string>, line 1)\n",
      "Attempt 2 failed: invalid syntax. Perhaps you forgot a comma? (<string>, line 1)\n",
      "Attempt 3 failed: invalid syntax. Perhaps you forgot a comma? (<string>, line 1)\n",
      "Attempt 4 failed: invalid syntax. Perhaps you forgot a comma? (<string>, line 1)\n"
     ]
    },
    {
     "name": "stderr",
     "output_type": "stream",
     "text": [
      "Generating questions with gemma3:12b:  34%|███▎      | 4162/12370 [56:51<4:20:19,  1.90s/it]"
     ]
    },
    {
     "name": "stdout",
     "output_type": "stream",
     "text": [
      "Attempt 5 failed: invalid syntax. Perhaps you forgot a comma? (<string>, line 1)\n",
      "Failed to generate question after 5 attempts\n"
     ]
    },
    {
     "name": "stderr",
     "output_type": "stream",
     "text": [
      "Generating questions with gemma3:12b:  36%|███▋      | 4490/12370 [1:00:36<1:32:53,  1.41it/s]"
     ]
    },
    {
     "name": "stdout",
     "output_type": "stream",
     "text": [
      "Error communicating with Ollama: 500 Server Error: Internal Server Error for url: http://localhost:11434/api/generate\n",
      "Attempt 1 failed: eval() arg 1 must be a string, bytes or code object\n"
     ]
    },
    {
     "name": "stderr",
     "output_type": "stream",
     "text": [
      "Generating questions with gemma3:12b:  38%|███▊      | 4684/12370 [1:02:59<1:52:53,  1.13it/s]"
     ]
    },
    {
     "name": "stdout",
     "output_type": "stream",
     "text": [
      "Attempt 1 failed: invalid syntax. Perhaps you forgot a comma? (<string>, line 1)\n",
      "Attempt 2 failed: invalid syntax. Perhaps you forgot a comma? (<string>, line 1)\n",
      "Attempt 3 failed: invalid syntax. Perhaps you forgot a comma? (<string>, line 1)\n",
      "Attempt 4 failed: invalid syntax. Perhaps you forgot a comma? (<string>, line 1)\n"
     ]
    },
    {
     "name": "stderr",
     "output_type": "stream",
     "text": [
      "Generating questions with gemma3:12b:  38%|███▊      | 4685/12370 [1:03:05<5:01:06,  2.35s/it]"
     ]
    },
    {
     "name": "stdout",
     "output_type": "stream",
     "text": [
      "Attempt 5 failed: invalid syntax. Perhaps you forgot a comma? (<string>, line 1)\n",
      "Failed to generate question after 5 attempts\n"
     ]
    },
    {
     "name": "stderr",
     "output_type": "stream",
     "text": [
      "Generating questions with gemma3:12b:  38%|███▊      | 4695/12370 [1:03:12<1:25:50,  1.49it/s]"
     ]
    },
    {
     "name": "stdout",
     "output_type": "stream",
     "text": [
      "Error communicating with Ollama: 500 Server Error: Internal Server Error for url: http://localhost:11434/api/generate\n",
      "Attempt 1 failed: eval() arg 1 must be a string, bytes or code object\n"
     ]
    },
    {
     "name": "stderr",
     "output_type": "stream",
     "text": [
      "Generating questions with gemma3:12b:  46%|████▌     | 5715/12370 [1:16:01<1:24:36,  1.31it/s]"
     ]
    },
    {
     "name": "stdout",
     "output_type": "stream",
     "text": [
      "Error communicating with Ollama: 500 Server Error: Internal Server Error for url: http://localhost:11434/api/generate\n",
      "Attempt 1 failed: eval() arg 1 must be a string, bytes or code object\n"
     ]
    },
    {
     "name": "stderr",
     "output_type": "stream",
     "text": [
      "Generating questions with gemma3:12b:  50%|█████     | 6210/12370 [1:22:05<1:10:12,  1.46it/s]"
     ]
    },
    {
     "name": "stdout",
     "output_type": "stream",
     "text": [
      "Attempt 1 failed: invalid syntax. Perhaps you forgot a comma? (<string>, line 1)\n",
      "Attempt 2 failed: invalid syntax. Perhaps you forgot a comma? (<string>, line 1)\n",
      "Attempt 3 failed: invalid syntax. Perhaps you forgot a comma? (<string>, line 1)\n",
      "Attempt 4 failed: invalid syntax. Perhaps you forgot a comma? (<string>, line 1)\n"
     ]
    },
    {
     "name": "stderr",
     "output_type": "stream",
     "text": [
      "Generating questions with gemma3:12b:  50%|█████     | 6211/12370 [1:22:08<2:43:38,  1.59s/it]"
     ]
    },
    {
     "name": "stdout",
     "output_type": "stream",
     "text": [
      "Attempt 5 failed: invalid syntax. Perhaps you forgot a comma? (<string>, line 1)\n",
      "Failed to generate question after 5 attempts\n"
     ]
    },
    {
     "name": "stderr",
     "output_type": "stream",
     "text": [
      "Generating questions with gemma3:12b:  52%|█████▏    | 6473/12370 [1:25:17<1:11:55,  1.37it/s]"
     ]
    },
    {
     "name": "stdout",
     "output_type": "stream",
     "text": [
      "Attempt 1 failed: unterminated string literal (detected at line 1) (<string>, line 1)\n",
      "Attempt 2 failed: unterminated string literal (detected at line 1) (<string>, line 1)\n",
      "Attempt 3 failed: unterminated string literal (detected at line 1) (<string>, line 1)\n",
      "Attempt 4 failed: unterminated string literal (detected at line 1) (<string>, line 1)\n"
     ]
    },
    {
     "name": "stderr",
     "output_type": "stream",
     "text": [
      "Generating questions with gemma3:12b:  52%|█████▏    | 6474/12370 [1:25:22<2:59:59,  1.83s/it]"
     ]
    },
    {
     "name": "stdout",
     "output_type": "stream",
     "text": [
      "Attempt 5 failed: unterminated string literal (detected at line 1) (<string>, line 1)\n",
      "Failed to generate question after 5 attempts\n"
     ]
    },
    {
     "name": "stderr",
     "output_type": "stream",
     "text": [
      "Generating questions with gemma3:12b:  52%|█████▏    | 6486/12370 [1:25:32<1:16:57,  1.27it/s]"
     ]
    },
    {
     "name": "stdout",
     "output_type": "stream",
     "text": [
      "Attempt 1 failed: unterminated string literal (detected at line 1) (<string>, line 1)\n",
      "Attempt 2 failed: unterminated string literal (detected at line 1) (<string>, line 1)\n",
      "Attempt 3 failed: unterminated string literal (detected at line 1) (<string>, line 1)\n",
      "Attempt 4 failed: unterminated string literal (detected at line 1) (<string>, line 1)\n"
     ]
    },
    {
     "name": "stderr",
     "output_type": "stream",
     "text": [
      "Generating questions with gemma3:12b:  52%|█████▏    | 6487/12370 [1:25:36<2:49:30,  1.73s/it]"
     ]
    },
    {
     "name": "stdout",
     "output_type": "stream",
     "text": [
      "Attempt 5 failed: unterminated string literal (detected at line 1) (<string>, line 1)\n",
      "Failed to generate question after 5 attempts\n"
     ]
    },
    {
     "name": "stderr",
     "output_type": "stream",
     "text": [
      "Generating questions with gemma3:12b:  54%|█████▎    | 6621/12370 [1:27:40<1:13:53,  1.30it/s]"
     ]
    },
    {
     "name": "stdout",
     "output_type": "stream",
     "text": [
      "Attempt 1 failed: unterminated string literal (detected at line 1) (<string>, line 1)\n",
      "Attempt 2 failed: unterminated string literal (detected at line 1) (<string>, line 1)\n",
      "Attempt 3 failed: unterminated string literal (detected at line 1) (<string>, line 1)\n",
      "Attempt 4 failed: unterminated string literal (detected at line 1) (<string>, line 1)\n"
     ]
    },
    {
     "name": "stderr",
     "output_type": "stream",
     "text": [
      "Generating questions with gemma3:12b:  54%|█████▎    | 6622/12370 [1:27:44<2:48:09,  1.76s/it]"
     ]
    },
    {
     "name": "stdout",
     "output_type": "stream",
     "text": [
      "Attempt 5 failed: unterminated string literal (detected at line 1) (<string>, line 1)\n",
      "Failed to generate question after 5 attempts\n"
     ]
    },
    {
     "name": "stderr",
     "output_type": "stream",
     "text": [
      "Generating questions with gemma3:12b:  54%|█████▎    | 6634/12370 [1:27:53<1:15:38,  1.26it/s]"
     ]
    },
    {
     "name": "stdout",
     "output_type": "stream",
     "text": [
      "Attempt 1 failed: unterminated string literal (detected at line 1) (<string>, line 1)\n",
      "Attempt 2 failed: unterminated string literal (detected at line 1) (<string>, line 1)\n",
      "Attempt 3 failed: unterminated string literal (detected at line 1) (<string>, line 1)\n",
      "Attempt 4 failed: unterminated string literal (detected at line 1) (<string>, line 1)\n"
     ]
    },
    {
     "name": "stderr",
     "output_type": "stream",
     "text": [
      "Generating questions with gemma3:12b:  54%|█████▎    | 6635/12370 [1:27:58<3:10:23,  1.99s/it]"
     ]
    },
    {
     "name": "stdout",
     "output_type": "stream",
     "text": [
      "Attempt 5 failed: unterminated string literal (detected at line 1) (<string>, line 1)\n",
      "Failed to generate question after 5 attempts\n"
     ]
    },
    {
     "name": "stderr",
     "output_type": "stream",
     "text": [
      "Generating questions with gemma3:12b:  54%|█████▍    | 6660/12370 [1:28:18<1:18:45,  1.21it/s]"
     ]
    },
    {
     "name": "stdout",
     "output_type": "stream",
     "text": [
      "Attempt 1 failed: unterminated string literal (detected at line 1) (<string>, line 1)\n"
     ]
    },
    {
     "name": "stderr",
     "output_type": "stream",
     "text": [
      "Generating questions with gemma3:12b:  54%|█████▍    | 6692/12370 [1:28:46<1:10:48,  1.34it/s]"
     ]
    },
    {
     "name": "stdout",
     "output_type": "stream",
     "text": [
      "Attempt 1 failed: unterminated string literal (detected at line 1) (<string>, line 1)\n"
     ]
    },
    {
     "name": "stderr",
     "output_type": "stream",
     "text": [
      "Generating questions with gemma3:12b:  54%|█████▍    | 6719/12370 [1:29:08<1:14:07,  1.27it/s]"
     ]
    },
    {
     "name": "stdout",
     "output_type": "stream",
     "text": [
      "Error communicating with Ollama: 500 Server Error: Internal Server Error for url: http://localhost:11434/api/generate\n",
      "Attempt 1 failed: eval() arg 1 must be a string, bytes or code object\n"
     ]
    },
    {
     "name": "stderr",
     "output_type": "stream",
     "text": [
      "Generating questions with gemma3:12b:  56%|█████▋    | 6964/12370 [1:32:38<1:10:58,  1.27it/s]"
     ]
    },
    {
     "name": "stdout",
     "output_type": "stream",
     "text": [
      "Error communicating with Ollama: 500 Server Error: Internal Server Error for url: http://localhost:11434/api/generate\n",
      "Attempt 1 failed: eval() arg 1 must be a string, bytes or code object\n"
     ]
    },
    {
     "name": "stderr",
     "output_type": "stream",
     "text": [
      "Generating questions with gemma3:12b:  57%|█████▋    | 6997/12370 [1:33:14<1:20:48,  1.11it/s]"
     ]
    },
    {
     "name": "stdout",
     "output_type": "stream",
     "text": [
      "Attempt 1 failed: unterminated string literal (detected at line 1) (<string>, line 1)\n",
      "Attempt 2 failed: unterminated string literal (detected at line 1) (<string>, line 1)\n",
      "Attempt 3 failed: unterminated string literal (detected at line 1) (<string>, line 1)\n",
      "Attempt 4 failed: unterminated string literal (detected at line 1) (<string>, line 1)\n"
     ]
    },
    {
     "name": "stderr",
     "output_type": "stream",
     "text": [
      "Generating questions with gemma3:12b:  57%|█████▋    | 6998/12370 [1:33:18<2:43:58,  1.83s/it]"
     ]
    },
    {
     "name": "stdout",
     "output_type": "stream",
     "text": [
      "Attempt 5 failed: unterminated string literal (detected at line 1) (<string>, line 1)\n",
      "Failed to generate question after 5 attempts\n"
     ]
    },
    {
     "name": "stderr",
     "output_type": "stream",
     "text": [
      "Generating questions with gemma3:12b:  57%|█████▋    | 7020/12370 [1:33:37<1:17:15,  1.15it/s]"
     ]
    },
    {
     "name": "stdout",
     "output_type": "stream",
     "text": [
      "Error communicating with Ollama: 500 Server Error: Internal Server Error for url: http://localhost:11434/api/generate\n",
      "Attempt 1 failed: eval() arg 1 must be a string, bytes or code object\n"
     ]
    },
    {
     "name": "stderr",
     "output_type": "stream",
     "text": [
      "Generating questions with gemma3:12b:  59%|█████▉    | 7289/12370 [1:37:41<1:15:07,  1.13it/s]"
     ]
    },
    {
     "name": "stdout",
     "output_type": "stream",
     "text": [
      "Attempt 1 failed: invalid syntax. Perhaps you forgot a comma? (<string>, line 1)\n",
      "Attempt 2 failed: invalid syntax. Perhaps you forgot a comma? (<string>, line 1)\n"
     ]
    },
    {
     "name": "stderr",
     "output_type": "stream",
     "text": [
      "Generating questions with gemma3:12b:  64%|██████▎   | 7861/12370 [1:44:43<57:47,  1.30it/s]  "
     ]
    },
    {
     "name": "stdout",
     "output_type": "stream",
     "text": [
      "Attempt 1 failed: invalid syntax. Perhaps you forgot a comma? (<string>, line 1)\n",
      "Attempt 2 failed: invalid syntax. Perhaps you forgot a comma? (<string>, line 1)\n",
      "Attempt 3 failed: invalid syntax. Perhaps you forgot a comma? (<string>, line 1)\n",
      "Attempt 4 failed: invalid syntax. Perhaps you forgot a comma? (<string>, line 1)\n"
     ]
    },
    {
     "name": "stderr",
     "output_type": "stream",
     "text": [
      "Generating questions with gemma3:12b:  64%|██████▎   | 7862/12370 [1:44:50<3:14:18,  2.59s/it]"
     ]
    },
    {
     "name": "stdout",
     "output_type": "stream",
     "text": [
      "Attempt 5 failed: invalid syntax. Perhaps you forgot a comma? (<string>, line 1)\n",
      "Failed to generate question after 5 attempts\n"
     ]
    },
    {
     "name": "stderr",
     "output_type": "stream",
     "text": [
      "Generating questions with gemma3:12b:  69%|██████▊   | 8498/12370 [1:52:25<44:51,  1.44it/s]  "
     ]
    },
    {
     "name": "stdout",
     "output_type": "stream",
     "text": [
      "Attempt 1 failed: invalid syntax. Perhaps you forgot a comma? (<string>, line 1)\n",
      "Attempt 2 failed: invalid syntax. Perhaps you forgot a comma? (<string>, line 1)\n",
      "Attempt 3 failed: unterminated string literal (detected at line 1) (<string>, line 1)\n"
     ]
    },
    {
     "name": "stderr",
     "output_type": "stream",
     "text": [
      "Generating questions with gemma3:12b:  69%|██████▉   | 8573/12370 [1:53:22<47:03,  1.35it/s]  <string>:1: SyntaxWarning: 'str' object is not callable; perhaps you missed a comma?\n"
     ]
    },
    {
     "name": "stdout",
     "output_type": "stream",
     "text": [
      "Attempt 1 failed: 'str' object is not callable\n"
     ]
    },
    {
     "name": "stderr",
     "output_type": "stream",
     "text": [
      "Generating questions with gemma3:12b:  71%|███████▏  | 8821/12370 [1:56:25<36:51,  1.60it/s]  <string>:1: SyntaxWarning: 'str' object is not callable; perhaps you missed a comma?\n"
     ]
    },
    {
     "name": "stdout",
     "output_type": "stream",
     "text": [
      "Attempt 1 failed: 'str' object is not callable\n"
     ]
    },
    {
     "name": "stderr",
     "output_type": "stream",
     "text": [
      "Generating questions with gemma3:12b:  72%|███████▏  | 8884/12370 [1:57:15<50:54,  1.14it/s]"
     ]
    },
    {
     "name": "stdout",
     "output_type": "stream",
     "text": [
      "Attempt 1 failed: invalid syntax. Perhaps you forgot a comma? (<string>, line 1)\n"
     ]
    },
    {
     "name": "stderr",
     "output_type": "stream",
     "text": [
      "Generating questions with gemma3:12b:  73%|███████▎  | 9000/12370 [1:58:42<36:19,  1.55it/s]  "
     ]
    },
    {
     "name": "stdout",
     "output_type": "stream",
     "text": [
      "Attempt 1 failed: invalid syntax. Perhaps you forgot a comma? (<string>, line 1)\n"
     ]
    },
    {
     "name": "stderr",
     "output_type": "stream",
     "text": [
      "Generating questions with gemma3:12b:  75%|███████▍  | 9222/12370 [2:01:29<38:37,  1.36it/s]"
     ]
    },
    {
     "name": "stdout",
     "output_type": "stream",
     "text": [
      "Attempt 1 failed: invalid syntax. Perhaps you forgot a comma? (<string>, line 1)\n"
     ]
    },
    {
     "name": "stderr",
     "output_type": "stream",
     "text": [
      "Generating questions with gemma3:12b:  75%|███████▍  | 9225/12370 [2:01:31<42:11,  1.24it/s]"
     ]
    },
    {
     "name": "stdout",
     "output_type": "stream",
     "text": [
      "Error communicating with Ollama: 500 Server Error: Internal Server Error for url: http://localhost:11434/api/generate\n",
      "Attempt 1 failed: eval() arg 1 must be a string, bytes or code object\n"
     ]
    },
    {
     "name": "stderr",
     "output_type": "stream",
     "text": [
      "Generating questions with gemma3:12b:  75%|███████▌  | 9279/12370 [2:02:16<41:06,  1.25it/s]  "
     ]
    },
    {
     "name": "stdout",
     "output_type": "stream",
     "text": [
      "Error communicating with Ollama: 500 Server Error: Internal Server Error for url: http://localhost:11434/api/generate\n",
      "Attempt 1 failed: eval() arg 1 must be a string, bytes or code object\n"
     ]
    },
    {
     "name": "stderr",
     "output_type": "stream",
     "text": [
      "Generating questions with gemma3:12b:  76%|███████▌  | 9409/12370 [2:03:57<27:49,  1.77it/s]  "
     ]
    },
    {
     "name": "stdout",
     "output_type": "stream",
     "text": [
      "Error communicating with Ollama: 500 Server Error: Internal Server Error for url: http://localhost:11434/api/generate\n",
      "Attempt 1 failed: eval() arg 1 must be a string, bytes or code object\n"
     ]
    },
    {
     "name": "stderr",
     "output_type": "stream",
     "text": [
      "Generating questions with gemma3:12b:  77%|███████▋  | 9545/12370 [2:05:43<32:16,  1.46it/s]  "
     ]
    },
    {
     "name": "stdout",
     "output_type": "stream",
     "text": [
      "Error communicating with Ollama: 500 Server Error: Internal Server Error for url: http://localhost:11434/api/generate\n",
      "Attempt 1 failed: eval() arg 1 must be a string, bytes or code object\n"
     ]
    },
    {
     "name": "stderr",
     "output_type": "stream",
     "text": [
      "Generating questions with gemma3:12b:  80%|███████▉  | 9840/12370 [2:09:26<31:36,  1.33it/s]  "
     ]
    },
    {
     "name": "stdout",
     "output_type": "stream",
     "text": [
      "Attempt 1 failed: invalid syntax. Perhaps you forgot a comma? (<string>, line 1)\n",
      "Attempt 2 failed: invalid syntax. Perhaps you forgot a comma? (<string>, line 1)\n",
      "Attempt 3 failed: invalid syntax. Perhaps you forgot a comma? (<string>, line 1)\n",
      "Attempt 4 failed: invalid syntax. Perhaps you forgot a comma? (<string>, line 1)\n"
     ]
    },
    {
     "name": "stderr",
     "output_type": "stream",
     "text": [
      "Generating questions with gemma3:12b:  80%|███████▉  | 9841/12370 [2:09:30<1:08:52,  1.63s/it]"
     ]
    },
    {
     "name": "stdout",
     "output_type": "stream",
     "text": [
      "Attempt 5 failed: invalid syntax. Perhaps you forgot a comma? (<string>, line 1)\n",
      "Failed to generate question after 5 attempts\n"
     ]
    },
    {
     "name": "stderr",
     "output_type": "stream",
     "text": [
      "Generating questions with gemma3:12b:  82%|████████▏ | 10138/12370 [2:13:12<30:04,  1.24it/s] "
     ]
    },
    {
     "name": "stdout",
     "output_type": "stream",
     "text": [
      "Attempt 1 failed: invalid syntax. Perhaps you forgot a comma? (<string>, line 1)\n",
      "Attempt 2 failed: invalid syntax. Perhaps you forgot a comma? (<string>, line 1)\n",
      "Attempt 3 failed: invalid syntax. Perhaps you forgot a comma? (<string>, line 1)\n",
      "Attempt 4 failed: invalid syntax. Perhaps you forgot a comma? (<string>, line 1)\n"
     ]
    },
    {
     "name": "stderr",
     "output_type": "stream",
     "text": [
      "Generating questions with gemma3:12b:  82%|████████▏ | 10139/12370 [2:13:17<1:09:29,  1.87s/it]"
     ]
    },
    {
     "name": "stdout",
     "output_type": "stream",
     "text": [
      "Attempt 5 failed: invalid syntax. Perhaps you forgot a comma? (<string>, line 1)\n",
      "Failed to generate question after 5 attempts\n"
     ]
    },
    {
     "name": "stderr",
     "output_type": "stream",
     "text": [
      "Generating questions with gemma3:12b:  83%|████████▎ | 10281/12370 [2:15:00<26:41,  1.30it/s]  "
     ]
    },
    {
     "name": "stdout",
     "output_type": "stream",
     "text": [
      "Attempt 1 failed: invalid syntax. Perhaps you forgot a comma? (<string>, line 1)\n"
     ]
    },
    {
     "name": "stderr",
     "output_type": "stream",
     "text": [
      "Generating questions with gemma3:12b:  83%|████████▎ | 10294/12370 [2:15:10<25:01,  1.38it/s]"
     ]
    },
    {
     "name": "stdout",
     "output_type": "stream",
     "text": [
      "Attempt 1 failed: invalid syntax. Perhaps you forgot a comma? (<string>, line 1)\n",
      "Attempt 2 failed: invalid syntax. Perhaps you forgot a comma? (<string>, line 1)\n",
      "Attempt 3 failed: invalid syntax. Perhaps you forgot a comma? (<string>, line 1)\n",
      "Attempt 4 failed: invalid syntax. Perhaps you forgot a comma? (<string>, line 1)\n"
     ]
    },
    {
     "name": "stderr",
     "output_type": "stream",
     "text": [
      "Generating questions with gemma3:12b:  83%|████████▎ | 10295/12370 [2:15:15<1:06:47,  1.93s/it]"
     ]
    },
    {
     "name": "stdout",
     "output_type": "stream",
     "text": [
      "Attempt 5 failed: invalid syntax. Perhaps you forgot a comma? (<string>, line 1)\n",
      "Failed to generate question after 5 attempts\n"
     ]
    },
    {
     "name": "stderr",
     "output_type": "stream",
     "text": [
      "Generating questions with gemma3:12b:  84%|████████▎ | 10346/12370 [2:15:51<25:35,  1.32it/s]  "
     ]
    },
    {
     "name": "stdout",
     "output_type": "stream",
     "text": [
      "Error communicating with Ollama: 500 Server Error: Internal Server Error for url: http://localhost:11434/api/generate\n",
      "Attempt 1 failed: eval() arg 1 must be a string, bytes or code object\n"
     ]
    },
    {
     "name": "stderr",
     "output_type": "stream",
     "text": [
      "Generating questions with gemma3:12b:  84%|████████▍ | 10405/12370 [2:16:40<21:32,  1.52it/s]  "
     ]
    },
    {
     "name": "stdout",
     "output_type": "stream",
     "text": [
      "Error communicating with Ollama: 500 Server Error: Internal Server Error for url: http://localhost:11434/api/generate\n",
      "Attempt 1 failed: eval() arg 1 must be a string, bytes or code object\n"
     ]
    },
    {
     "name": "stderr",
     "output_type": "stream",
     "text": [
      "Generating questions with gemma3:12b:  87%|████████▋ | 10823/12370 [2:21:57<22:28,  1.15it/s]  "
     ]
    },
    {
     "name": "stdout",
     "output_type": "stream",
     "text": [
      "Error communicating with Ollama: 500 Server Error: Internal Server Error for url: http://localhost:11434/api/generate\n",
      "Attempt 1 failed: eval() arg 1 must be a string, bytes or code object\n"
     ]
    },
    {
     "name": "stderr",
     "output_type": "stream",
     "text": [
      "Generating questions with gemma3:12b:  88%|████████▊ | 10869/12370 [2:22:39<17:34,  1.42it/s]  "
     ]
    },
    {
     "name": "stdout",
     "output_type": "stream",
     "text": [
      "Attempt 1 failed: unterminated string literal (detected at line 1) (<string>, line 1)\n"
     ]
    },
    {
     "name": "stderr",
     "output_type": "stream",
     "text": [
      "Generating questions with gemma3:12b:  93%|█████████▎| 11486/12370 [2:30:22<10:04,  1.46it/s]<string>:1: SyntaxWarning: 'str' object is not callable; perhaps you missed a comma?\n"
     ]
    },
    {
     "name": "stdout",
     "output_type": "stream",
     "text": [
      "Attempt 1 failed: 'str' object is not callable\n"
     ]
    },
    {
     "name": "stderr",
     "output_type": "stream",
     "text": [
      "<string>:1: SyntaxWarning: 'str' object is not callable; perhaps you missed a comma?\n"
     ]
    },
    {
     "name": "stdout",
     "output_type": "stream",
     "text": [
      "Attempt 2 failed: 'str' object is not callable\n"
     ]
    },
    {
     "name": "stderr",
     "output_type": "stream",
     "text": [
      "<string>:1: SyntaxWarning: 'str' object is not callable; perhaps you missed a comma?\n"
     ]
    },
    {
     "name": "stdout",
     "output_type": "stream",
     "text": [
      "Attempt 3 failed: 'str' object is not callable\n"
     ]
    },
    {
     "name": "stderr",
     "output_type": "stream",
     "text": [
      "<string>:1: SyntaxWarning: 'str' object is not callable; perhaps you missed a comma?\n"
     ]
    },
    {
     "name": "stdout",
     "output_type": "stream",
     "text": [
      "Attempt 4 failed: 'str' object is not callable\n"
     ]
    },
    {
     "name": "stderr",
     "output_type": "stream",
     "text": [
      "<string>:1: SyntaxWarning: 'str' object is not callable; perhaps you missed a comma?\n",
      "Generating questions with gemma3:12b:  93%|█████████▎| 11487/12370 [2:30:26<23:31,  1.60s/it]"
     ]
    },
    {
     "name": "stdout",
     "output_type": "stream",
     "text": [
      "Attempt 5 failed: 'str' object is not callable\n",
      "Failed to generate question after 5 attempts\n"
     ]
    },
    {
     "name": "stderr",
     "output_type": "stream",
     "text": [
      "Generating questions with gemma3:12b:  93%|█████████▎| 11488/12370 [2:30:26<20:38,  1.40s/it]"
     ]
    },
    {
     "name": "stdout",
     "output_type": "stream",
     "text": [
      "Error communicating with Ollama: 500 Server Error: Internal Server Error for url: http://localhost:11434/api/generate\n",
      "Attempt 1 failed: eval() arg 1 must be a string, bytes or code object\n"
     ]
    },
    {
     "name": "stderr",
     "output_type": "stream",
     "text": [
      "Generating questions with gemma3:12b:  93%|█████████▎| 11509/12370 [2:30:49<11:07,  1.29it/s]"
     ]
    },
    {
     "name": "stdout",
     "output_type": "stream",
     "text": [
      "Attempt 1 failed: invalid syntax. Perhaps you forgot a comma? (<string>, line 1)\n",
      "Attempt 2 failed: invalid syntax. Perhaps you forgot a comma? (<string>, line 1)\n"
     ]
    },
    {
     "name": "stderr",
     "output_type": "stream",
     "text": [
      "Generating questions with gemma3:12b:  94%|█████████▎| 11586/12370 [2:31:50<10:45,  1.21it/s]"
     ]
    },
    {
     "name": "stdout",
     "output_type": "stream",
     "text": [
      "Attempt 1 failed: invalid syntax. Perhaps you forgot a comma? (<string>, line 1)\n",
      "Attempt 2 failed: invalid syntax. Perhaps you forgot a comma? (<string>, line 1)\n",
      "Attempt 3 failed: invalid syntax. Perhaps you forgot a comma? (<string>, line 1)\n",
      "Attempt 4 failed: invalid syntax. Perhaps you forgot a comma? (<string>, line 1)\n"
     ]
    },
    {
     "name": "stderr",
     "output_type": "stream",
     "text": [
      "Generating questions with gemma3:12b:  94%|█████████▎| 11587/12370 [2:31:55<27:23,  2.10s/it]"
     ]
    },
    {
     "name": "stdout",
     "output_type": "stream",
     "text": [
      "Attempt 5 failed: invalid syntax. Perhaps you forgot a comma? (<string>, line 1)\n",
      "Failed to generate question after 5 attempts\n"
     ]
    },
    {
     "name": "stderr",
     "output_type": "stream",
     "text": [
      "Generating questions with gemma3:12b:  94%|█████████▍| 11615/12370 [2:32:16<09:39,  1.30it/s]"
     ]
    },
    {
     "name": "stdout",
     "output_type": "stream",
     "text": [
      "Attempt 1 failed: invalid syntax. Perhaps you forgot a comma? (<string>, line 1)\n",
      "Attempt 2 failed: invalid syntax. Perhaps you forgot a comma? (<string>, line 1)\n"
     ]
    },
    {
     "name": "stderr",
     "output_type": "stream",
     "text": [
      "Generating questions with gemma3:12b:  94%|█████████▍| 11627/12370 [2:32:26<08:36,  1.44it/s]"
     ]
    },
    {
     "name": "stdout",
     "output_type": "stream",
     "text": [
      "Attempt 1 failed: invalid syntax. Perhaps you forgot a comma? (<string>, line 1)\n"
     ]
    },
    {
     "name": "stderr",
     "output_type": "stream",
     "text": [
      "Generating questions with gemma3:12b:  96%|█████████▌| 11863/12370 [2:35:37<06:30,  1.30it/s]"
     ]
    },
    {
     "name": "stdout",
     "output_type": "stream",
     "text": [
      "Error communicating with Ollama: 500 Server Error: Internal Server Error for url: http://localhost:11434/api/generate\n",
      "Attempt 1 failed: eval() arg 1 must be a string, bytes or code object\n"
     ]
    },
    {
     "name": "stderr",
     "output_type": "stream",
     "text": [
      "Generating questions with gemma3:12b:  96%|█████████▌| 11890/12370 [2:36:09<06:55,  1.16it/s]<string>:1: SyntaxWarning: 'str' object is not callable; perhaps you missed a comma?\n"
     ]
    },
    {
     "name": "stdout",
     "output_type": "stream",
     "text": [
      "Attempt 1 failed: 'str' object is not callable\n"
     ]
    },
    {
     "name": "stderr",
     "output_type": "stream",
     "text": [
      "Generating questions with gemma3:12b:  98%|█████████▊| 12107/12370 [2:39:25<02:28,  1.77it/s]"
     ]
    },
    {
     "name": "stdout",
     "output_type": "stream",
     "text": [
      "Attempt 1 failed: unterminated string literal (detected at line 1) (<string>, line 1)\n",
      "Attempt 2 failed: unterminated string literal (detected at line 1) (<string>, line 1)\n"
     ]
    },
    {
     "name": "stderr",
     "output_type": "stream",
     "text": [
      "Generating questions with gemma3:12b:  99%|█████████▉| 12232/12370 [2:41:06<01:45,  1.30it/s]"
     ]
    },
    {
     "name": "stdout",
     "output_type": "stream",
     "text": [
      "Error communicating with Ollama: 500 Server Error: Internal Server Error for url: http://localhost:11434/api/generate\n",
      "Attempt 1 failed: eval() arg 1 must be a string, bytes or code object\n"
     ]
    },
    {
     "name": "stderr",
     "output_type": "stream",
     "text": [
      "Generating questions with gemma3:12b: 100%|█████████▉| 12323/12370 [2:42:31<00:40,  1.17it/s]"
     ]
    },
    {
     "name": "stdout",
     "output_type": "stream",
     "text": [
      "Attempt 1 failed: invalid syntax. Perhaps you forgot a comma? (<string>, line 1)\n",
      "Attempt 2 failed: invalid syntax. Perhaps you forgot a comma? (<string>, line 1)\n",
      "Attempt 3 failed: invalid syntax. Perhaps you forgot a comma? (<string>, line 1)\n",
      "Attempt 4 failed: invalid syntax. Perhaps you forgot a comma? (<string>, line 1)\n"
     ]
    },
    {
     "name": "stderr",
     "output_type": "stream",
     "text": [
      "Generating questions with gemma3:12b: 100%|█████████▉| 12328/12370 [2:42:40<00:50,  1.21s/it]"
     ]
    },
    {
     "name": "stdout",
     "output_type": "stream",
     "text": [
      "Error communicating with Ollama: 500 Server Error: Internal Server Error for url: http://localhost:11434/api/generate\n",
      "Attempt 1 failed: eval() arg 1 must be a string, bytes or code object\n"
     ]
    },
    {
     "name": "stderr",
     "output_type": "stream",
     "text": [
      "Generating questions with gemma3:12b: 100%|██████████| 12370/12370 [2:43:25<00:00,  1.26it/s]\n"
     ]
    },
    {
     "data": {
      "text/html": [
       "<div>\n",
       "<style scoped>\n",
       "    .dataframe tbody tr th:only-of-type {\n",
       "        vertical-align: middle;\n",
       "    }\n",
       "\n",
       "    .dataframe tbody tr th {\n",
       "        vertical-align: top;\n",
       "    }\n",
       "\n",
       "    .dataframe thead th {\n",
       "        text-align: right;\n",
       "    }\n",
       "</style>\n",
       "<table border=\"1\" class=\"dataframe\">\n",
       "  <thead>\n",
       "    <tr style=\"text-align: right;\">\n",
       "      <th></th>\n",
       "      <th>source</th>\n",
       "      <th>text</th>\n",
       "      <th>llama3.2_question_text</th>\n",
       "      <th>llama3.2_answer</th>\n",
       "      <th>gemma3:12b_question</th>\n",
       "      <th>gemma3:12b_answer</th>\n",
       "    </tr>\n",
       "  </thead>\n",
       "  <tbody>\n",
       "    <tr>\n",
       "      <th>0</th>\n",
       "      <td>https://www.heinzhistorycenter.org/event/irish...</td>\n",
       "      <td>Skip Main NavigationSkip to site alert\\nHeinz ...</td>\n",
       "      <td>What is the date of the Irish Genealogy Workshop?</td>\n",
       "      <td>Tuesday, Mar. 4, 2025</td>\n",
       "      <td>What dates will the one-on-one consultation se...</td>\n",
       "      <td>The individual, one-on-one consultation sessio...</td>\n",
       "    </tr>\n",
       "    <tr>\n",
       "      <th>1</th>\n",
       "      <td>https://www.heinzhistorycenter.org/event/one-o...</td>\n",
       "      <td>Skip Main NavigationSkip to site alert\\nHeinz ...</td>\n",
       "      <td>What is a personal consultation with the Ulste...</td>\n",
       "      <td>A 30-minute consultation session where you wil...</td>\n",
       "      <td>What is the cost of a single 30-minute consult...</td>\n",
       "      <td>Each 30-minute consultation session is priced ...</td>\n",
       "    </tr>\n",
       "    <tr>\n",
       "      <th>2</th>\n",
       "      <td>https://www.heinzhistorycenter.org/event/histo...</td>\n",
       "      <td>Skip Main NavigationSkip to site alert\\nHeinz ...</td>\n",
       "      <td>When does History Uncorked: Mirror Ball take p...</td>\n",
       "      <td>Friday, Mar. 7, 2025</td>\n",
       "      <td>What is the date and time of the History Uncor...</td>\n",
       "      <td>History Uncorked: Mirror Ball will be held on ...</td>\n",
       "    </tr>\n",
       "    <tr>\n",
       "      <th>3</th>\n",
       "      <td>https://www.heinzhistorycenter.org/event/speak...</td>\n",
       "      <td>Skip Main NavigationSkip to site alert\\nHeinz ...</td>\n",
       "      <td>What is the title of Jason A. Cherry</td>\n",
       "      <td>Factor of Ambition</td>\n",
       "      <td>When will Jason A. Cherry's lecture on 'Willia...</td>\n",
       "      <td>Jason A. Cherry’s lecture will take place on S...</td>\n",
       "    </tr>\n",
       "    <tr>\n",
       "      <th>4</th>\n",
       "      <td>https://www.heinzhistorycenter.org/event/gut-y...</td>\n",
       "      <td>Skip Main NavigationSkip to site alert\\nHeinz ...</td>\n",
       "      <td>What does Gut Yontif mean?</td>\n",
       "      <td>Have a good holiday!</td>\n",
       "      <td>What does the Yiddish greeting 'Gut Yontif' me...</td>\n",
       "      <td>According to the text, 'Gut Yontif' is a Yiddi...</td>\n",
       "    </tr>\n",
       "    <tr>\n",
       "      <th>...</th>\n",
       "      <td>...</td>\n",
       "      <td>...</td>\n",
       "      <td>...</td>\n",
       "      <td>...</td>\n",
       "      <td>...</td>\n",
       "      <td>...</td>\n",
       "    </tr>\n",
       "    <tr>\n",
       "      <th>12365</th>\n",
       "      <td>2024_Operating_Budget.pdf</td>\n",
       "      <td>Anticipated 2028 Issuance ($49 million plus 1%...</td>\n",
       "      <td>('What is the City of Pittsburgh Operating Bud...</td>\n",
       "      <td>NaN</td>\n",
       "      <td>What is the amount of debt service for the Cit...</td>\n",
       "      <td>The City of Pittsburgh Operating Budget for Fi...</td>\n",
       "    </tr>\n",
       "    <tr>\n",
       "      <th>12366</th>\n",
       "      <td>2024_Operating_Budget.pdf</td>\n",
       "      <td>Pension Funding 318</td>\n",
       "      <td>(\"What is Pension Funding 318?\", \"A report on ...</td>\n",
       "      <td>NaN</td>\n",
       "      <td>What is the title of the text chunk provided?</td>\n",
       "      <td>The text chunk is titled 'Pension Funding 318'.</td>\n",
       "    </tr>\n",
       "    <tr>\n",
       "      <th>12367</th>\n",
       "      <td>2024_Operating_Budget.pdf</td>\n",
       "      <td>City of Pittsburgh Operating Budget  Fiscal Ye...</td>\n",
       "      <td>(\"What is the Pension Funding for City of Pitt...</td>\n",
       "      <td>NaN</td>\n",
       "      <td>What is the subject of document 319 within the...</td>\n",
       "      <td>Document 319 within the City of Pittsburgh Ope...</td>\n",
       "    </tr>\n",
       "    <tr>\n",
       "      <th>12368</th>\n",
       "      <td>2024_Operating_Budget.pdf</td>\n",
       "      <td>City of Pittsburgh Operating Budget  Fiscal Ye...</td>\n",
       "      <td>(\"Pension Funding in City of Pittsburgh Operat...</td>\n",
       "      <td>NaN</td>\n",
       "      <td>What is the subject of the City of Pittsburgh'...</td>\n",
       "      <td>The City of Pittsburgh Operating Budget for Fi...</td>\n",
       "    </tr>\n",
       "    <tr>\n",
       "      <th>12369</th>\n",
       "      <td>2024_Operating_Budget.pdf</td>\n",
       "      <td>City of Pittsburgh Operating Budget  Fiscal Ye...</td>\n",
       "      <td>(\"What is the total pension funding for City o...</td>\n",
       "      <td>NaN</td>\n",
       "      <td>What is the subject of document number 321 wit...</td>\n",
       "      <td>Document number 321 within the City of Pittsbu...</td>\n",
       "    </tr>\n",
       "  </tbody>\n",
       "</table>\n",
       "<p>12370 rows × 6 columns</p>\n",
       "</div>"
      ],
      "text/plain": [
       "                                                  source  \\\n",
       "0      https://www.heinzhistorycenter.org/event/irish...   \n",
       "1      https://www.heinzhistorycenter.org/event/one-o...   \n",
       "2      https://www.heinzhistorycenter.org/event/histo...   \n",
       "3      https://www.heinzhistorycenter.org/event/speak...   \n",
       "4      https://www.heinzhistorycenter.org/event/gut-y...   \n",
       "...                                                  ...   \n",
       "12365                          2024_Operating_Budget.pdf   \n",
       "12366                          2024_Operating_Budget.pdf   \n",
       "12367                          2024_Operating_Budget.pdf   \n",
       "12368                          2024_Operating_Budget.pdf   \n",
       "12369                          2024_Operating_Budget.pdf   \n",
       "\n",
       "                                                    text  \\\n",
       "0      Skip Main NavigationSkip to site alert\\nHeinz ...   \n",
       "1      Skip Main NavigationSkip to site alert\\nHeinz ...   \n",
       "2      Skip Main NavigationSkip to site alert\\nHeinz ...   \n",
       "3      Skip Main NavigationSkip to site alert\\nHeinz ...   \n",
       "4      Skip Main NavigationSkip to site alert\\nHeinz ...   \n",
       "...                                                  ...   \n",
       "12365  Anticipated 2028 Issuance ($49 million plus 1%...   \n",
       "12366                                Pension Funding 318   \n",
       "12367  City of Pittsburgh Operating Budget  Fiscal Ye...   \n",
       "12368  City of Pittsburgh Operating Budget  Fiscal Ye...   \n",
       "12369  City of Pittsburgh Operating Budget  Fiscal Ye...   \n",
       "\n",
       "                                  llama3.2_question_text  \\\n",
       "0      What is the date of the Irish Genealogy Workshop?   \n",
       "1      What is a personal consultation with the Ulste...   \n",
       "2      When does History Uncorked: Mirror Ball take p...   \n",
       "3                   What is the title of Jason A. Cherry   \n",
       "4                             What does Gut Yontif mean?   \n",
       "...                                                  ...   \n",
       "12365  ('What is the City of Pittsburgh Operating Bud...   \n",
       "12366  (\"What is Pension Funding 318?\", \"A report on ...   \n",
       "12367  (\"What is the Pension Funding for City of Pitt...   \n",
       "12368  (\"Pension Funding in City of Pittsburgh Operat...   \n",
       "12369  (\"What is the total pension funding for City o...   \n",
       "\n",
       "                                         llama3.2_answer  \\\n",
       "0                                  Tuesday, Mar. 4, 2025   \n",
       "1      A 30-minute consultation session where you wil...   \n",
       "2                                   Friday, Mar. 7, 2025   \n",
       "3                                     Factor of Ambition   \n",
       "4                                   Have a good holiday!   \n",
       "...                                                  ...   \n",
       "12365                                                NaN   \n",
       "12366                                                NaN   \n",
       "12367                                                NaN   \n",
       "12368                                                NaN   \n",
       "12369                                                NaN   \n",
       "\n",
       "                                     gemma3:12b_question  \\\n",
       "0      What dates will the one-on-one consultation se...   \n",
       "1      What is the cost of a single 30-minute consult...   \n",
       "2      What is the date and time of the History Uncor...   \n",
       "3      When will Jason A. Cherry's lecture on 'Willia...   \n",
       "4      What does the Yiddish greeting 'Gut Yontif' me...   \n",
       "...                                                  ...   \n",
       "12365  What is the amount of debt service for the Cit...   \n",
       "12366      What is the title of the text chunk provided?   \n",
       "12367  What is the subject of document 319 within the...   \n",
       "12368  What is the subject of the City of Pittsburgh'...   \n",
       "12369  What is the subject of document number 321 wit...   \n",
       "\n",
       "                                       gemma3:12b_answer  \n",
       "0      The individual, one-on-one consultation sessio...  \n",
       "1      Each 30-minute consultation session is priced ...  \n",
       "2      History Uncorked: Mirror Ball will be held on ...  \n",
       "3      Jason A. Cherry’s lecture will take place on S...  \n",
       "4      According to the text, 'Gut Yontif' is a Yiddi...  \n",
       "...                                                  ...  \n",
       "12365  The City of Pittsburgh Operating Budget for Fi...  \n",
       "12366    The text chunk is titled 'Pension Funding 318'.  \n",
       "12367  Document 319 within the City of Pittsburgh Ope...  \n",
       "12368  The City of Pittsburgh Operating Budget for Fi...  \n",
       "12369  Document number 321 within the City of Pittsbu...  \n",
       "\n",
       "[12370 rows x 6 columns]"
      ]
     },
     "execution_count": 31,
     "metadata": {},
     "output_type": "execute_result"
    }
   ],
   "source": [
    "generate_questions_for_dataset(df, model_name=\"gemma3:12b\", save_path=\"all_combined_gemma3.csv\")"
   ]
  },
  {
   "cell_type": "code",
   "execution_count": 34,
   "metadata": {},
   "outputs": [],
   "source": [
    "# generate_questions_for_dataset(df, model_name=\"deepseek-r1\", save_path=\"all_combined_R1.csv\")"
   ]
  },
  {
   "cell_type": "code",
   "execution_count": 32,
   "metadata": {},
   "outputs": [
    {
     "data": {
      "text/html": [
       "<div>\n",
       "<style scoped>\n",
       "    .dataframe tbody tr th:only-of-type {\n",
       "        vertical-align: middle;\n",
       "    }\n",
       "\n",
       "    .dataframe tbody tr th {\n",
       "        vertical-align: top;\n",
       "    }\n",
       "\n",
       "    .dataframe thead th {\n",
       "        text-align: right;\n",
       "    }\n",
       "</style>\n",
       "<table border=\"1\" class=\"dataframe\">\n",
       "  <thead>\n",
       "    <tr style=\"text-align: right;\">\n",
       "      <th></th>\n",
       "      <th>source</th>\n",
       "      <th>text</th>\n",
       "      <th>llama3.2_question_text</th>\n",
       "      <th>llama3.2_answer</th>\n",
       "      <th>gemma3:12b_question</th>\n",
       "      <th>gemma3:12b_answer</th>\n",
       "    </tr>\n",
       "  </thead>\n",
       "  <tbody>\n",
       "    <tr>\n",
       "      <th>0</th>\n",
       "      <td>https://www.heinzhistorycenter.org/event/irish...</td>\n",
       "      <td>Skip Main NavigationSkip to site alert\\nHeinz ...</td>\n",
       "      <td>What is the date of the Irish Genealogy Workshop?</td>\n",
       "      <td>Tuesday, Mar. 4, 2025</td>\n",
       "      <td>What dates will the one-on-one consultation se...</td>\n",
       "      <td>The individual, one-on-one consultation sessio...</td>\n",
       "    </tr>\n",
       "    <tr>\n",
       "      <th>1</th>\n",
       "      <td>https://www.heinzhistorycenter.org/event/one-o...</td>\n",
       "      <td>Skip Main NavigationSkip to site alert\\nHeinz ...</td>\n",
       "      <td>What is a personal consultation with the Ulste...</td>\n",
       "      <td>A 30-minute consultation session where you wil...</td>\n",
       "      <td>What is the cost of a single 30-minute consult...</td>\n",
       "      <td>Each 30-minute consultation session is priced ...</td>\n",
       "    </tr>\n",
       "    <tr>\n",
       "      <th>2</th>\n",
       "      <td>https://www.heinzhistorycenter.org/event/histo...</td>\n",
       "      <td>Skip Main NavigationSkip to site alert\\nHeinz ...</td>\n",
       "      <td>When does History Uncorked: Mirror Ball take p...</td>\n",
       "      <td>Friday, Mar. 7, 2025</td>\n",
       "      <td>What is the date and time of the History Uncor...</td>\n",
       "      <td>History Uncorked: Mirror Ball will be held on ...</td>\n",
       "    </tr>\n",
       "    <tr>\n",
       "      <th>3</th>\n",
       "      <td>https://www.heinzhistorycenter.org/event/speak...</td>\n",
       "      <td>Skip Main NavigationSkip to site alert\\nHeinz ...</td>\n",
       "      <td>What is the title of Jason A. Cherry</td>\n",
       "      <td>Factor of Ambition</td>\n",
       "      <td>When will Jason A. Cherry's lecture on 'Willia...</td>\n",
       "      <td>Jason A. Cherry’s lecture will take place on S...</td>\n",
       "    </tr>\n",
       "    <tr>\n",
       "      <th>4</th>\n",
       "      <td>https://www.heinzhistorycenter.org/event/gut-y...</td>\n",
       "      <td>Skip Main NavigationSkip to site alert\\nHeinz ...</td>\n",
       "      <td>What does Gut Yontif mean?</td>\n",
       "      <td>Have a good holiday!</td>\n",
       "      <td>What does the Yiddish greeting 'Gut Yontif' me...</td>\n",
       "      <td>According to the text, 'Gut Yontif' is a Yiddi...</td>\n",
       "    </tr>\n",
       "  </tbody>\n",
       "</table>\n",
       "</div>"
      ],
      "text/plain": [
       "                                              source  \\\n",
       "0  https://www.heinzhistorycenter.org/event/irish...   \n",
       "1  https://www.heinzhistorycenter.org/event/one-o...   \n",
       "2  https://www.heinzhistorycenter.org/event/histo...   \n",
       "3  https://www.heinzhistorycenter.org/event/speak...   \n",
       "4  https://www.heinzhistorycenter.org/event/gut-y...   \n",
       "\n",
       "                                                text  \\\n",
       "0  Skip Main NavigationSkip to site alert\\nHeinz ...   \n",
       "1  Skip Main NavigationSkip to site alert\\nHeinz ...   \n",
       "2  Skip Main NavigationSkip to site alert\\nHeinz ...   \n",
       "3  Skip Main NavigationSkip to site alert\\nHeinz ...   \n",
       "4  Skip Main NavigationSkip to site alert\\nHeinz ...   \n",
       "\n",
       "                              llama3.2_question_text  \\\n",
       "0  What is the date of the Irish Genealogy Workshop?   \n",
       "1  What is a personal consultation with the Ulste...   \n",
       "2  When does History Uncorked: Mirror Ball take p...   \n",
       "3               What is the title of Jason A. Cherry   \n",
       "4                         What does Gut Yontif mean?   \n",
       "\n",
       "                                     llama3.2_answer  \\\n",
       "0                              Tuesday, Mar. 4, 2025   \n",
       "1  A 30-minute consultation session where you wil...   \n",
       "2                               Friday, Mar. 7, 2025   \n",
       "3                                 Factor of Ambition   \n",
       "4                               Have a good holiday!   \n",
       "\n",
       "                                 gemma3:12b_question  \\\n",
       "0  What dates will the one-on-one consultation se...   \n",
       "1  What is the cost of a single 30-minute consult...   \n",
       "2  What is the date and time of the History Uncor...   \n",
       "3  When will Jason A. Cherry's lecture on 'Willia...   \n",
       "4  What does the Yiddish greeting 'Gut Yontif' me...   \n",
       "\n",
       "                                   gemma3:12b_answer  \n",
       "0  The individual, one-on-one consultation sessio...  \n",
       "1  Each 30-minute consultation session is priced ...  \n",
       "2  History Uncorked: Mirror Ball will be held on ...  \n",
       "3  Jason A. Cherry’s lecture will take place on S...  \n",
       "4  According to the text, 'Gut Yontif' is a Yiddi...  "
      ]
     },
     "execution_count": 32,
     "metadata": {},
     "output_type": "execute_result"
    }
   ],
   "source": [
    "df = pd.read_csv(\"all_combined_gemma3.csv\", lineterminator='\\n')\n",
    "df.head()"
   ]
  },
  {
   "cell_type": "code",
   "execution_count": 33,
   "metadata": {},
   "outputs": [
    {
     "name": "stdout",
     "output_type": "stream",
     "text": [
      "Original dataframe shape: (12370, 6)\n",
      "Filtered dataframe shape: (12352, 6)\n"
     ]
    },
    {
     "data": {
      "text/html": [
       "<div>\n",
       "<style scoped>\n",
       "    .dataframe tbody tr th:only-of-type {\n",
       "        vertical-align: middle;\n",
       "    }\n",
       "\n",
       "    .dataframe tbody tr th {\n",
       "        vertical-align: top;\n",
       "    }\n",
       "\n",
       "    .dataframe thead th {\n",
       "        text-align: right;\n",
       "    }\n",
       "</style>\n",
       "<table border=\"1\" class=\"dataframe\">\n",
       "  <thead>\n",
       "    <tr style=\"text-align: right;\">\n",
       "      <th></th>\n",
       "      <th>source</th>\n",
       "      <th>text</th>\n",
       "      <th>llama3.2_question_text</th>\n",
       "      <th>llama3.2_answer</th>\n",
       "      <th>gemma3:12b_question</th>\n",
       "      <th>gemma3:12b_answer</th>\n",
       "    </tr>\n",
       "  </thead>\n",
       "  <tbody>\n",
       "    <tr>\n",
       "      <th>0</th>\n",
       "      <td>https://www.heinzhistorycenter.org/event/irish...</td>\n",
       "      <td>Skip Main NavigationSkip to site alert\\nHeinz ...</td>\n",
       "      <td>What is the date of the Irish Genealogy Workshop?</td>\n",
       "      <td>Tuesday, Mar. 4, 2025</td>\n",
       "      <td>What dates will the one-on-one consultation se...</td>\n",
       "      <td>The individual, one-on-one consultation sessio...</td>\n",
       "    </tr>\n",
       "    <tr>\n",
       "      <th>1</th>\n",
       "      <td>https://www.heinzhistorycenter.org/event/one-o...</td>\n",
       "      <td>Skip Main NavigationSkip to site alert\\nHeinz ...</td>\n",
       "      <td>What is a personal consultation with the Ulste...</td>\n",
       "      <td>A 30-minute consultation session where you wil...</td>\n",
       "      <td>What is the cost of a single 30-minute consult...</td>\n",
       "      <td>Each 30-minute consultation session is priced ...</td>\n",
       "    </tr>\n",
       "    <tr>\n",
       "      <th>2</th>\n",
       "      <td>https://www.heinzhistorycenter.org/event/histo...</td>\n",
       "      <td>Skip Main NavigationSkip to site alert\\nHeinz ...</td>\n",
       "      <td>When does History Uncorked: Mirror Ball take p...</td>\n",
       "      <td>Friday, Mar. 7, 2025</td>\n",
       "      <td>What is the date and time of the History Uncor...</td>\n",
       "      <td>History Uncorked: Mirror Ball will be held on ...</td>\n",
       "    </tr>\n",
       "    <tr>\n",
       "      <th>3</th>\n",
       "      <td>https://www.heinzhistorycenter.org/event/speak...</td>\n",
       "      <td>Skip Main NavigationSkip to site alert\\nHeinz ...</td>\n",
       "      <td>What is the title of Jason A. Cherry</td>\n",
       "      <td>Factor of Ambition</td>\n",
       "      <td>When will Jason A. Cherry's lecture on 'Willia...</td>\n",
       "      <td>Jason A. Cherry’s lecture will take place on S...</td>\n",
       "    </tr>\n",
       "    <tr>\n",
       "      <th>4</th>\n",
       "      <td>https://www.heinzhistorycenter.org/event/gut-y...</td>\n",
       "      <td>Skip Main NavigationSkip to site alert\\nHeinz ...</td>\n",
       "      <td>What does Gut Yontif mean?</td>\n",
       "      <td>Have a good holiday!</td>\n",
       "      <td>What does the Yiddish greeting 'Gut Yontif' me...</td>\n",
       "      <td>According to the text, 'Gut Yontif' is a Yiddi...</td>\n",
       "    </tr>\n",
       "  </tbody>\n",
       "</table>\n",
       "</div>"
      ],
      "text/plain": [
       "                                              source  \\\n",
       "0  https://www.heinzhistorycenter.org/event/irish...   \n",
       "1  https://www.heinzhistorycenter.org/event/one-o...   \n",
       "2  https://www.heinzhistorycenter.org/event/histo...   \n",
       "3  https://www.heinzhistorycenter.org/event/speak...   \n",
       "4  https://www.heinzhistorycenter.org/event/gut-y...   \n",
       "\n",
       "                                                text  \\\n",
       "0  Skip Main NavigationSkip to site alert\\nHeinz ...   \n",
       "1  Skip Main NavigationSkip to site alert\\nHeinz ...   \n",
       "2  Skip Main NavigationSkip to site alert\\nHeinz ...   \n",
       "3  Skip Main NavigationSkip to site alert\\nHeinz ...   \n",
       "4  Skip Main NavigationSkip to site alert\\nHeinz ...   \n",
       "\n",
       "                              llama3.2_question_text  \\\n",
       "0  What is the date of the Irish Genealogy Workshop?   \n",
       "1  What is a personal consultation with the Ulste...   \n",
       "2  When does History Uncorked: Mirror Ball take p...   \n",
       "3               What is the title of Jason A. Cherry   \n",
       "4                         What does Gut Yontif mean?   \n",
       "\n",
       "                                     llama3.2_answer  \\\n",
       "0                              Tuesday, Mar. 4, 2025   \n",
       "1  A 30-minute consultation session where you wil...   \n",
       "2                               Friday, Mar. 7, 2025   \n",
       "3                                 Factor of Ambition   \n",
       "4                               Have a good holiday!   \n",
       "\n",
       "                                 gemma3:12b_question  \\\n",
       "0  What dates will the one-on-one consultation se...   \n",
       "1  What is the cost of a single 30-minute consult...   \n",
       "2  What is the date and time of the History Uncor...   \n",
       "3  When will Jason A. Cherry's lecture on 'Willia...   \n",
       "4  What does the Yiddish greeting 'Gut Yontif' me...   \n",
       "\n",
       "                                   gemma3:12b_answer  \n",
       "0  The individual, one-on-one consultation sessio...  \n",
       "1  Each 30-minute consultation session is priced ...  \n",
       "2  History Uncorked: Mirror Ball will be held on ...  \n",
       "3  Jason A. Cherry’s lecture will take place on S...  \n",
       "4  According to the text, 'Gut Yontif' is a Yiddi...  "
      ]
     },
     "execution_count": 33,
     "metadata": {},
     "output_type": "execute_result"
    }
   ],
   "source": [
    "# Filter out rows with NaN values in gemma3:12b_question or gemma3:12b_answer columns\n",
    "df_filtered = df.dropna(subset=['gemma3:12b_question', 'gemma3:12b_answer'])\n",
    "\n",
    "# Display the filtered dataframe\n",
    "print(f\"Original dataframe shape: {df.shape}\")\n",
    "print(f\"Filtered dataframe shape: {df_filtered.shape}\")\n",
    "df_filtered.head()\n"
   ]
  },
  {
   "cell_type": "code",
   "execution_count": null,
   "metadata": {},
   "outputs": [],
   "source": []
  }
 ],
 "metadata": {
  "kernelspec": {
   "display_name": "anlp_hw2",
   "language": "python",
   "name": "python3"
  },
  "language_info": {
   "codemirror_mode": {
    "name": "ipython",
    "version": 3
   },
   "file_extension": ".py",
   "mimetype": "text/x-python",
   "name": "python",
   "nbconvert_exporter": "python",
   "pygments_lexer": "ipython3",
   "version": "3.11.11"
  }
 },
 "nbformat": 4,
 "nbformat_minor": 2
}
