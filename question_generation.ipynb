{
 "cells": [
  {
   "cell_type": "code",
   "execution_count": 24,
   "metadata": {},
   "outputs": [],
   "source": [
    "import requests\n",
    "import json\n",
    "\n",
    "def generate_question(chunk, model_name=\"llama3.2\"):\n",
    "    \"\"\"\n",
    "    Generate a single question-answer pair from a given text chunk using an Ollama model.\n",
    "    \n",
    "    Args:\n",
    "        chunk (str): The text chunk to generate a QA pair from\n",
    "        model_name (str): The name of the Ollama model to use (default: \"llama3.2\")\n",
    "        \n",
    "    Returns:\n",
    "        str: Generated question-answer pair in tuple format\n",
    "    \"\"\"\n",
    "    # Ollama API endpoint (default is localhost on port 11434)\n",
    "    api_url = \"http://localhost:11434/api/generate\"\n",
    "    \n",
    "    # Create the prompt for question and answer generation\n",
    "    prompt = f\"\"\"\n",
    "    You are an expert question-answer pair generator. Your task is to create exactly ONE high-quality question and its corresponding answer based on the provided text chunk.\n",
    "\n",
    "    TEXT CHUNK:\n",
    "    {chunk}\n",
    "\n",
    "    INSTRUCTIONS:\n",
    "    1. Generate ONE question-answer pair that captures key information from the text chunk.\n",
    "    2. The answer must be comprehensive, accurate, and fully supported by the text.\n",
    "    3. The answer should be 1 sentence long - informative but concise.\n",
    "    4. The question should belong to one of these categories:\n",
    "       - Basic factual questions (e.g., \"When was Carnegie Mellon University founded?\")\n",
    "       - Document-enhanced questions that benefit from specific textual context (e.g., \"What is the name of the annual pickle festival held in Pittsburgh?\")\n",
    "       - Specific information questions that require exact details from the text (e.g., \"When was the Pittsburgh Soul Food Festival established?\")\n",
    "       - Time-sensitive questions related to events, schedules, or dates (e.g., \"Who is performing at City Theatre on May 15th?\")\n",
    "    5. Vary the question types across different chunks to ensure diversity.\n",
    "    \n",
    "    OUTPUT FORMAT:\n",
    "    Return ONLY a Python tuple with proper formatting: (\"Question text\", \"Answer text\")\n",
    "    - Include proper quotes and parentheses\n",
    "    - No explanations, comments, or additional text\n",
    "    - No numbering or prefixes\n",
    "    \n",
    "    Generate a question-answer pair now:\n",
    "    \"\"\"\n",
    "    \n",
    "    # Prepare the request payload\n",
    "    payload = {\n",
    "        \"model\": model_name,\n",
    "        \"prompt\": prompt,\n",
    "        \"stream\": False\n",
    "    }\n",
    "    \n",
    "    try:\n",
    "        # Make the API request to Ollama\n",
    "        response = requests.post(api_url, json=payload)\n",
    "        response.raise_for_status()  # Raise exception for HTTP errors\n",
    "        \n",
    "        # Parse the response\n",
    "        result = response.json()\n",
    "        return result[\"response\"].strip()\n",
    "    \n",
    "    except requests.exceptions.RequestException as e:\n",
    "        print(f\"Error communicating with Ollama: {e}\")\n",
    "        return None\n",
    "    except (KeyError, json.JSONDecodeError) as e:\n",
    "        print(f\"Error processing Ollama response: {e}\")\n",
    "        return None"
   ]
  },
  {
   "cell_type": "code",
   "execution_count": 25,
   "metadata": {},
   "outputs": [
    {
     "name": "stdout",
     "output_type": "stream",
     "text": [
      "(\"Where did the Los Angeles Dodgers play the World Series in 2020?\", \"The Los Angeles Dodgers played the World Series in 2020 in Arlington, Texas, at Globe Life Field due to the COVID-19 pandemic.\")\n"
     ]
    }
   ],
   "source": [
    "chunk = \"The Los Angeles Dodgers won the World Series in 2020. The games were played in Arlington, Texas, at Globe Life Field due to the COVID-19 pandemic.\"\n",
    "\n",
    "questions = generate_question(chunk, model_name=\"gemma3:12b\")\n",
    "print(questions)"
   ]
  },
  {
   "cell_type": "code",
   "execution_count": 14,
   "metadata": {},
   "outputs": [
    {
     "data": {
      "text/plain": [
       "('What year did the Los Angeles Dodgers win the World Series?',\n",
       " 'The Los Angeles Dodgers won the World Series in 2020.')"
      ]
     },
     "execution_count": 14,
     "metadata": {},
     "output_type": "execute_result"
    }
   ],
   "source": [
    "import re\n",
    "tuple_match = re.search(r'\\(\\\".*?\\\", \\\".*?\\\"\\)', questions)\n",
    "tuple_str = tuple_match.group(0)\n",
    "tuple_str\n",
    "eval(tuple_str)"
   ]
  },
  {
   "cell_type": "code",
   "execution_count": 68,
   "metadata": {},
   "outputs": [],
   "source": [
    "# questions.strip().split(\"\\n\")"
   ]
  },
  {
   "cell_type": "code",
   "execution_count": 21,
   "metadata": {},
   "outputs": [
    {
     "name": "stdout",
     "output_type": "stream",
     "text": [
      "12370\n"
     ]
    }
   ],
   "source": [
    "## read csv file\n",
    "import pandas as pd\n",
    "from tqdm import tqdm\n",
    "df = pd.read_csv(\"all_combined.csv\", lineterminator='\\n')\n",
    "print(len(df[\"text\"]))\n",
    "\n"
   ]
  },
  {
   "cell_type": "code",
   "execution_count": 30,
   "metadata": {},
   "outputs": [],
   "source": [
    "def generate_questions_for_dataset(df, model_name=\"llama3.3:latest\", max_attempts=5, save_path=\"all_combined.csv\"):\n",
    "    \"\"\"\n",
    "    Generate questions for each text in the dataframe using the specified model.\n",
    "    \n",
    "    Args:\n",
    "        df: DataFrame containing a 'text' column\n",
    "        model_name: Name of the model to use for question generation\n",
    "        max_attempts: Maximum number of attempts for each text\n",
    "        save_path: Path to save the updated dataframe\n",
    "        \n",
    "    Returns:\n",
    "        Updated DataFrame with a new column containing generated questions\n",
    "    \"\"\"\n",
    "\n",
    "    \n",
    "    # Create a list to store all questions\n",
    "    all_questions = []\n",
    "    all_answers = []\n",
    "    # Create a file to log generation results\n",
    "    log_file = open(f\"{model_name}_question_generation_log.txt\", \"w\")\n",
    "\n",
    "    # Add tqdm progress bar\n",
    "    for i in tqdm(range(len(df)), desc=f\"Generating questions with {model_name}\"):\n",
    "        # if i % 100 == 0:\n",
    "        #     print(\"current row index: \", i)\n",
    "        attempts = 0\n",
    "        question = None\n",
    "        \n",
    "        while attempts < max_attempts:\n",
    "            try:\n",
    "                response = generate_question(df[\"text\"][i], model_name=model_name)\n",
    "                # print(\"The text is: \", df[\"text\"][i])\n",
    "                if model_name == \"deepseek-r1\":\n",
    "                    tuple_match = re.search(r'\\(\\\".*?\\\", \\\".*?\\\"\\)', response)\n",
    "                    tuple_str = tuple_match.group(0)\n",
    "                    question, answer = eval(tuple_str)\n",
    "                else:\n",
    "                    question, answer = eval(response)\n",
    "                if question and answer:  # If we got a valid response\n",
    "                    # print(\"-------- ---------\")\n",
    "                    # print(question)\n",
    "                    # print(answer)\n",
    "                    # print(\"-------- ---------\")\n",
    "                    break\n",
    "                raise Exception(\"Empty response received\")\n",
    "                \n",
    "            except Exception as e:\n",
    "                attempts += 1\n",
    "                print(f\"Attempt {attempts} failed: {str(e)}\")\n",
    "                if attempts == max_attempts:\n",
    "                    print(f\"Failed to generate question after {max_attempts} attempts\")\n",
    "        \n",
    "        # Add the question to our list (empty string if generation failed)\n",
    "        if question and answer:\n",
    "            all_questions.append(question)\n",
    "            all_answers.append(answer)\n",
    "            log_file.write(f\"{i}\\t{question}\\t{answer}\\n\")\n",
    "        else:\n",
    "            all_questions.append(\"\")\n",
    "            all_answers.append(\"\")\n",
    "            log_file.write(f\"{i}\\t\\n\")\n",
    "    # Close the log file\n",
    "    log_file.close()\n",
    "\n",
    "    # After collecting all questions, add them as a new column\n",
    "    column_name = f\"{model_name}_question\"\n",
    "    df[column_name] = all_questions\n",
    "    column_name = f\"{model_name}_answer\"\n",
    "    df[column_name] = all_answers\n",
    "\n",
    "    # Save the final dataframe once at the end\n",
    "    df.to_csv(save_path, index=False)\n",
    "    \n",
    "    return df"
   ]
  },
  {
   "cell_type": "code",
   "execution_count": 31,
   "metadata": {},
   "outputs": [
    {
     "name": "stderr",
     "output_type": "stream",
     "text": [
      "Generating questions with gemma3:12b:   0%|          | 57/12370 [00:50<2:41:35,  1.27it/s]"
     ]
    },
    {
     "name": "stdout",
     "output_type": "stream",
     "text": [
      "Attempt 1 failed: unterminated string literal (detected at line 1) (<string>, line 1)\n"
     ]
    },
    {
     "name": "stderr",
     "output_type": "stream",
     "text": [
      "Generating questions with gemma3:12b:   0%|          | 58/12370 [00:52<3:34:46,  1.05s/it]"
     ]
    },
    {
     "name": "stdout",
     "output_type": "stream",
     "text": [
      "Attempt 1 failed: invalid syntax. Perhaps you forgot a comma? (<string>, line 1)\n",
      "Attempt 2 failed: invalid syntax. Perhaps you forgot a comma? (<string>, line 1)\n",
      "Attempt 3 failed: invalid syntax. Perhaps you forgot a comma? (<string>, line 1)\n",
      "Attempt 4 failed: invalid syntax. Perhaps you forgot a comma? (<string>, line 1)\n"
     ]
    },
    {
     "name": "stderr",
     "output_type": "stream",
     "text": [
      "Generating questions with gemma3:12b:   0%|          | 59/12370 [00:58<8:23:53,  2.46s/it]"
     ]
    },
    {
     "name": "stdout",
     "output_type": "stream",
     "text": [
      "Attempt 5 failed: invalid syntax. Perhaps you forgot a comma? (<string>, line 1)\n",
      "Failed to generate question after 5 attempts\n"
     ]
    },
    {
     "name": "stderr",
     "output_type": "stream",
     "text": [
      "Generating questions with gemma3:12b:   1%|          | 115/12370 [01:49<2:56:57,  1.15it/s]"
     ]
    },
    {
     "name": "stdout",
     "output_type": "stream",
     "text": [
      "Attempt 1 failed: invalid syntax. Perhaps you forgot a comma? (<string>, line 1)\n",
      "Attempt 2 failed: invalid syntax. Perhaps you forgot a comma? (<string>, line 1)\n",
      "Attempt 3 failed: invalid syntax. Perhaps you forgot a comma? (<string>, line 1)\n",
      "Attempt 4 failed: invalid syntax. Perhaps you forgot a comma? (<string>, line 1)\n"
     ]
    },
    {
     "name": "stderr",
     "output_type": "stream",
     "text": [
      "Generating questions with gemma3:12b:   2%|▏         | 268/12370 [04:14<3:08:27,  1.07it/s]"
     ]
    },
    {
     "name": "stdout",
     "output_type": "stream",
     "text": [
      "Attempt 1 failed: unterminated string literal (detected at line 1) (<string>, line 1)\n"
     ]
    },
    {
     "name": "stderr",
     "output_type": "stream",
     "text": [
      "Generating questions with gemma3:12b:   2%|▏         | 285/12370 [04:32<3:28:48,  1.04s/it]"
     ]
    },
    {
     "name": "stdout",
     "output_type": "stream",
     "text": [
      "Attempt 1 failed: invalid syntax. Perhaps you forgot a comma? (<string>, line 1)\n",
      "Attempt 2 failed: invalid syntax. Perhaps you forgot a comma? (<string>, line 1)\n",
      "Attempt 3 failed: invalid syntax. Perhaps you forgot a comma? (<string>, line 1)\n",
      "Attempt 4 failed: invalid syntax. Perhaps you forgot a comma? (<string>, line 1)\n"
     ]
    },
    {
     "name": "stderr",
     "output_type": "stream",
     "text": [
      "Generating questions with gemma3:12b:   2%|▏         | 286/12370 [04:36<6:32:49,  1.95s/it]"
     ]
    },
    {
     "name": "stdout",
     "output_type": "stream",
     "text": [
      "Attempt 5 failed: invalid syntax. Perhaps you forgot a comma? (<string>, line 1)\n",
      "Failed to generate question after 5 attempts\n"
     ]
    },
    {
     "name": "stderr",
     "output_type": "stream",
     "text": [
      "Generating questions with gemma3:12b:   3%|▎         | 349/12370 [05:31<2:36:45,  1.28it/s]"
     ]
    },
    {
     "name": "stdout",
     "output_type": "stream",
     "text": [
      "Attempt 1 failed: unterminated string literal (detected at line 1) (<string>, line 1)\n"
     ]
    },
    {
     "name": "stderr",
     "output_type": "stream",
     "text": [
      "Generating questions with gemma3:12b:   3%|▎         | 382/12370 [06:00<2:33:02,  1.31it/s]"
     ]
    },
    {
     "name": "stdout",
     "output_type": "stream",
     "text": [
      "Attempt 1 failed: invalid syntax. Perhaps you forgot a comma? (<string>, line 1)\n",
      "Attempt 2 failed: invalid syntax. Perhaps you forgot a comma? (<string>, line 1)\n",
      "Attempt 3 failed: invalid syntax. Perhaps you forgot a comma? (<string>, line 1)\n",
      "Attempt 4 failed: invalid syntax. Perhaps you forgot a comma? (<string>, line 1)\n"
     ]
    },
    {
     "name": "stderr",
     "output_type": "stream",
     "text": [
      "Generating questions with gemma3:12b:   3%|▎         | 383/12370 [06:03<5:36:45,  1.69s/it]"
     ]
    },
    {
     "name": "stdout",
     "output_type": "stream",
     "text": [
      "Attempt 5 failed: invalid syntax. Perhaps you forgot a comma? (<string>, line 1)\n",
      "Failed to generate question after 5 attempts\n"
     ]
    },
    {
     "name": "stderr",
     "output_type": "stream",
     "text": [
      "Generating questions with gemma3:12b:   4%|▍         | 474/12370 [07:17<2:36:45,  1.26it/s]"
     ]
    },
    {
     "name": "stdout",
     "output_type": "stream",
     "text": [
      "Error communicating with Ollama: 500 Server Error: Internal Server Error for url: http://localhost:11434/api/generate\n",
      "Attempt 1 failed: eval() arg 1 must be a string, bytes or code object\n"
     ]
    },
    {
     "name": "stderr",
     "output_type": "stream",
     "text": [
      "Generating questions with gemma3:12b:   4%|▍         | 479/12370 [07:28<4:30:48,  1.37s/it]"
     ]
    },
    {
     "name": "stdout",
     "output_type": "stream",
     "text": [
      "Attempt 1 failed: invalid syntax. Perhaps you forgot a comma? (<string>, line 1)\n"
     ]
    },
    {
     "name": "stderr",
     "output_type": "stream",
     "text": [
      "Generating questions with gemma3:12b:   5%|▌         | 624/12370 [09:29<3:12:29,  1.02it/s]"
     ]
    },
    {
     "name": "stdout",
     "output_type": "stream",
     "text": [
      "Attempt 1 failed: invalid syntax. Perhaps you forgot a comma? (<string>, line 1)\n"
     ]
    },
    {
     "name": "stderr",
     "output_type": "stream",
     "text": [
      "Generating questions with gemma3:12b:   5%|▌         | 654/12370 [09:57<3:06:56,  1.04it/s]"
     ]
    },
    {
     "name": "stdout",
     "output_type": "stream",
     "text": [
      "Attempt 1 failed: unterminated string literal (detected at line 1) (<string>, line 1)\n"
     ]
    },
    {
     "name": "stderr",
     "output_type": "stream",
     "text": [
      "Generating questions with gemma3:12b:   5%|▌         | 664/12370 [10:08<3:03:37,  1.06it/s]"
     ]
    },
    {
     "name": "stdout",
     "output_type": "stream",
     "text": [
      "Error communicating with Ollama: 500 Server Error: Internal Server Error for url: http://localhost:11434/api/generate\n",
      "Attempt 1 failed: eval() arg 1 must be a string, bytes or code object\n"
     ]
    },
    {
     "name": "stderr",
     "output_type": "stream",
     "text": [
      "Generating questions with gemma3:12b:   7%|▋         | 888/12370 [13:04<2:05:20,  1.53it/s] "
     ]
    },
    {
     "name": "stdout",
     "output_type": "stream",
     "text": [
      "Error communicating with Ollama: 500 Server Error: Internal Server Error for url: http://localhost:11434/api/generate\n",
      "Attempt 1 failed: eval() arg 1 must be a string, bytes or code object\n"
     ]
    },
    {
     "name": "stderr",
     "output_type": "stream",
     "text": [
      "Generating questions with gemma3:12b:   9%|▉         | 1131/12370 [16:26<2:44:21,  1.14it/s]"
     ]
    },
    {
     "name": "stdout",
     "output_type": "stream",
     "text": [
      "Error communicating with Ollama: 500 Server Error: Internal Server Error for url: http://localhost:11434/api/generate\n",
      "Attempt 1 failed: eval() arg 1 must be a string, bytes or code object\n"
     ]
    },
    {
     "name": "stderr",
     "output_type": "stream",
     "text": [
      "Generating questions with gemma3:12b:  11%|█         | 1345/12370 [19:14<2:30:18,  1.22it/s]"
     ]
    },
    {
     "name": "stdout",
     "output_type": "stream",
     "text": [
      "Error communicating with Ollama: 500 Server Error: Internal Server Error for url: http://localhost:11434/api/generate\n",
      "Attempt 1 failed: eval() arg 1 must be a string, bytes or code object\n"
     ]
    },
    {
     "name": "stderr",
     "output_type": "stream",
     "text": [
      "Generating questions with gemma3:12b:  12%|█▏        | 1469/12370 [20:50<2:21:26,  1.28it/s]"
     ]
    },
    {
     "name": "stdout",
     "output_type": "stream",
     "text": [
      "Attempt 1 failed: invalid syntax. Perhaps you forgot a comma? (<string>, line 1)\n",
      "Attempt 2 failed: invalid syntax. Perhaps you forgot a comma? (<string>, line 1)\n"
     ]
    },
    {
     "name": "stderr",
     "output_type": "stream",
     "text": [
      "Generating questions with gemma3:12b:  12%|█▏        | 1488/12370 [21:08<2:20:30,  1.29it/s]"
     ]
    },
    {
     "name": "stdout",
     "output_type": "stream",
     "text": [
      "Error communicating with Ollama: 500 Server Error: Internal Server Error for url: http://localhost:11434/api/generate\n",
      "Attempt 1 failed: eval() arg 1 must be a string, bytes or code object\n"
     ]
    },
    {
     "name": "stderr",
     "output_type": "stream",
     "text": [
      "Generating questions with gemma3:12b:  13%|█▎        | 1644/12370 [23:11<2:05:16,  1.43it/s]"
     ]
    },
    {
     "name": "stdout",
     "output_type": "stream",
     "text": [
      "Error communicating with Ollama: 500 Server Error: Internal Server Error for url: http://localhost:11434/api/generate\n",
      "Attempt 1 failed: eval() arg 1 must be a string, bytes or code object\n"
     ]
    },
    {
     "name": "stderr",
     "output_type": "stream",
     "text": [
      "Generating questions with gemma3:12b:  13%|█▎        | 1656/12370 [23:29<2:25:06,  1.23it/s]"
     ]
    },
    {
     "name": "stdout",
     "output_type": "stream",
     "text": [
      "Error communicating with Ollama: 500 Server Error: Internal Server Error for url: http://localhost:11434/api/generate\n",
      "Attempt 1 failed: eval() arg 1 must be a string, bytes or code object\n"
     ]
    },
    {
     "name": "stderr",
     "output_type": "stream",
     "text": [
      "Generating questions with gemma3:12b:  14%|█▎        | 1699/12370 [24:11<2:17:25,  1.29it/s]"
     ]
    },
    {
     "name": "stdout",
     "output_type": "stream",
     "text": [
      "Error communicating with Ollama: 500 Server Error: Internal Server Error for url: http://localhost:11434/api/generate\n",
      "Attempt 1 failed: eval() arg 1 must be a string, bytes or code object\n"
     ]
    },
    {
     "name": "stderr",
     "output_type": "stream",
     "text": [
      "Generating questions with gemma3:12b:  18%|█▊        | 2166/12370 [29:34<2:26:58,  1.16it/s]"
     ]
    },
    {
     "name": "stdout",
     "output_type": "stream",
     "text": [
      "Error communicating with Ollama: 500 Server Error: Internal Server Error for url: http://localhost:11434/api/generate\n",
      "Attempt 1 failed: eval() arg 1 must be a string, bytes or code object\n"
     ]
    },
    {
     "name": "stderr",
     "output_type": "stream",
     "text": [
      "Generating questions with gemma3:12b:  18%|█▊        | 2260/12370 [30:55<2:14:09,  1.26it/s]"
     ]
    },
    {
     "name": "stdout",
     "output_type": "stream",
     "text": [
      "Error communicating with Ollama: 500 Server Error: Internal Server Error for url: http://localhost:11434/api/generate\n",
      "Attempt 1 failed: eval() arg 1 must be a string, bytes or code object\n"
     ]
    },
    {
     "name": "stderr",
     "output_type": "stream",
     "text": [
      "Generating questions with gemma3:12b:  19%|█▉        | 2335/12370 [32:01<2:23:31,  1.17it/s]"
     ]
    },
    {
     "name": "stdout",
     "output_type": "stream",
     "text": [
      "Error communicating with Ollama: 500 Server Error: Internal Server Error for url: http://localhost:11434/api/generate\n",
      "Attempt 1 failed: eval() arg 1 must be a string, bytes or code object\n"
     ]
    },
    {
     "name": "stderr",
     "output_type": "stream",
     "text": [
      "Generating questions with gemma3:12b:  20%|█▉        | 2437/12370 [33:30<2:04:27,  1.33it/s]"
     ]
    },
    {
     "name": "stdout",
     "output_type": "stream",
     "text": [
      "Error communicating with Ollama: 500 Server Error: Internal Server Error for url: http://localhost:11434/api/generate\n",
      "Attempt 1 failed: eval() arg 1 must be a string, bytes or code object\n"
     ]
    },
    {
     "name": "stderr",
     "output_type": "stream",
     "text": [
      "Generating questions with gemma3:12b:  20%|██        | 2516/12370 [34:39<2:13:52,  1.23it/s]"
     ]
    },
    {
     "name": "stdout",
     "output_type": "stream",
     "text": [
      "Error communicating with Ollama: 500 Server Error: Internal Server Error for url: http://localhost:11434/api/generate\n",
      "Attempt 1 failed: eval() arg 1 must be a string, bytes or code object\n"
     ]
    },
    {
     "name": "stderr",
     "output_type": "stream",
     "text": [
      "Generating questions with gemma3:12b:  23%|██▎       | 2815/12370 [38:32<1:49:19,  1.46it/s]"
     ]
    },
    {
     "name": "stdout",
     "output_type": "stream",
     "text": [
      "Error communicating with Ollama: 500 Server Error: Internal Server Error for url: http://localhost:11434/api/generate\n",
      "Attempt 1 failed: eval() arg 1 must be a string, bytes or code object\n"
     ]
    },
    {
     "name": "stderr",
     "output_type": "stream",
     "text": [
      "Generating questions with gemma3:12b:  25%|██▌       | 3148/12370 [42:56<2:01:14,  1.27it/s]"
     ]
    },
    {
     "name": "stdout",
     "output_type": "stream",
     "text": [
      "Error communicating with Ollama: 500 Server Error: Internal Server Error for url: http://localhost:11434/api/generate\n",
      "Attempt 1 failed: eval() arg 1 must be a string, bytes or code object\n"
     ]
    },
    {
     "name": "stderr",
     "output_type": "stream",
     "text": [
      "Generating questions with gemma3:12b:  26%|██▌       | 3156/12370 [43:09<2:17:27,  1.12it/s]"
     ]
    },
    {
     "name": "stdout",
     "output_type": "stream",
     "text": [
      "Error communicating with Ollama: 500 Server Error: Internal Server Error for url: http://localhost:11434/api/generate\n",
      "Attempt 1 failed: eval() arg 1 must be a string, bytes or code object\n"
     ]
    },
    {
     "name": "stderr",
     "output_type": "stream",
     "text": [
      "Generating questions with gemma3:12b:  26%|██▋       | 3252/12370 [44:30<1:39:15,  1.53it/s]"
     ]
    },
    {
     "name": "stdout",
     "output_type": "stream",
     "text": [
      "Error communicating with Ollama: 500 Server Error: Internal Server Error for url: http://localhost:11434/api/generate\n",
      "Attempt 1 failed: eval() arg 1 must be a string, bytes or code object\n"
     ]
    },
    {
     "name": "stderr",
     "output_type": "stream",
     "text": [
      "Generating questions with gemma3:12b:  28%|██▊       | 3454/12370 [47:14<1:56:28,  1.28it/s]"
     ]
    },
    {
     "name": "stdout",
     "output_type": "stream",
     "text": [
      "Error communicating with Ollama: 500 Server Error: Internal Server Error for url: http://localhost:11434/api/generate\n",
      "Attempt 1 failed: eval() arg 1 must be a string, bytes or code object\n"
     ]
    },
    {
     "name": "stderr",
     "output_type": "stream",
     "text": [
      "Generating questions with gemma3:12b:  29%|██▉       | 3623/12370 [49:34<1:44:52,  1.39it/s]"
     ]
    },
    {
     "name": "stdout",
     "output_type": "stream",
     "text": [
      "Error communicating with Ollama: 500 Server Error: Internal Server Error for url: http://localhost:11434/api/generate\n",
      "Attempt 1 failed: eval() arg 1 must be a string, bytes or code object\n"
     ]
    },
    {
     "name": "stderr",
     "output_type": "stream",
     "text": [
      "Generating questions with gemma3:12b:  31%|███       | 3789/12370 [51:56<1:37:55,  1.46it/s]"
     ]
    },
    {
     "name": "stdout",
     "output_type": "stream",
     "text": [
      "Attempt 1 failed: invalid syntax. Perhaps you forgot a comma? (<string>, line 1)\n",
      "Attempt 2 failed: invalid syntax. Perhaps you forgot a comma? (<string>, line 1)\n",
      "Attempt 3 failed: invalid syntax. Perhaps you forgot a comma? (<string>, line 1)\n",
      "Attempt 4 failed: invalid syntax. Perhaps you forgot a comma? (<string>, line 1)\n"
     ]
    },
    {
     "name": "stderr",
     "output_type": "stream",
     "text": [
      "Generating questions with gemma3:12b:  31%|███       | 3790/12370 [51:59<3:20:02,  1.40s/it]"
     ]
    },
    {
     "name": "stdout",
     "output_type": "stream",
     "text": [
      "Attempt 5 failed: invalid syntax. Perhaps you forgot a comma? (<string>, line 1)\n",
      "Failed to generate question after 5 attempts\n"
     ]
    },
    {
     "name": "stderr",
     "output_type": "stream",
     "text": [
      "Generating questions with gemma3:12b:  31%|███       | 3802/12370 [52:09<1:47:39,  1.33it/s]"
     ]
    },
    {
     "name": "stdout",
     "output_type": "stream",
     "text": [
      "Attempt 1 failed: invalid syntax. Perhaps you forgot a comma? (<string>, line 1)\n"
     ]
    },
    {
     "name": "stderr",
     "output_type": "stream",
     "text": [
      "Generating questions with gemma3:12b:  31%|███       | 3822/12370 [52:28<2:12:42,  1.07it/s]"
     ]
    },
    {
     "name": "stdout",
     "output_type": "stream",
     "text": [
      "Attempt 1 failed: invalid syntax. Perhaps you forgot a comma? (<string>, line 1)\n",
      "Attempt 2 failed: invalid syntax. Perhaps you forgot a comma? (<string>, line 1)\n",
      "Attempt 3 failed: invalid syntax. Perhaps you forgot a comma? (<string>, line 1)\n",
      "Attempt 4 failed: invalid syntax. Perhaps you forgot a comma? (<string>, line 1)\n"
     ]
    },
    {
     "name": "stderr",
     "output_type": "stream",
     "text": [
      "Generating questions with gemma3:12b:  31%|███       | 3858/12370 [53:02<1:51:25,  1.27it/s]"
     ]
    },
    {
     "name": "stdout",
     "output_type": "stream",
     "text": [
      "Attempt 1 failed: invalid syntax. Perhaps you forgot a comma? (<string>, line 1)\n"
     ]
    },
    {
     "name": "stderr",
     "output_type": "stream",
     "text": [
      "Generating questions with gemma3:12b:  31%|███       | 3863/12370 [53:07<2:07:22,  1.11it/s]"
     ]
    },
    {
     "name": "stdout",
     "output_type": "stream",
     "text": [
      "Error communicating with Ollama: 500 Server Error: Internal Server Error for url: http://localhost:11434/api/generate\n",
      "Attempt 1 failed: eval() arg 1 must be a string, bytes or code object\n"
     ]
    },
    {
     "name": "stderr",
     "output_type": "stream",
     "text": [
      "Generating questions with gemma3:12b:  31%|███▏      | 3866/12370 [53:17<4:38:44,  1.97s/it]<string>:1: SyntaxWarning: 'str' object is not callable; perhaps you missed a comma?\n"
     ]
    },
    {
     "name": "stdout",
     "output_type": "stream",
     "text": [
      "Attempt 1 failed: 'str' object is not callable\n"
     ]
    },
    {
     "name": "stderr",
     "output_type": "stream",
     "text": [
      "Generating questions with gemma3:12b:  34%|███▎      | 4161/12370 [56:46<1:36:34,  1.42it/s]"
     ]
    },
    {
     "name": "stdout",
     "output_type": "stream",
     "text": [
      "Attempt 1 failed: invalid syntax. Perhaps you forgot a comma? (<string>, line 1)\n",
      "Attempt 2 failed: invalid syntax. Perhaps you forgot a comma? (<string>, line 1)\n",
      "Attempt 3 failed: invalid syntax. Perhaps you forgot a comma? (<string>, line 1)\n",
      "Attempt 4 failed: invalid syntax. Perhaps you forgot a comma? (<string>, line 1)\n"
     ]
    },
    {
     "name": "stderr",
     "output_type": "stream",
     "text": [
      "Generating questions with gemma3:12b:  34%|███▎      | 4162/12370 [56:51<4:20:19,  1.90s/it]"
     ]
    },
    {
     "name": "stdout",
     "output_type": "stream",
     "text": [
      "Attempt 5 failed: invalid syntax. Perhaps you forgot a comma? (<string>, line 1)\n",
      "Failed to generate question after 5 attempts\n"
     ]
    },
    {
     "name": "stderr",
     "output_type": "stream",
     "text": [
      "Generating questions with gemma3:12b:  36%|███▋      | 4490/12370 [1:00:36<1:32:53,  1.41it/s]"
     ]
    },
    {
     "name": "stdout",
     "output_type": "stream",
     "text": [
      "Error communicating with Ollama: 500 Server Error: Internal Server Error for url: http://localhost:11434/api/generate\n",
      "Attempt 1 failed: eval() arg 1 must be a string, bytes or code object\n"
     ]
    },
    {
     "name": "stderr",
     "output_type": "stream",
     "text": [
      "Generating questions with gemma3:12b:  38%|███▊      | 4684/12370 [1:02:59<1:52:53,  1.13it/s]"
     ]
    },
    {
     "name": "stdout",
     "output_type": "stream",
     "text": [
      "Attempt 1 failed: invalid syntax. Perhaps you forgot a comma? (<string>, line 1)\n",
      "Attempt 2 failed: invalid syntax. Perhaps you forgot a comma? (<string>, line 1)\n",
      "Attempt 3 failed: invalid syntax. Perhaps you forgot a comma? (<string>, line 1)\n",
      "Attempt 4 failed: invalid syntax. Perhaps you forgot a comma? (<string>, line 1)\n"
     ]
    },
    {
     "name": "stderr",
     "output_type": "stream",
     "text": [
      "Generating questions with gemma3:12b:  38%|███▊      | 4685/12370 [1:03:05<5:01:06,  2.35s/it]"
     ]
    },
    {
     "name": "stdout",
     "output_type": "stream",
     "text": [
      "Attempt 5 failed: invalid syntax. Perhaps you forgot a comma? (<string>, line 1)\n",
      "Failed to generate question after 5 attempts\n"
     ]
    },
    {
     "name": "stderr",
     "output_type": "stream",
     "text": [
      "Generating questions with gemma3:12b:  38%|███▊      | 4695/12370 [1:03:12<1:25:50,  1.49it/s]"
     ]
    },
    {
     "name": "stdout",
     "output_type": "stream",
     "text": [
      "Error communicating with Ollama: 500 Server Error: Internal Server Error for url: http://localhost:11434/api/generate\n",
      "Attempt 1 failed: eval() arg 1 must be a string, bytes or code object\n"
     ]
    },
    {
     "name": "stderr",
     "output_type": "stream",
     "text": [
      "Generating questions with gemma3:12b:  46%|████▌     | 5715/12370 [1:16:01<1:24:36,  1.31it/s]"
     ]
    },
    {
     "name": "stdout",
     "output_type": "stream",
     "text": [
      "Error communicating with Ollama: 500 Server Error: Internal Server Error for url: http://localhost:11434/api/generate\n",
      "Attempt 1 failed: eval() arg 1 must be a string, bytes or code object\n"
     ]
    },
    {
     "name": "stderr",
     "output_type": "stream",
     "text": [
      "Generating questions with gemma3:12b:  50%|█████     | 6210/12370 [1:22:05<1:10:12,  1.46it/s]"
     ]
    },
    {
     "name": "stdout",
     "output_type": "stream",
     "text": [
      "Attempt 1 failed: invalid syntax. Perhaps you forgot a comma? (<string>, line 1)\n",
      "Attempt 2 failed: invalid syntax. Perhaps you forgot a comma? (<string>, line 1)\n",
      "Attempt 3 failed: invalid syntax. Perhaps you forgot a comma? (<string>, line 1)\n",
      "Attempt 4 failed: invalid syntax. Perhaps you forgot a comma? (<string>, line 1)\n"
     ]
    },
    {
     "name": "stderr",
     "output_type": "stream",
     "text": [
      "Generating questions with gemma3:12b:  50%|█████     | 6211/12370 [1:22:08<2:43:38,  1.59s/it]"
     ]
    },
    {
     "name": "stdout",
     "output_type": "stream",
     "text": [
      "Attempt 5 failed: invalid syntax. Perhaps you forgot a comma? (<string>, line 1)\n",
      "Failed to generate question after 5 attempts\n"
     ]
    },
    {
     "name": "stderr",
     "output_type": "stream",
     "text": [
      "Generating questions with gemma3:12b:  52%|█████▏    | 6473/12370 [1:25:17<1:11:55,  1.37it/s]"
     ]
    },
    {
     "name": "stdout",
     "output_type": "stream",
     "text": [
      "Attempt 1 failed: unterminated string literal (detected at line 1) (<string>, line 1)\n",
      "Attempt 2 failed: unterminated string literal (detected at line 1) (<string>, line 1)\n",
      "Attempt 3 failed: unterminated string literal (detected at line 1) (<string>, line 1)\n",
      "Attempt 4 failed: unterminated string literal (detected at line 1) (<string>, line 1)\n"
     ]
    },
    {
     "name": "stderr",
     "output_type": "stream",
     "text": [
      "Generating questions with gemma3:12b:  52%|█████▏    | 6474/12370 [1:25:22<2:59:59,  1.83s/it]"
     ]
    },
    {
     "name": "stdout",
     "output_type": "stream",
     "text": [
      "Attempt 5 failed: unterminated string literal (detected at line 1) (<string>, line 1)\n",
      "Failed to generate question after 5 attempts\n"
     ]
    },
    {
     "name": "stderr",
     "output_type": "stream",
     "text": [
      "Generating questions with gemma3:12b:  52%|█████▏    | 6486/12370 [1:25:32<1:16:57,  1.27it/s]"
     ]
    },
    {
     "name": "stdout",
     "output_type": "stream",
     "text": [
      "Attempt 1 failed: unterminated string literal (detected at line 1) (<string>, line 1)\n",
      "Attempt 2 failed: unterminated string literal (detected at line 1) (<string>, line 1)\n",
      "Attempt 3 failed: unterminated string literal (detected at line 1) (<string>, line 1)\n",
      "Attempt 4 failed: unterminated string literal (detected at line 1) (<string>, line 1)\n"
     ]
    },
    {
     "name": "stderr",
     "output_type": "stream",
     "text": [
      "Generating questions with gemma3:12b:  52%|█████▏    | 6487/12370 [1:25:36<2:49:30,  1.73s/it]"
     ]
    },
    {
     "name": "stdout",
     "output_type": "stream",
     "text": [
      "Attempt 5 failed: unterminated string literal (detected at line 1) (<string>, line 1)\n",
      "Failed to generate question after 5 attempts\n"
     ]
    },
    {
     "name": "stderr",
     "output_type": "stream",
     "text": [
      "Generating questions with gemma3:12b:  54%|█████▎    | 6621/12370 [1:27:40<1:13:53,  1.30it/s]"
     ]
    },
    {
     "name": "stdout",
     "output_type": "stream",
     "text": [
      "Attempt 1 failed: unterminated string literal (detected at line 1) (<string>, line 1)\n",
      "Attempt 2 failed: unterminated string literal (detected at line 1) (<string>, line 1)\n",
      "Attempt 3 failed: unterminated string literal (detected at line 1) (<string>, line 1)\n",
      "Attempt 4 failed: unterminated string literal (detected at line 1) (<string>, line 1)\n"
     ]
    },
    {
     "name": "stderr",
     "output_type": "stream",
     "text": [
      "Generating questions with gemma3:12b:  54%|█████▎    | 6622/12370 [1:27:44<2:48:09,  1.76s/it]"
     ]
    },
    {
     "name": "stdout",
     "output_type": "stream",
     "text": [
      "Attempt 5 failed: unterminated string literal (detected at line 1) (<string>, line 1)\n",
      "Failed to generate question after 5 attempts\n"
     ]
    },
    {
     "name": "stderr",
     "output_type": "stream",
     "text": [
      "Generating questions with gemma3:12b:  54%|█████▎    | 6634/12370 [1:27:53<1:15:38,  1.26it/s]"
     ]
    },
    {
     "name": "stdout",
     "output_type": "stream",
     "text": [
      "Attempt 1 failed: unterminated string literal (detected at line 1) (<string>, line 1)\n",
      "Attempt 2 failed: unterminated string literal (detected at line 1) (<string>, line 1)\n",
      "Attempt 3 failed: unterminated string literal (detected at line 1) (<string>, line 1)\n",
      "Attempt 4 failed: unterminated string literal (detected at line 1) (<string>, line 1)\n"
     ]
    },
    {
     "name": "stderr",
     "output_type": "stream",
     "text": [
      "Generating questions with gemma3:12b:  54%|█████▎    | 6635/12370 [1:27:58<3:10:23,  1.99s/it]"
     ]
    },
    {
     "name": "stdout",
     "output_type": "stream",
     "text": [
      "Attempt 5 failed: unterminated string literal (detected at line 1) (<string>, line 1)\n",
      "Failed to generate question after 5 attempts\n"
     ]
    },
    {
     "name": "stderr",
     "output_type": "stream",
     "text": [
      "Generating questions with gemma3:12b:  54%|█████▍    | 6660/12370 [1:28:18<1:18:45,  1.21it/s]"
     ]
    },
    {
     "name": "stdout",
     "output_type": "stream",
     "text": [
      "Attempt 1 failed: unterminated string literal (detected at line 1) (<string>, line 1)\n"
     ]
    },
    {
     "name": "stderr",
     "output_type": "stream",
     "text": [
      "Generating questions with gemma3:12b:  54%|█████▍    | 6692/12370 [1:28:46<1:10:48,  1.34it/s]"
     ]
    },
    {
     "name": "stdout",
     "output_type": "stream",
     "text": [
      "Attempt 1 failed: unterminated string literal (detected at line 1) (<string>, line 1)\n"
     ]
    },
    {
     "name": "stderr",
     "output_type": "stream",
     "text": [
      "Generating questions with gemma3:12b:  54%|█████▍    | 6719/12370 [1:29:08<1:14:07,  1.27it/s]"
     ]
    },
    {
     "name": "stdout",
     "output_type": "stream",
     "text": [
      "Error communicating with Ollama: 500 Server Error: Internal Server Error for url: http://localhost:11434/api/generate\n",
      "Attempt 1 failed: eval() arg 1 must be a string, bytes or code object\n"
     ]
    },
    {
     "name": "stderr",
     "output_type": "stream",
     "text": [
      "Generating questions with gemma3:12b:  56%|█████▋    | 6964/12370 [1:32:38<1:10:58,  1.27it/s]"
     ]
    },
    {
     "name": "stdout",
     "output_type": "stream",
     "text": [
      "Error communicating with Ollama: 500 Server Error: Internal Server Error for url: http://localhost:11434/api/generate\n",
      "Attempt 1 failed: eval() arg 1 must be a string, bytes or code object\n"
     ]
    },
    {
     "name": "stderr",
     "output_type": "stream",
     "text": [
      "Generating questions with gemma3:12b:  57%|█████▋    | 6997/12370 [1:33:14<1:20:48,  1.11it/s]"
     ]
    },
    {
     "name": "stdout",
     "output_type": "stream",
     "text": [
      "Attempt 1 failed: unterminated string literal (detected at line 1) (<string>, line 1)\n",
      "Attempt 2 failed: unterminated string literal (detected at line 1) (<string>, line 1)\n",
      "Attempt 3 failed: unterminated string literal (detected at line 1) (<string>, line 1)\n",
      "Attempt 4 failed: unterminated string literal (detected at line 1) (<string>, line 1)\n"
     ]
    },
    {
     "name": "stderr",
     "output_type": "stream",
     "text": [
      "Generating questions with gemma3:12b:  57%|█████▋    | 6998/12370 [1:33:18<2:43:58,  1.83s/it]"
     ]
    },
    {
     "name": "stdout",
     "output_type": "stream",
     "text": [
      "Attempt 5 failed: unterminated string literal (detected at line 1) (<string>, line 1)\n",
      "Failed to generate question after 5 attempts\n"
     ]
    },
    {
     "name": "stderr",
     "output_type": "stream",
     "text": [
      "Generating questions with gemma3:12b:  57%|█████▋    | 7020/12370 [1:33:37<1:17:15,  1.15it/s]"
     ]
    },
    {
     "name": "stdout",
     "output_type": "stream",
     "text": [
      "Error communicating with Ollama: 500 Server Error: Internal Server Error for url: http://localhost:11434/api/generate\n",
      "Attempt 1 failed: eval() arg 1 must be a string, bytes or code object\n"
     ]
    },
    {
     "name": "stderr",
     "output_type": "stream",
     "text": [
      "Generating questions with gemma3:12b:  59%|█████▉    | 7289/12370 [1:37:41<1:15:07,  1.13it/s]"
     ]
    },
    {
     "name": "stdout",
     "output_type": "stream",
     "text": [
      "Attempt 1 failed: invalid syntax. Perhaps you forgot a comma? (<string>, line 1)\n",
      "Attempt 2 failed: invalid syntax. Perhaps you forgot a comma? (<string>, line 1)\n"
     ]
    },
    {
     "name": "stderr",
     "output_type": "stream",
     "text": [
      "Generating questions with gemma3:12b:  64%|██████▎   | 7861/12370 [1:44:43<57:47,  1.30it/s]  "
     ]
    },
    {
     "name": "stdout",
     "output_type": "stream",
     "text": [
      "Attempt 1 failed: invalid syntax. Perhaps you forgot a comma? (<string>, line 1)\n",
      "Attempt 2 failed: invalid syntax. Perhaps you forgot a comma? (<string>, line 1)\n",
      "Attempt 3 failed: invalid syntax. Perhaps you forgot a comma? (<string>, line 1)\n",
      "Attempt 4 failed: invalid syntax. Perhaps you forgot a comma? (<string>, line 1)\n"
     ]
    },
    {
     "name": "stderr",
     "output_type": "stream",
     "text": [
      "Generating questions with gemma3:12b:  64%|██████▎   | 7862/12370 [1:44:50<3:14:18,  2.59s/it]"
     ]
    },
    {
     "name": "stdout",
     "output_type": "stream",
     "text": [
      "Attempt 5 failed: invalid syntax. Perhaps you forgot a comma? (<string>, line 1)\n",
      "Failed to generate question after 5 attempts\n"
     ]
    },
    {
     "name": "stderr",
     "output_type": "stream",
     "text": [
      "Generating questions with gemma3:12b:  69%|██████▊   | 8498/12370 [1:52:25<44:51,  1.44it/s]  "
     ]
    },
    {
     "name": "stdout",
     "output_type": "stream",
     "text": [
      "Attempt 1 failed: invalid syntax. Perhaps you forgot a comma? (<string>, line 1)\n",
      "Attempt 2 failed: invalid syntax. Perhaps you forgot a comma? (<string>, line 1)\n",
      "Attempt 3 failed: unterminated string literal (detected at line 1) (<string>, line 1)\n"
     ]
    },
    {
     "name": "stderr",
     "output_type": "stream",
     "text": [
      "Generating questions with gemma3:12b:  69%|██████▉   | 8573/12370 [1:53:22<47:03,  1.35it/s]  <string>:1: SyntaxWarning: 'str' object is not callable; perhaps you missed a comma?\n"
     ]
    },
    {
     "name": "stdout",
     "output_type": "stream",
     "text": [
      "Attempt 1 failed: 'str' object is not callable\n"
     ]
    },
    {
     "name": "stderr",
     "output_type": "stream",
     "text": [
      "Generating questions with gemma3:12b:  71%|███████▏  | 8821/12370 [1:56:25<36:51,  1.60it/s]  <string>:1: SyntaxWarning: 'str' object is not callable; perhaps you missed a comma?\n"
     ]
    },
    {
     "name": "stdout",
     "output_type": "stream",
     "text": [
      "Attempt 1 failed: 'str' object is not callable\n"
     ]
    },
    {
     "name": "stderr",
     "output_type": "stream",
     "text": [
      "Generating questions with gemma3:12b:  72%|███████▏  | 8884/12370 [1:57:15<50:54,  1.14it/s]"
     ]
    },
    {
     "name": "stdout",
     "output_type": "stream",
     "text": [
      "Attempt 1 failed: invalid syntax. Perhaps you forgot a comma? (<string>, line 1)\n"
     ]
    },
    {
     "name": "stderr",
     "output_type": "stream",
     "text": [
      "Generating questions with gemma3:12b:  73%|███████▎  | 9000/12370 [1:58:42<36:19,  1.55it/s]  "
     ]
    },
    {
     "name": "stdout",
     "output_type": "stream",
     "text": [
      "Attempt 1 failed: invalid syntax. Perhaps you forgot a comma? (<string>, line 1)\n"
     ]
    },
    {
     "name": "stderr",
     "output_type": "stream",
     "text": [
      "Generating questions with gemma3:12b:  75%|███████▍  | 9222/12370 [2:01:29<38:37,  1.36it/s]"
     ]
    },
    {
     "name": "stdout",
     "output_type": "stream",
     "text": [
      "Attempt 1 failed: invalid syntax. Perhaps you forgot a comma? (<string>, line 1)\n"
     ]
    },
    {
     "name": "stderr",
     "output_type": "stream",
     "text": [
      "Generating questions with gemma3:12b:  75%|███████▍  | 9225/12370 [2:01:31<42:11,  1.24it/s]"
     ]
    },
    {
     "name": "stdout",
     "output_type": "stream",
     "text": [
      "Error communicating with Ollama: 500 Server Error: Internal Server Error for url: http://localhost:11434/api/generate\n",
      "Attempt 1 failed: eval() arg 1 must be a string, bytes or code object\n"
     ]
    },
    {
     "name": "stderr",
     "output_type": "stream",
     "text": [
      "Generating questions with gemma3:12b:  75%|███████▌  | 9279/12370 [2:02:16<41:06,  1.25it/s]  "
     ]
    },
    {
     "name": "stdout",
     "output_type": "stream",
     "text": [
      "Error communicating with Ollama: 500 Server Error: Internal Server Error for url: http://localhost:11434/api/generate\n",
      "Attempt 1 failed: eval() arg 1 must be a string, bytes or code object\n"
     ]
    },
    {
     "name": "stderr",
     "output_type": "stream",
     "text": [
      "Generating questions with gemma3:12b:  76%|███████▌  | 9409/12370 [2:03:57<27:49,  1.77it/s]  "
     ]
    },
    {
     "name": "stdout",
     "output_type": "stream",
     "text": [
      "Error communicating with Ollama: 500 Server Error: Internal Server Error for url: http://localhost:11434/api/generate\n",
      "Attempt 1 failed: eval() arg 1 must be a string, bytes or code object\n"
     ]
    },
    {
     "name": "stderr",
     "output_type": "stream",
     "text": [
      "Generating questions with gemma3:12b:  77%|███████▋  | 9545/12370 [2:05:43<32:16,  1.46it/s]  "
     ]
    },
    {
     "name": "stdout",
     "output_type": "stream",
     "text": [
      "Error communicating with Ollama: 500 Server Error: Internal Server Error for url: http://localhost:11434/api/generate\n",
      "Attempt 1 failed: eval() arg 1 must be a string, bytes or code object\n"
     ]
    },
    {
     "name": "stderr",
     "output_type": "stream",
     "text": [
      "Generating questions with gemma3:12b:  80%|███████▉  | 9840/12370 [2:09:26<31:36,  1.33it/s]  "
     ]
    },
    {
     "name": "stdout",
     "output_type": "stream",
     "text": [
      "Attempt 1 failed: invalid syntax. Perhaps you forgot a comma? (<string>, line 1)\n",
      "Attempt 2 failed: invalid syntax. Perhaps you forgot a comma? (<string>, line 1)\n",
      "Attempt 3 failed: invalid syntax. Perhaps you forgot a comma? (<string>, line 1)\n",
      "Attempt 4 failed: invalid syntax. Perhaps you forgot a comma? (<string>, line 1)\n"
     ]
    },
    {
     "name": "stderr",
     "output_type": "stream",
     "text": [
      "Generating questions with gemma3:12b:  80%|███████▉  | 9841/12370 [2:09:30<1:08:52,  1.63s/it]"
     ]
    },
    {
     "name": "stdout",
     "output_type": "stream",
     "text": [
      "Attempt 5 failed: invalid syntax. Perhaps you forgot a comma? (<string>, line 1)\n",
      "Failed to generate question after 5 attempts\n"
     ]
    },
    {
     "name": "stderr",
     "output_type": "stream",
     "text": [
      "Generating questions with gemma3:12b:  82%|████████▏ | 10138/12370 [2:13:12<30:04,  1.24it/s] "
     ]
    },
    {
     "name": "stdout",
     "output_type": "stream",
     "text": [
      "Attempt 1 failed: invalid syntax. Perhaps you forgot a comma? (<string>, line 1)\n",
      "Attempt 2 failed: invalid syntax. Perhaps you forgot a comma? (<string>, line 1)\n",
      "Attempt 3 failed: invalid syntax. Perhaps you forgot a comma? (<string>, line 1)\n",
      "Attempt 4 failed: invalid syntax. Perhaps you forgot a comma? (<string>, line 1)\n"
     ]
    },
    {
     "name": "stderr",
     "output_type": "stream",
     "text": [
      "Generating questions with gemma3:12b:  82%|████████▏ | 10139/12370 [2:13:17<1:09:29,  1.87s/it]"
     ]
    },
    {
     "name": "stdout",
     "output_type": "stream",
     "text": [
      "Attempt 5 failed: invalid syntax. Perhaps you forgot a comma? (<string>, line 1)\n",
      "Failed to generate question after 5 attempts\n"
     ]
    },
    {
     "name": "stderr",
     "output_type": "stream",
     "text": [
      "Generating questions with gemma3:12b:  83%|████████▎ | 10281/12370 [2:15:00<26:41,  1.30it/s]  "
     ]
    },
    {
     "name": "stdout",
     "output_type": "stream",
     "text": [
      "Attempt 1 failed: invalid syntax. Perhaps you forgot a comma? (<string>, line 1)\n"
     ]
    },
    {
     "name": "stderr",
     "output_type": "stream",
     "text": [
      "Generating questions with gemma3:12b:  83%|████████▎ | 10294/12370 [2:15:10<25:01,  1.38it/s]"
     ]
    },
    {
     "name": "stdout",
     "output_type": "stream",
     "text": [
      "Attempt 1 failed: invalid syntax. Perhaps you forgot a comma? (<string>, line 1)\n",
      "Attempt 2 failed: invalid syntax. Perhaps you forgot a comma? (<string>, line 1)\n",
      "Attempt 3 failed: invalid syntax. Perhaps you forgot a comma? (<string>, line 1)\n",
      "Attempt 4 failed: invalid syntax. Perhaps you forgot a comma? (<string>, line 1)\n"
     ]
    },
    {
     "name": "stderr",
     "output_type": "stream",
     "text": [
      "Generating questions with gemma3:12b:  83%|████████▎ | 10295/12370 [2:15:15<1:06:47,  1.93s/it]"
     ]
    },
    {
     "name": "stdout",
     "output_type": "stream",
     "text": [
      "Attempt 5 failed: invalid syntax. Perhaps you forgot a comma? (<string>, line 1)\n",
      "Failed to generate question after 5 attempts\n"
     ]
    },
    {
     "name": "stderr",
     "output_type": "stream",
     "text": [
      "Generating questions with gemma3:12b:  84%|████████▎ | 10346/12370 [2:15:51<25:35,  1.32it/s]  "
     ]
    },
    {
     "name": "stdout",
     "output_type": "stream",
     "text": [
      "Error communicating with Ollama: 500 Server Error: Internal Server Error for url: http://localhost:11434/api/generate\n",
      "Attempt 1 failed: eval() arg 1 must be a string, bytes or code object\n"
     ]
    },
    {
     "name": "stderr",
     "output_type": "stream",
     "text": [
      "Generating questions with gemma3:12b:  84%|████████▍ | 10405/12370 [2:16:40<21:32,  1.52it/s]  "
     ]
    },
    {
     "name": "stdout",
     "output_type": "stream",
     "text": [
      "Error communicating with Ollama: 500 Server Error: Internal Server Error for url: http://localhost:11434/api/generate\n",
      "Attempt 1 failed: eval() arg 1 must be a string, bytes or code object\n"
     ]
    },
    {
     "name": "stderr",
     "output_type": "stream",
     "text": [
      "Generating questions with gemma3:12b:  87%|████████▋ | 10823/12370 [2:21:57<22:28,  1.15it/s]  "
     ]
    },
    {
     "name": "stdout",
     "output_type": "stream",
     "text": [
      "Error communicating with Ollama: 500 Server Error: Internal Server Error for url: http://localhost:11434/api/generate\n",
      "Attempt 1 failed: eval() arg 1 must be a string, bytes or code object\n"
     ]
    },
    {
     "name": "stderr",
     "output_type": "stream",
     "text": [
      "Generating questions with gemma3:12b:  88%|████████▊ | 10869/12370 [2:22:39<17:34,  1.42it/s]  "
     ]
    },
    {
     "name": "stdout",
     "output_type": "stream",
     "text": [
      "Attempt 1 failed: unterminated string literal (detected at line 1) (<string>, line 1)\n"
     ]
    },
    {
     "name": "stderr",
     "output_type": "stream",
     "text": [
      "Generating questions with gemma3:12b:  93%|█████████▎| 11486/12370 [2:30:22<10:04,  1.46it/s]<string>:1: SyntaxWarning: 'str' object is not callable; perhaps you missed a comma?\n"
     ]
    },
    {
     "name": "stdout",
     "output_type": "stream",
     "text": [
      "Attempt 1 failed: 'str' object is not callable\n"
     ]
    },
    {
     "name": "stderr",
     "output_type": "stream",
     "text": [
      "<string>:1: SyntaxWarning: 'str' object is not callable; perhaps you missed a comma?\n"
     ]
    },
    {
     "name": "stdout",
     "output_type": "stream",
     "text": [
      "Attempt 2 failed: 'str' object is not callable\n"
     ]
    },
    {
     "name": "stderr",
     "output_type": "stream",
     "text": [
      "<string>:1: SyntaxWarning: 'str' object is not callable; perhaps you missed a comma?\n"
     ]
    },
    {
     "name": "stdout",
     "output_type": "stream",
     "text": [
      "Attempt 3 failed: 'str' object is not callable\n"
     ]
    },
    {
     "name": "stderr",
     "output_type": "stream",
     "text": [
      "<string>:1: SyntaxWarning: 'str' object is not callable; perhaps you missed a comma?\n"
     ]
    },
    {
     "name": "stdout",
     "output_type": "stream",
     "text": [
      "Attempt 4 failed: 'str' object is not callable\n"
     ]
    },
    {
     "name": "stderr",
     "output_type": "stream",
     "text": [
      "<string>:1: SyntaxWarning: 'str' object is not callable; perhaps you missed a comma?\n",
      "Generating questions with gemma3:12b:  93%|█████████▎| 11487/12370 [2:30:26<23:31,  1.60s/it]"
     ]
    },
    {
     "name": "stdout",
     "output_type": "stream",
     "text": [
      "Attempt 5 failed: 'str' object is not callable\n",
      "Failed to generate question after 5 attempts\n"
     ]
    },
    {
     "name": "stderr",
     "output_type": "stream",
     "text": [
      "Generating questions with gemma3:12b:  93%|█████████▎| 11488/12370 [2:30:26<20:38,  1.40s/it]"
     ]
    },
    {
     "name": "stdout",
     "output_type": "stream",
     "text": [
      "Error communicating with Ollama: 500 Server Error: Internal Server Error for url: http://localhost:11434/api/generate\n",
      "Attempt 1 failed: eval() arg 1 must be a string, bytes or code object\n"
     ]
    },
    {
     "name": "stderr",
     "output_type": "stream",
     "text": [
      "Generating questions with gemma3:12b:  93%|█████████▎| 11509/12370 [2:30:49<11:07,  1.29it/s]"
     ]
    },
    {
     "name": "stdout",
     "output_type": "stream",
     "text": [
      "Attempt 1 failed: invalid syntax. Perhaps you forgot a comma? (<string>, line 1)\n",
      "Attempt 2 failed: invalid syntax. Perhaps you forgot a comma? (<string>, line 1)\n"
     ]
    },
    {
     "name": "stderr",
     "output_type": "stream",
     "text": [
      "Generating questions with gemma3:12b:  94%|█████████▎| 11586/12370 [2:31:50<10:45,  1.21it/s]"
     ]
    },
    {
     "name": "stdout",
     "output_type": "stream",
     "text": [
      "Attempt 1 failed: invalid syntax. Perhaps you forgot a comma? (<string>, line 1)\n",
      "Attempt 2 failed: invalid syntax. Perhaps you forgot a comma? (<string>, line 1)\n",
      "Attempt 3 failed: invalid syntax. Perhaps you forgot a comma? (<string>, line 1)\n",
      "Attempt 4 failed: invalid syntax. Perhaps you forgot a comma? (<string>, line 1)\n"
     ]
    },
    {
     "name": "stderr",
     "output_type": "stream",
     "text": [
      "Generating questions with gemma3:12b:  94%|█████████▎| 11587/12370 [2:31:55<27:23,  2.10s/it]"
     ]
    },
    {
     "name": "stdout",
     "output_type": "stream",
     "text": [
      "Attempt 5 failed: invalid syntax. Perhaps you forgot a comma? (<string>, line 1)\n",
      "Failed to generate question after 5 attempts\n"
     ]
    },
    {
     "name": "stderr",
     "output_type": "stream",
     "text": [
      "Generating questions with gemma3:12b:  94%|█████████▍| 11615/12370 [2:32:16<09:39,  1.30it/s]"
     ]
    },
    {
     "name": "stdout",
     "output_type": "stream",
     "text": [
      "Attempt 1 failed: invalid syntax. Perhaps you forgot a comma? (<string>, line 1)\n",
      "Attempt 2 failed: invalid syntax. Perhaps you forgot a comma? (<string>, line 1)\n"
     ]
    },
    {
     "name": "stderr",
     "output_type": "stream",
     "text": [
      "Generating questions with gemma3:12b:  94%|█████████▍| 11627/12370 [2:32:26<08:36,  1.44it/s]"
     ]
    },
    {
     "name": "stdout",
     "output_type": "stream",
     "text": [
      "Attempt 1 failed: invalid syntax. Perhaps you forgot a comma? (<string>, line 1)\n"
     ]
    },
    {
     "name": "stderr",
     "output_type": "stream",
     "text": [
      "Generating questions with gemma3:12b:  96%|█████████▌| 11863/12370 [2:35:37<06:30,  1.30it/s]"
     ]
    },
    {
     "name": "stdout",
     "output_type": "stream",
     "text": [
      "Error communicating with Ollama: 500 Server Error: Internal Server Error for url: http://localhost:11434/api/generate\n",
      "Attempt 1 failed: eval() arg 1 must be a string, bytes or code object\n"
     ]
    },
    {
     "name": "stderr",
     "output_type": "stream",
     "text": [
      "Generating questions with gemma3:12b:  96%|█████████▌| 11890/12370 [2:36:09<06:55,  1.16it/s]<string>:1: SyntaxWarning: 'str' object is not callable; perhaps you missed a comma?\n"
     ]
    },
    {
     "name": "stdout",
     "output_type": "stream",
     "text": [
      "Attempt 1 failed: 'str' object is not callable\n"
     ]
    },
    {
     "name": "stderr",
     "output_type": "stream",
     "text": [
      "Generating questions with gemma3:12b:  98%|█████████▊| 12107/12370 [2:39:25<02:28,  1.77it/s]"
     ]
    },
    {
     "name": "stdout",
     "output_type": "stream",
     "text": [
      "Attempt 1 failed: unterminated string literal (detected at line 1) (<string>, line 1)\n",
      "Attempt 2 failed: unterminated string literal (detected at line 1) (<string>, line 1)\n"
     ]
    },
    {
     "name": "stderr",
     "output_type": "stream",
     "text": [
      "Generating questions with gemma3:12b:  99%|█████████▉| 12232/12370 [2:41:06<01:45,  1.30it/s]"
     ]
    },
    {
     "name": "stdout",
     "output_type": "stream",
     "text": [
      "Error communicating with Ollama: 500 Server Error: Internal Server Error for url: http://localhost:11434/api/generate\n",
      "Attempt 1 failed: eval() arg 1 must be a string, bytes or code object\n"
     ]
    },
    {
     "name": "stderr",
     "output_type": "stream",
     "text": [
      "Generating questions with gemma3:12b: 100%|█████████▉| 12323/12370 [2:42:31<00:40,  1.17it/s]"
     ]
    },
    {
     "name": "stdout",
     "output_type": "stream",
     "text": [
      "Attempt 1 failed: invalid syntax. Perhaps you forgot a comma? (<string>, line 1)\n",
      "Attempt 2 failed: invalid syntax. Perhaps you forgot a comma? (<string>, line 1)\n",
      "Attempt 3 failed: invalid syntax. Perhaps you forgot a comma? (<string>, line 1)\n",
      "Attempt 4 failed: invalid syntax. Perhaps you forgot a comma? (<string>, line 1)\n"
     ]
    },
    {
     "name": "stderr",
     "output_type": "stream",
     "text": [
      "Generating questions with gemma3:12b: 100%|█████████▉| 12328/12370 [2:42:40<00:50,  1.21s/it]"
     ]
    },
    {
     "name": "stdout",
     "output_type": "stream",
     "text": [
      "Error communicating with Ollama: 500 Server Error: Internal Server Error for url: http://localhost:11434/api/generate\n",
      "Attempt 1 failed: eval() arg 1 must be a string, bytes or code object\n"
     ]
    },
    {
     "name": "stderr",
     "output_type": "stream",
     "text": [
      "Generating questions with gemma3:12b: 100%|██████████| 12370/12370 [2:43:25<00:00,  1.26it/s]\n"
     ]
    },
    {
     "data": {
      "text/html": [
       "<div>\n",
       "<style scoped>\n",
       "    .dataframe tbody tr th:only-of-type {\n",
       "        vertical-align: middle;\n",
       "    }\n",
       "\n",
       "    .dataframe tbody tr th {\n",
       "        vertical-align: top;\n",
       "    }\n",
       "\n",
       "    .dataframe thead th {\n",
       "        text-align: right;\n",
       "    }\n",
       "</style>\n",
       "<table border=\"1\" class=\"dataframe\">\n",
       "  <thead>\n",
       "    <tr style=\"text-align: right;\">\n",
       "      <th></th>\n",
       "      <th>source</th>\n",
       "      <th>text</th>\n",
       "      <th>llama3.2_question_text</th>\n",
       "      <th>llama3.2_answer</th>\n",
       "      <th>gemma3:12b_question</th>\n",
       "      <th>gemma3:12b_answer</th>\n",
       "    </tr>\n",
       "  </thead>\n",
       "  <tbody>\n",
       "    <tr>\n",
       "      <th>0</th>\n",
       "      <td>https://www.heinzhistorycenter.org/event/irish...</td>\n",
       "      <td>Skip Main NavigationSkip to site alert\\nHeinz ...</td>\n",
       "      <td>What is the date of the Irish Genealogy Workshop?</td>\n",
       "      <td>Tuesday, Mar. 4, 2025</td>\n",
       "      <td>What dates will the one-on-one consultation se...</td>\n",
       "      <td>The individual, one-on-one consultation sessio...</td>\n",
       "    </tr>\n",
       "    <tr>\n",
       "      <th>1</th>\n",
       "      <td>https://www.heinzhistorycenter.org/event/one-o...</td>\n",
       "      <td>Skip Main NavigationSkip to site alert\\nHeinz ...</td>\n",
       "      <td>What is a personal consultation with the Ulste...</td>\n",
       "      <td>A 30-minute consultation session where you wil...</td>\n",
       "      <td>What is the cost of a single 30-minute consult...</td>\n",
       "      <td>Each 30-minute consultation session is priced ...</td>\n",
       "    </tr>\n",
       "    <tr>\n",
       "      <th>2</th>\n",
       "      <td>https://www.heinzhistorycenter.org/event/histo...</td>\n",
       "      <td>Skip Main NavigationSkip to site alert\\nHeinz ...</td>\n",
       "      <td>When does History Uncorked: Mirror Ball take p...</td>\n",
       "      <td>Friday, Mar. 7, 2025</td>\n",
       "      <td>What is the date and time of the History Uncor...</td>\n",
       "      <td>History Uncorked: Mirror Ball will be held on ...</td>\n",
       "    </tr>\n",
       "    <tr>\n",
       "      <th>3</th>\n",
       "      <td>https://www.heinzhistorycenter.org/event/speak...</td>\n",
       "      <td>Skip Main NavigationSkip to site alert\\nHeinz ...</td>\n",
       "      <td>What is the title of Jason A. Cherry</td>\n",
       "      <td>Factor of Ambition</td>\n",
       "      <td>When will Jason A. Cherry's lecture on 'Willia...</td>\n",
       "      <td>Jason A. Cherry’s lecture will take place on S...</td>\n",
       "    </tr>\n",
       "    <tr>\n",
       "      <th>4</th>\n",
       "      <td>https://www.heinzhistorycenter.org/event/gut-y...</td>\n",
       "      <td>Skip Main NavigationSkip to site alert\\nHeinz ...</td>\n",
       "      <td>What does Gut Yontif mean?</td>\n",
       "      <td>Have a good holiday!</td>\n",
       "      <td>What does the Yiddish greeting 'Gut Yontif' me...</td>\n",
       "      <td>According to the text, 'Gut Yontif' is a Yiddi...</td>\n",
       "    </tr>\n",
       "    <tr>\n",
       "      <th>...</th>\n",
       "      <td>...</td>\n",
       "      <td>...</td>\n",
       "      <td>...</td>\n",
       "      <td>...</td>\n",
       "      <td>...</td>\n",
       "      <td>...</td>\n",
       "    </tr>\n",
       "    <tr>\n",
       "      <th>12365</th>\n",
       "      <td>2024_Operating_Budget.pdf</td>\n",
       "      <td>Anticipated 2028 Issuance ($49 million plus 1%...</td>\n",
       "      <td>('What is the City of Pittsburgh Operating Bud...</td>\n",
       "      <td>NaN</td>\n",
       "      <td>What is the amount of debt service for the Cit...</td>\n",
       "      <td>The City of Pittsburgh Operating Budget for Fi...</td>\n",
       "    </tr>\n",
       "    <tr>\n",
       "      <th>12366</th>\n",
       "      <td>2024_Operating_Budget.pdf</td>\n",
       "      <td>Pension Funding 318</td>\n",
       "      <td>(\"What is Pension Funding 318?\", \"A report on ...</td>\n",
       "      <td>NaN</td>\n",
       "      <td>What is the title of the text chunk provided?</td>\n",
       "      <td>The text chunk is titled 'Pension Funding 318'.</td>\n",
       "    </tr>\n",
       "    <tr>\n",
       "      <th>12367</th>\n",
       "      <td>2024_Operating_Budget.pdf</td>\n",
       "      <td>City of Pittsburgh Operating Budget  Fiscal Ye...</td>\n",
       "      <td>(\"What is the Pension Funding for City of Pitt...</td>\n",
       "      <td>NaN</td>\n",
       "      <td>What is the subject of document 319 within the...</td>\n",
       "      <td>Document 319 within the City of Pittsburgh Ope...</td>\n",
       "    </tr>\n",
       "    <tr>\n",
       "      <th>12368</th>\n",
       "      <td>2024_Operating_Budget.pdf</td>\n",
       "      <td>City of Pittsburgh Operating Budget  Fiscal Ye...</td>\n",
       "      <td>(\"Pension Funding in City of Pittsburgh Operat...</td>\n",
       "      <td>NaN</td>\n",
       "      <td>What is the subject of the City of Pittsburgh'...</td>\n",
       "      <td>The City of Pittsburgh Operating Budget for Fi...</td>\n",
       "    </tr>\n",
       "    <tr>\n",
       "      <th>12369</th>\n",
       "      <td>2024_Operating_Budget.pdf</td>\n",
       "      <td>City of Pittsburgh Operating Budget  Fiscal Ye...</td>\n",
       "      <td>(\"What is the total pension funding for City o...</td>\n",
       "      <td>NaN</td>\n",
       "      <td>What is the subject of document number 321 wit...</td>\n",
       "      <td>Document number 321 within the City of Pittsbu...</td>\n",
       "    </tr>\n",
       "  </tbody>\n",
       "</table>\n",
       "<p>12370 rows × 6 columns</p>\n",
       "</div>"
      ],
      "text/plain": [
       "                                                  source  \\\n",
       "0      https://www.heinzhistorycenter.org/event/irish...   \n",
       "1      https://www.heinzhistorycenter.org/event/one-o...   \n",
       "2      https://www.heinzhistorycenter.org/event/histo...   \n",
       "3      https://www.heinzhistorycenter.org/event/speak...   \n",
       "4      https://www.heinzhistorycenter.org/event/gut-y...   \n",
       "...                                                  ...   \n",
       "12365                          2024_Operating_Budget.pdf   \n",
       "12366                          2024_Operating_Budget.pdf   \n",
       "12367                          2024_Operating_Budget.pdf   \n",
       "12368                          2024_Operating_Budget.pdf   \n",
       "12369                          2024_Operating_Budget.pdf   \n",
       "\n",
       "                                                    text  \\\n",
       "0      Skip Main NavigationSkip to site alert\\nHeinz ...   \n",
       "1      Skip Main NavigationSkip to site alert\\nHeinz ...   \n",
       "2      Skip Main NavigationSkip to site alert\\nHeinz ...   \n",
       "3      Skip Main NavigationSkip to site alert\\nHeinz ...   \n",
       "4      Skip Main NavigationSkip to site alert\\nHeinz ...   \n",
       "...                                                  ...   \n",
       "12365  Anticipated 2028 Issuance ($49 million plus 1%...   \n",
       "12366                                Pension Funding 318   \n",
       "12367  City of Pittsburgh Operating Budget  Fiscal Ye...   \n",
       "12368  City of Pittsburgh Operating Budget  Fiscal Ye...   \n",
       "12369  City of Pittsburgh Operating Budget  Fiscal Ye...   \n",
       "\n",
       "                                  llama3.2_question_text  \\\n",
       "0      What is the date of the Irish Genealogy Workshop?   \n",
       "1      What is a personal consultation with the Ulste...   \n",
       "2      When does History Uncorked: Mirror Ball take p...   \n",
       "3                   What is the title of Jason A. Cherry   \n",
       "4                             What does Gut Yontif mean?   \n",
       "...                                                  ...   \n",
       "12365  ('What is the City of Pittsburgh Operating Bud...   \n",
       "12366  (\"What is Pension Funding 318?\", \"A report on ...   \n",
       "12367  (\"What is the Pension Funding for City of Pitt...   \n",
       "12368  (\"Pension Funding in City of Pittsburgh Operat...   \n",
       "12369  (\"What is the total pension funding for City o...   \n",
       "\n",
       "                                         llama3.2_answer  \\\n",
       "0                                  Tuesday, Mar. 4, 2025   \n",
       "1      A 30-minute consultation session where you wil...   \n",
       "2                                   Friday, Mar. 7, 2025   \n",
       "3                                     Factor of Ambition   \n",
       "4                                   Have a good holiday!   \n",
       "...                                                  ...   \n",
       "12365                                                NaN   \n",
       "12366                                                NaN   \n",
       "12367                                                NaN   \n",
       "12368                                                NaN   \n",
       "12369                                                NaN   \n",
       "\n",
       "                                     gemma3:12b_question  \\\n",
       "0      What dates will the one-on-one consultation se...   \n",
       "1      What is the cost of a single 30-minute consult...   \n",
       "2      What is the date and time of the History Uncor...   \n",
       "3      When will Jason A. Cherry's lecture on 'Willia...   \n",
       "4      What does the Yiddish greeting 'Gut Yontif' me...   \n",
       "...                                                  ...   \n",
       "12365  What is the amount of debt service for the Cit...   \n",
       "12366      What is the title of the text chunk provided?   \n",
       "12367  What is the subject of document 319 within the...   \n",
       "12368  What is the subject of the City of Pittsburgh'...   \n",
       "12369  What is the subject of document number 321 wit...   \n",
       "\n",
       "                                       gemma3:12b_answer  \n",
       "0      The individual, one-on-one consultation sessio...  \n",
       "1      Each 30-minute consultation session is priced ...  \n",
       "2      History Uncorked: Mirror Ball will be held on ...  \n",
       "3      Jason A. Cherry’s lecture will take place on S...  \n",
       "4      According to the text, 'Gut Yontif' is a Yiddi...  \n",
       "...                                                  ...  \n",
       "12365  The City of Pittsburgh Operating Budget for Fi...  \n",
       "12366    The text chunk is titled 'Pension Funding 318'.  \n",
       "12367  Document 319 within the City of Pittsburgh Ope...  \n",
       "12368  The City of Pittsburgh Operating Budget for Fi...  \n",
       "12369  Document number 321 within the City of Pittsbu...  \n",
       "\n",
       "[12370 rows x 6 columns]"
      ]
     },
     "execution_count": 31,
     "metadata": {},
     "output_type": "execute_result"
    }
   ],
   "source": [
    "generate_questions_for_dataset(df, model_name=\"gemma3:12b\", save_path=\"all_combined_gemma3.csv\")"
   ]
  },
  {
   "cell_type": "code",
   "execution_count": 34,
   "metadata": {},
   "outputs": [],
   "source": [
    "# generate_questions_for_dataset(df, model_name=\"deepseek-r1\", save_path=\"all_combined_R1.csv\")"
   ]
  },
  {
   "cell_type": "code",
   "execution_count": 32,
   "metadata": {},
   "outputs": [
    {
     "data": {
      "text/html": [
       "<div>\n",
       "<style scoped>\n",
       "    .dataframe tbody tr th:only-of-type {\n",
       "        vertical-align: middle;\n",
       "    }\n",
       "\n",
       "    .dataframe tbody tr th {\n",
       "        vertical-align: top;\n",
       "    }\n",
       "\n",
       "    .dataframe thead th {\n",
       "        text-align: right;\n",
       "    }\n",
       "</style>\n",
       "<table border=\"1\" class=\"dataframe\">\n",
       "  <thead>\n",
       "    <tr style=\"text-align: right;\">\n",
       "      <th></th>\n",
       "      <th>source</th>\n",
       "      <th>text</th>\n",
       "      <th>llama3.2_question_text</th>\n",
       "      <th>llama3.2_answer</th>\n",
       "      <th>gemma3:12b_question</th>\n",
       "      <th>gemma3:12b_answer</th>\n",
       "    </tr>\n",
       "  </thead>\n",
       "  <tbody>\n",
       "    <tr>\n",
       "      <th>0</th>\n",
       "      <td>https://www.heinzhistorycenter.org/event/irish...</td>\n",
       "      <td>Skip Main NavigationSkip to site alert\\nHeinz ...</td>\n",
       "      <td>What is the date of the Irish Genealogy Workshop?</td>\n",
       "      <td>Tuesday, Mar. 4, 2025</td>\n",
       "      <td>What dates will the one-on-one consultation se...</td>\n",
       "      <td>The individual, one-on-one consultation sessio...</td>\n",
       "    </tr>\n",
       "    <tr>\n",
       "      <th>1</th>\n",
       "      <td>https://www.heinzhistorycenter.org/event/one-o...</td>\n",
       "      <td>Skip Main NavigationSkip to site alert\\nHeinz ...</td>\n",
       "      <td>What is a personal consultation with the Ulste...</td>\n",
       "      <td>A 30-minute consultation session where you wil...</td>\n",
       "      <td>What is the cost of a single 30-minute consult...</td>\n",
       "      <td>Each 30-minute consultation session is priced ...</td>\n",
       "    </tr>\n",
       "    <tr>\n",
       "      <th>2</th>\n",
       "      <td>https://www.heinzhistorycenter.org/event/histo...</td>\n",
       "      <td>Skip Main NavigationSkip to site alert\\nHeinz ...</td>\n",
       "      <td>When does History Uncorked: Mirror Ball take p...</td>\n",
       "      <td>Friday, Mar. 7, 2025</td>\n",
       "      <td>What is the date and time of the History Uncor...</td>\n",
       "      <td>History Uncorked: Mirror Ball will be held on ...</td>\n",
       "    </tr>\n",
       "    <tr>\n",
       "      <th>3</th>\n",
       "      <td>https://www.heinzhistorycenter.org/event/speak...</td>\n",
       "      <td>Skip Main NavigationSkip to site alert\\nHeinz ...</td>\n",
       "      <td>What is the title of Jason A. Cherry</td>\n",
       "      <td>Factor of Ambition</td>\n",
       "      <td>When will Jason A. Cherry's lecture on 'Willia...</td>\n",
       "      <td>Jason A. Cherry’s lecture will take place on S...</td>\n",
       "    </tr>\n",
       "    <tr>\n",
       "      <th>4</th>\n",
       "      <td>https://www.heinzhistorycenter.org/event/gut-y...</td>\n",
       "      <td>Skip Main NavigationSkip to site alert\\nHeinz ...</td>\n",
       "      <td>What does Gut Yontif mean?</td>\n",
       "      <td>Have a good holiday!</td>\n",
       "      <td>What does the Yiddish greeting 'Gut Yontif' me...</td>\n",
       "      <td>According to the text, 'Gut Yontif' is a Yiddi...</td>\n",
       "    </tr>\n",
       "  </tbody>\n",
       "</table>\n",
       "</div>"
      ],
      "text/plain": [
       "                                              source  \\\n",
       "0  https://www.heinzhistorycenter.org/event/irish...   \n",
       "1  https://www.heinzhistorycenter.org/event/one-o...   \n",
       "2  https://www.heinzhistorycenter.org/event/histo...   \n",
       "3  https://www.heinzhistorycenter.org/event/speak...   \n",
       "4  https://www.heinzhistorycenter.org/event/gut-y...   \n",
       "\n",
       "                                                text  \\\n",
       "0  Skip Main NavigationSkip to site alert\\nHeinz ...   \n",
       "1  Skip Main NavigationSkip to site alert\\nHeinz ...   \n",
       "2  Skip Main NavigationSkip to site alert\\nHeinz ...   \n",
       "3  Skip Main NavigationSkip to site alert\\nHeinz ...   \n",
       "4  Skip Main NavigationSkip to site alert\\nHeinz ...   \n",
       "\n",
       "                              llama3.2_question_text  \\\n",
       "0  What is the date of the Irish Genealogy Workshop?   \n",
       "1  What is a personal consultation with the Ulste...   \n",
       "2  When does History Uncorked: Mirror Ball take p...   \n",
       "3               What is the title of Jason A. Cherry   \n",
       "4                         What does Gut Yontif mean?   \n",
       "\n",
       "                                     llama3.2_answer  \\\n",
       "0                              Tuesday, Mar. 4, 2025   \n",
       "1  A 30-minute consultation session where you wil...   \n",
       "2                               Friday, Mar. 7, 2025   \n",
       "3                                 Factor of Ambition   \n",
       "4                               Have a good holiday!   \n",
       "\n",
       "                                 gemma3:12b_question  \\\n",
       "0  What dates will the one-on-one consultation se...   \n",
       "1  What is the cost of a single 30-minute consult...   \n",
       "2  What is the date and time of the History Uncor...   \n",
       "3  When will Jason A. Cherry's lecture on 'Willia...   \n",
       "4  What does the Yiddish greeting 'Gut Yontif' me...   \n",
       "\n",
       "                                   gemma3:12b_answer  \n",
       "0  The individual, one-on-one consultation sessio...  \n",
       "1  Each 30-minute consultation session is priced ...  \n",
       "2  History Uncorked: Mirror Ball will be held on ...  \n",
       "3  Jason A. Cherry’s lecture will take place on S...  \n",
       "4  According to the text, 'Gut Yontif' is a Yiddi...  "
      ]
     },
     "execution_count": 32,
     "metadata": {},
     "output_type": "execute_result"
    }
   ],
   "source": [
    "df = pd.read_csv(\"all_combined_gemma3.csv\", lineterminator='\\n')\n",
    "df.head()"
   ]
  },
  {
   "cell_type": "code",
   "execution_count": 35,
   "metadata": {},
   "outputs": [
    {
     "name": "stdout",
     "output_type": "stream",
     "text": [
      "Original dataframe shape: (12370, 6)\n",
      "Filtered dataframe shape: (12352, 4)\n"
     ]
    },
    {
     "data": {
      "text/html": [
       "<div>\n",
       "<style scoped>\n",
       "    .dataframe tbody tr th:only-of-type {\n",
       "        vertical-align: middle;\n",
       "    }\n",
       "\n",
       "    .dataframe tbody tr th {\n",
       "        vertical-align: top;\n",
       "    }\n",
       "\n",
       "    .dataframe thead th {\n",
       "        text-align: right;\n",
       "    }\n",
       "</style>\n",
       "<table border=\"1\" class=\"dataframe\">\n",
       "  <thead>\n",
       "    <tr style=\"text-align: right;\">\n",
       "      <th></th>\n",
       "      <th>source</th>\n",
       "      <th>text</th>\n",
       "      <th>gemma3:12b_question</th>\n",
       "      <th>gemma3:12b_answer</th>\n",
       "    </tr>\n",
       "  </thead>\n",
       "  <tbody>\n",
       "    <tr>\n",
       "      <th>0</th>\n",
       "      <td>https://www.heinzhistorycenter.org/event/irish...</td>\n",
       "      <td>Skip Main NavigationSkip to site alert\\nHeinz ...</td>\n",
       "      <td>What dates will the one-on-one consultation se...</td>\n",
       "      <td>The individual, one-on-one consultation sessio...</td>\n",
       "    </tr>\n",
       "    <tr>\n",
       "      <th>1</th>\n",
       "      <td>https://www.heinzhistorycenter.org/event/one-o...</td>\n",
       "      <td>Skip Main NavigationSkip to site alert\\nHeinz ...</td>\n",
       "      <td>What is the cost of a single 30-minute consult...</td>\n",
       "      <td>Each 30-minute consultation session is priced ...</td>\n",
       "    </tr>\n",
       "    <tr>\n",
       "      <th>2</th>\n",
       "      <td>https://www.heinzhistorycenter.org/event/histo...</td>\n",
       "      <td>Skip Main NavigationSkip to site alert\\nHeinz ...</td>\n",
       "      <td>What is the date and time of the History Uncor...</td>\n",
       "      <td>History Uncorked: Mirror Ball will be held on ...</td>\n",
       "    </tr>\n",
       "    <tr>\n",
       "      <th>3</th>\n",
       "      <td>https://www.heinzhistorycenter.org/event/speak...</td>\n",
       "      <td>Skip Main NavigationSkip to site alert\\nHeinz ...</td>\n",
       "      <td>When will Jason A. Cherry's lecture on 'Willia...</td>\n",
       "      <td>Jason A. Cherry’s lecture will take place on S...</td>\n",
       "    </tr>\n",
       "    <tr>\n",
       "      <th>4</th>\n",
       "      <td>https://www.heinzhistorycenter.org/event/gut-y...</td>\n",
       "      <td>Skip Main NavigationSkip to site alert\\nHeinz ...</td>\n",
       "      <td>What does the Yiddish greeting 'Gut Yontif' me...</td>\n",
       "      <td>According to the text, 'Gut Yontif' is a Yiddi...</td>\n",
       "    </tr>\n",
       "  </tbody>\n",
       "</table>\n",
       "</div>"
      ],
      "text/plain": [
       "                                              source  \\\n",
       "0  https://www.heinzhistorycenter.org/event/irish...   \n",
       "1  https://www.heinzhistorycenter.org/event/one-o...   \n",
       "2  https://www.heinzhistorycenter.org/event/histo...   \n",
       "3  https://www.heinzhistorycenter.org/event/speak...   \n",
       "4  https://www.heinzhistorycenter.org/event/gut-y...   \n",
       "\n",
       "                                                text  \\\n",
       "0  Skip Main NavigationSkip to site alert\\nHeinz ...   \n",
       "1  Skip Main NavigationSkip to site alert\\nHeinz ...   \n",
       "2  Skip Main NavigationSkip to site alert\\nHeinz ...   \n",
       "3  Skip Main NavigationSkip to site alert\\nHeinz ...   \n",
       "4  Skip Main NavigationSkip to site alert\\nHeinz ...   \n",
       "\n",
       "                                 gemma3:12b_question  \\\n",
       "0  What dates will the one-on-one consultation se...   \n",
       "1  What is the cost of a single 30-minute consult...   \n",
       "2  What is the date and time of the History Uncor...   \n",
       "3  When will Jason A. Cherry's lecture on 'Willia...   \n",
       "4  What does the Yiddish greeting 'Gut Yontif' me...   \n",
       "\n",
       "                                   gemma3:12b_answer  \n",
       "0  The individual, one-on-one consultation sessio...  \n",
       "1  Each 30-minute consultation session is priced ...  \n",
       "2  History Uncorked: Mirror Ball will be held on ...  \n",
       "3  Jason A. Cherry’s lecture will take place on S...  \n",
       "4  According to the text, 'Gut Yontif' is a Yiddi...  "
      ]
     },
     "execution_count": 35,
     "metadata": {},
     "output_type": "execute_result"
    }
   ],
   "source": [
    "# Filter out rows with NaN values in gemma3:12b_question or gemma3:12b_answer columns\n",
    "df = pd.read_csv(\"all_combined_gemma3.csv\", lineterminator='\\n')\n",
    "df_filtered = df.dropna(subset=['gemma3:12b_question', 'gemma3:12b_answer'])\n",
    "df_filtered = df_filtered[['source', 'text', 'gemma3:12b_question', 'gemma3:12b_answer']]\n",
    "\n",
    "# Save the filtered dataframe to a new CSV file\n",
    "df_filtered.to_csv(\"gemma3_questions_filtered.csv\", index=False)\n",
    "\n",
    "# Display the filtered dataframe\n",
    "print(f\"Original dataframe shape: {df.shape}\")\n",
    "print(f\"Filtered dataframe shape: {df_filtered.shape}\")\n",
    "df_filtered.head()\n"
   ]
  },
  {
   "cell_type": "code",
   "execution_count": 42,
   "metadata": {},
   "outputs": [
    {
     "data": {
      "text/plain": [
       "'The individual, one-on-one consultation sessions with speakers will take place on Wednesday, March 4, 2025.'"
      ]
     },
     "execution_count": 42,
     "metadata": {},
     "output_type": "execute_result"
    }
   ],
   "source": [
    "df_filtered.head(10)[\"gemma3:12b_question\"][0]\n",
    "df_filtered.head(10)[\"gemma3:12b_answer\"][0]"
   ]
  },
  {
   "cell_type": "code",
   "execution_count": 36,
   "metadata": {},
   "outputs": [],
   "source": [
    "df = pd.read_csv(\"gemma3_questions_filtered.csv\", lineterminator='\\n')\n"
   ]
  },
  {
   "cell_type": "code",
   "execution_count": 48,
   "metadata": {},
   "outputs": [],
   "source": [
    "import requests\n",
    "import json\n",
    "\n",
    "def categorize_question(question, answer, model_name=\"llama3.2\"):\n",
    "    \"\"\"\n",
    "    Categorize a given question into one of the predefined categories using an Ollama model.\n",
    "    \n",
    "    Args:\n",
    "        question (str): The question to categorize\n",
    "        model_name (str): The name of the Ollama model to use (default: \"llama3.2\")\n",
    "        \n",
    "    Returns:\n",
    "        str: Category number of the question\n",
    "    \"\"\"\n",
    "    # Ollama API endpoint (default is localhost on port 11434)\n",
    "    api_url = \"http://localhost:11434/api/generate\"\n",
    "    \n",
    "    # Create the prompt for question categorization\n",
    "    prompt = f\"\"\"\n",
    "    You are an expert question categorizer. Your task is to analyze the provided question and classify it into one of the predefined categories.\n",
    "\n",
    "    QUESTION:\n",
    "    {question}\n",
    "    ANSWER:\n",
    "    {answer}\n",
    "\n",
    "    CATEGORIES:\n",
    "    1. Basic factual questions (e.g., \"When was Carnegie Mellon University founded?\")\n",
    "    2. Document-enhanced questions that benefit from specific textual context (e.g., \"What is the name of the annual pickle festival held in Pittsburgh?\")\n",
    "    3. Specific information questions that require exact details from the text (e.g., \"When was the Pittsburgh Soul Food Festival established?\")\n",
    "    4. Time-sensitive questions related to events, schedules, or dates (e.g., \"Who is performing at City Theatre on May 15th?\")\n",
    "    \n",
    "    OUTPUT FORMAT:\n",
    "    Return ONLY the category number (1, 2, 3, or 4) with no explanations, comments, or additional text.\n",
    "    \n",
    "    Categorize the question now:\n",
    "    \"\"\"\n",
    "    \n",
    "    # Prepare the request payload\n",
    "    payload = {\n",
    "        \"model\": model_name,\n",
    "        \"prompt\": prompt,\n",
    "        \"stream\": False\n",
    "    }\n",
    "    \n",
    "    try:\n",
    "        # Make the API request to Ollama\n",
    "        response = requests.post(api_url, json=payload)\n",
    "        response.raise_for_status()  # Raise exception for HTTP errors\n",
    "        \n",
    "        # Parse the response\n",
    "        result = response.json()\n",
    "        return result[\"response\"].strip()\n",
    "    \n",
    "    except requests.exceptions.RequestException as e:\n",
    "        print(f\"Error communicating with Ollama: {e}\")\n",
    "        return None\n",
    "    except (KeyError, json.JSONDecodeError) as e:\n",
    "        print(f\"Error processing Ollama response: {e}\")\n",
    "        return None"
   ]
  },
  {
   "cell_type": "code",
   "execution_count": 45,
   "metadata": {},
   "outputs": [
    {
     "name": "stdout",
     "output_type": "stream",
     "text": [
      "4\n"
     ]
    }
   ],
   "source": [
    "question = \"'What dates will the one-on-one consultation sessions with speakers take place?'\"\n",
    "answer = \"'The individual, one-on-one consultation sessions with speakers will take place on Wednesday, March 4, 2025.'\"\n",
    "questions = categorize_question(question, answer, model_name=\"gemma3:12b\")\n",
    "print(questions)"
   ]
  },
  {
   "cell_type": "code",
   "execution_count": 49,
   "metadata": {},
   "outputs": [],
   "source": [
    "def categorize_question_for_dataset(df, model_name=\"llama3.3:latest\", max_attempts=5, save_path=\"all_combined.csv\"):\n",
    "    \"\"\"\n",
    "    Generate questions for each text in the dataframe using the specified model.\n",
    "    \n",
    "    Args:\n",
    "        df: DataFrame containing a 'text' column\n",
    "        model_name: Name of the model to use for question generation\n",
    "        max_attempts: Maximum number of attempts for each text\n",
    "        save_path: Path to save the updated dataframe\n",
    "        \n",
    "    Returns:\n",
    "        Updated DataFrame with a new column containing generated questions\n",
    "    \"\"\"\n",
    "\n",
    "    \n",
    "    all_categories = []\n",
    "    dictionary = {'1': 'Basic factual questions', '2': 'Document-enhanced questions', '3': 'Specific information questions', '4': 'Time-sensitive questions'}\n",
    "    # Add tqdm progress bar\n",
    "    for i in tqdm(range(len(df)), desc=f\"Generating questions with {model_name}\"):\n",
    "        # if i % 100 == 0:\n",
    "        #     print(\"current row index: \", i)\n",
    "        attempts = 0\n",
    "        \n",
    "        while attempts < max_attempts:\n",
    "            try:\n",
    "                response = categorize_question(df[\"gemma3:12b_question\"][i], df[\"gemma3:12b_answer\"][i], model_name=model_name)\n",
    "                # print(\"The text is: \", df[\"text\"][i])\n",
    "                \n",
    "                if response in dictionary:  # If we got a valid response\n",
    "                    # print(\"-------- ---------\")\n",
    "                    # print(question)\n",
    "                    # print(answer)\n",
    "                    # print(\"-------- ---------\")\n",
    "                    break\n",
    "                raise Exception(\"Empty response received\")\n",
    "                \n",
    "            except Exception as e:\n",
    "                attempts += 1\n",
    "                print(f\"Attempt {attempts} failed: {str(e)}\")\n",
    "                if attempts == max_attempts:\n",
    "                    print(f\"Failed to generate question after {max_attempts} attempts\")\n",
    "        if response in dictionary:\n",
    "            all_categories.append(dictionary[response])\n",
    "        else:\n",
    "            all_categories.append(\"\")\n",
    "\n",
    "    # After collecting all questions, add them as a new column\n",
    "    column_name = f\"category\"\n",
    "    df[column_name] = all_categories\n",
    "\n",
    "\n",
    "    # Save the final dataframe once at the end\n",
    "    df.to_csv(save_path, index=False)\n",
    "    \n",
    "    return df"
   ]
  },
  {
   "cell_type": "code",
   "execution_count": 51,
   "metadata": {},
   "outputs": [
    {
     "name": "stderr",
     "output_type": "stream",
     "text": [
      "Generating questions with gemma3:12b:   0%|          | 61/12352 [00:04<14:19, 14.29it/s]"
     ]
    },
    {
     "name": "stdout",
     "output_type": "stream",
     "text": [
      "Attempt 1 failed: 58\n",
      "Attempt 2 failed: 58\n",
      "Attempt 3 failed: 58\n",
      "Attempt 4 failed: 58\n",
      "Attempt 5 failed: 58\n",
      "Failed to generate question after 5 attempts\n"
     ]
    },
    {
     "name": "stderr",
     "output_type": "stream",
     "text": [
      "Generating questions with gemma3:12b:   2%|▏         | 288/12352 [00:23<14:29, 13.87it/s]"
     ]
    },
    {
     "name": "stdout",
     "output_type": "stream",
     "text": [
      "Attempt 1 failed: 285\n",
      "Attempt 2 failed: 285\n",
      "Attempt 3 failed: 285\n",
      "Attempt 4 failed: 285\n",
      "Attempt 5 failed: 285\n",
      "Failed to generate question after 5 attempts\n"
     ]
    },
    {
     "name": "stderr",
     "output_type": "stream",
     "text": [
      "Generating questions with gemma3:12b:   3%|▎         | 385/12352 [00:31<14:10, 14.07it/s]"
     ]
    },
    {
     "name": "stdout",
     "output_type": "stream",
     "text": [
      "Attempt 1 failed: 382\n",
      "Attempt 2 failed: 382\n",
      "Attempt 3 failed: 382\n",
      "Attempt 4 failed: 382\n",
      "Attempt 5 failed: 382\n",
      "Failed to generate question after 5 attempts\n"
     ]
    },
    {
     "name": "stderr",
     "output_type": "stream",
     "text": [
      "Generating questions with gemma3:12b:  31%|███       | 3792/12352 [05:04<10:25, 13.68it/s]"
     ]
    },
    {
     "name": "stdout",
     "output_type": "stream",
     "text": [
      "Attempt 1 failed: 3789\n",
      "Attempt 2 failed: 3789\n",
      "Attempt 3 failed: 3789\n",
      "Attempt 4 failed: 3789\n",
      "Attempt 5 failed: 3789\n",
      "Failed to generate question after 5 attempts\n"
     ]
    },
    {
     "name": "stderr",
     "output_type": "stream",
     "text": [
      "Generating questions with gemma3:12b:  34%|███▎      | 4163/12352 [05:34<09:53, 13.79it/s]"
     ]
    },
    {
     "name": "stdout",
     "output_type": "stream",
     "text": [
      "Attempt 1 failed: 4161\n",
      "Attempt 2 failed: 4161\n",
      "Attempt 3 failed: 4161\n",
      "Attempt 4 failed: 4161\n",
      "Attempt 5 failed: 4161\n",
      "Failed to generate question after 5 attempts\n"
     ]
    },
    {
     "name": "stderr",
     "output_type": "stream",
     "text": [
      "Generating questions with gemma3:12b:  38%|███▊      | 4686/12352 [06:15<08:57, 14.26it/s]"
     ]
    },
    {
     "name": "stdout",
     "output_type": "stream",
     "text": [
      "Attempt 1 failed: 4684\n",
      "Attempt 2 failed: 4684\n",
      "Attempt 3 failed: 4684\n",
      "Attempt 4 failed: 4684\n",
      "Attempt 5 failed: 4684\n",
      "Failed to generate question after 5 attempts\n"
     ]
    },
    {
     "name": "stderr",
     "output_type": "stream",
     "text": [
      "Generating questions with gemma3:12b:  50%|█████     | 6213/12352 [08:18<07:10, 14.25it/s]"
     ]
    },
    {
     "name": "stdout",
     "output_type": "stream",
     "text": [
      "Attempt 1 failed: 6210\n",
      "Attempt 2 failed: 6210\n",
      "Attempt 3 failed: 6210\n",
      "Attempt 4 failed: 6210\n",
      "Attempt 5 failed: 6210\n",
      "Failed to generate question after 5 attempts\n"
     ]
    },
    {
     "name": "stderr",
     "output_type": "stream",
     "text": [
      "Generating questions with gemma3:12b:  52%|█████▏    | 6476/12352 [08:39<06:54, 14.18it/s]"
     ]
    },
    {
     "name": "stdout",
     "output_type": "stream",
     "text": [
      "Attempt 1 failed: 6473\n",
      "Attempt 2 failed: 6473\n",
      "Attempt 3 failed: 6473\n",
      "Attempt 4 failed: 6473\n",
      "Attempt 5 failed: 6473\n",
      "Failed to generate question after 5 attempts\n"
     ]
    },
    {
     "name": "stderr",
     "output_type": "stream",
     "text": [
      "Generating questions with gemma3:12b:  53%|█████▎    | 6489/12352 [08:40<06:46, 14.43it/s]"
     ]
    },
    {
     "name": "stdout",
     "output_type": "stream",
     "text": [
      "Attempt 1 failed: 6486\n",
      "Attempt 2 failed: 6486\n",
      "Attempt 3 failed: 6486\n",
      "Attempt 4 failed: 6486\n",
      "Attempt 5 failed: 6486\n",
      "Failed to generate question after 5 attempts\n"
     ]
    },
    {
     "name": "stderr",
     "output_type": "stream",
     "text": [
      "Generating questions with gemma3:12b:  54%|█████▎    | 6624/12352 [08:51<06:37, 14.42it/s]"
     ]
    },
    {
     "name": "stdout",
     "output_type": "stream",
     "text": [
      "Attempt 1 failed: 6621\n",
      "Attempt 2 failed: 6621\n",
      "Attempt 3 failed: 6621\n",
      "Attempt 4 failed: 6621\n",
      "Attempt 5 failed: 6621\n",
      "Failed to generate question after 5 attempts\n"
     ]
    },
    {
     "name": "stderr",
     "output_type": "stream",
     "text": [
      "Generating questions with gemma3:12b:  54%|█████▎    | 6637/12352 [08:52<06:31, 14.60it/s]"
     ]
    },
    {
     "name": "stdout",
     "output_type": "stream",
     "text": [
      "Attempt 1 failed: 6634\n",
      "Attempt 2 failed: 6634\n",
      "Attempt 3 failed: 6634\n",
      "Attempt 4 failed: 6634\n",
      "Attempt 5 failed: 6634\n",
      "Failed to generate question after 5 attempts\n"
     ]
    },
    {
     "name": "stderr",
     "output_type": "stream",
     "text": [
      "Generating questions with gemma3:12b:  57%|█████▋    | 7000/12352 [09:21<06:16, 14.21it/s]"
     ]
    },
    {
     "name": "stdout",
     "output_type": "stream",
     "text": [
      "Attempt 1 failed: 6997\n",
      "Attempt 2 failed: 6997\n",
      "Attempt 3 failed: 6997\n",
      "Attempt 4 failed: 6997\n",
      "Attempt 5 failed: 6997\n",
      "Failed to generate question after 5 attempts\n"
     ]
    },
    {
     "name": "stderr",
     "output_type": "stream",
     "text": [
      "Generating questions with gemma3:12b:  64%|██████▎   | 7863/12352 [10:31<05:12, 14.35it/s]"
     ]
    },
    {
     "name": "stdout",
     "output_type": "stream",
     "text": [
      "Attempt 1 failed: 7861\n",
      "Attempt 2 failed: 7861\n",
      "Attempt 3 failed: 7861\n",
      "Attempt 4 failed: 7861\n",
      "Attempt 5 failed: 7861\n",
      "Failed to generate question after 5 attempts\n"
     ]
    },
    {
     "name": "stderr",
     "output_type": "stream",
     "text": [
      "Generating questions with gemma3:12b:  80%|███████▉  | 9842/12352 [13:11<02:56, 14.24it/s]"
     ]
    },
    {
     "name": "stdout",
     "output_type": "stream",
     "text": [
      "Attempt 1 failed: 9840\n",
      "Attempt 2 failed: 9840\n",
      "Attempt 3 failed: 9840\n",
      "Attempt 4 failed: 9840\n",
      "Attempt 5 failed: 9840\n",
      "Failed to generate question after 5 attempts\n"
     ]
    },
    {
     "name": "stderr",
     "output_type": "stream",
     "text": [
      "Generating questions with gemma3:12b:  82%|████████▏ | 10141/12352 [13:36<02:39, 13.85it/s]"
     ]
    },
    {
     "name": "stdout",
     "output_type": "stream",
     "text": [
      "Attempt 1 failed: 10138\n",
      "Attempt 2 failed: 10138\n",
      "Attempt 3 failed: 10138\n",
      "Attempt 4 failed: 10138\n",
      "Attempt 5 failed: 10138\n",
      "Failed to generate question after 5 attempts\n"
     ]
    },
    {
     "name": "stderr",
     "output_type": "stream",
     "text": [
      "Generating questions with gemma3:12b:  83%|████████▎ | 10296/12352 [13:48<02:25, 14.13it/s]"
     ]
    },
    {
     "name": "stdout",
     "output_type": "stream",
     "text": [
      "Attempt 1 failed: 10294\n",
      "Attempt 2 failed: 10294\n",
      "Attempt 3 failed: 10294\n",
      "Attempt 4 failed: 10294\n",
      "Attempt 5 failed: 10294\n",
      "Failed to generate question after 5 attempts\n"
     ]
    },
    {
     "name": "stderr",
     "output_type": "stream",
     "text": [
      "Generating questions with gemma3:12b:  93%|█████████▎| 11489/12352 [15:25<01:01, 14.02it/s]"
     ]
    },
    {
     "name": "stdout",
     "output_type": "stream",
     "text": [
      "Attempt 1 failed: 11486\n",
      "Attempt 2 failed: 11486\n",
      "Attempt 3 failed: 11486\n",
      "Attempt 4 failed: 11486\n",
      "Attempt 5 failed: 11486\n",
      "Failed to generate question after 5 attempts\n"
     ]
    },
    {
     "name": "stderr",
     "output_type": "stream",
     "text": [
      "Generating questions with gemma3:12b:  94%|█████████▍| 11588/12352 [15:33<00:54, 14.03it/s]"
     ]
    },
    {
     "name": "stdout",
     "output_type": "stream",
     "text": [
      "Attempt 1 failed: 11586\n",
      "Attempt 2 failed: 11586\n",
      "Attempt 3 failed: 11586\n",
      "Attempt 4 failed: 11586\n",
      "Attempt 5 failed: 11586\n",
      "Failed to generate question after 5 attempts\n"
     ]
    },
    {
     "name": "stderr",
     "output_type": "stream",
     "text": [
      "Generating questions with gemma3:12b: 100%|██████████| 12352/12352 [16:35<00:00, 12.40it/s]\n"
     ]
    },
    {
     "data": {
      "text/html": [
       "<div>\n",
       "<style scoped>\n",
       "    .dataframe tbody tr th:only-of-type {\n",
       "        vertical-align: middle;\n",
       "    }\n",
       "\n",
       "    .dataframe tbody tr th {\n",
       "        vertical-align: top;\n",
       "    }\n",
       "\n",
       "    .dataframe thead th {\n",
       "        text-align: right;\n",
       "    }\n",
       "</style>\n",
       "<table border=\"1\" class=\"dataframe\">\n",
       "  <thead>\n",
       "    <tr style=\"text-align: right;\">\n",
       "      <th></th>\n",
       "      <th>source</th>\n",
       "      <th>text</th>\n",
       "      <th>gemma3:12b_question</th>\n",
       "      <th>gemma3:12b_answer</th>\n",
       "      <th>category</th>\n",
       "    </tr>\n",
       "  </thead>\n",
       "  <tbody>\n",
       "    <tr>\n",
       "      <th>0</th>\n",
       "      <td>https://www.heinzhistorycenter.org/event/irish...</td>\n",
       "      <td>Skip Main NavigationSkip to site alert\\nHeinz ...</td>\n",
       "      <td>What dates will the one-on-one consultation se...</td>\n",
       "      <td>The individual, one-on-one consultation sessio...</td>\n",
       "      <td>Time-sensitive questions</td>\n",
       "    </tr>\n",
       "    <tr>\n",
       "      <th>1</th>\n",
       "      <td>https://www.heinzhistorycenter.org/event/one-o...</td>\n",
       "      <td>Skip Main NavigationSkip to site alert\\nHeinz ...</td>\n",
       "      <td>What is the cost of a single 30-minute consult...</td>\n",
       "      <td>Each 30-minute consultation session is priced ...</td>\n",
       "      <td>Specific information questions</td>\n",
       "    </tr>\n",
       "    <tr>\n",
       "      <th>2</th>\n",
       "      <td>https://www.heinzhistorycenter.org/event/histo...</td>\n",
       "      <td>Skip Main NavigationSkip to site alert\\nHeinz ...</td>\n",
       "      <td>What is the date and time of the History Uncor...</td>\n",
       "      <td>History Uncorked: Mirror Ball will be held on ...</td>\n",
       "      <td>Time-sensitive questions</td>\n",
       "    </tr>\n",
       "    <tr>\n",
       "      <th>3</th>\n",
       "      <td>https://www.heinzhistorycenter.org/event/speak...</td>\n",
       "      <td>Skip Main NavigationSkip to site alert\\nHeinz ...</td>\n",
       "      <td>When will Jason A. Cherry's lecture on 'Willia...</td>\n",
       "      <td>Jason A. Cherry’s lecture will take place on S...</td>\n",
       "      <td>Time-sensitive questions</td>\n",
       "    </tr>\n",
       "    <tr>\n",
       "      <th>4</th>\n",
       "      <td>https://www.heinzhistorycenter.org/event/gut-y...</td>\n",
       "      <td>Skip Main NavigationSkip to site alert\\nHeinz ...</td>\n",
       "      <td>What does the Yiddish greeting 'Gut Yontif' me...</td>\n",
       "      <td>According to the text, 'Gut Yontif' is a Yiddi...</td>\n",
       "      <td>Document-enhanced questions</td>\n",
       "    </tr>\n",
       "    <tr>\n",
       "      <th>...</th>\n",
       "      <td>...</td>\n",
       "      <td>...</td>\n",
       "      <td>...</td>\n",
       "      <td>...</td>\n",
       "      <td>...</td>\n",
       "    </tr>\n",
       "    <tr>\n",
       "      <th>12365</th>\n",
       "      <td>2024_Operating_Budget.pdf</td>\n",
       "      <td>Anticipated 2028 Issuance ($49 million plus 1%...</td>\n",
       "      <td>What is the amount of debt service for the Cit...</td>\n",
       "      <td>The City of Pittsburgh Operating Budget for Fi...</td>\n",
       "      <td>Specific information questions</td>\n",
       "    </tr>\n",
       "    <tr>\n",
       "      <th>12366</th>\n",
       "      <td>2024_Operating_Budget.pdf</td>\n",
       "      <td>Pension Funding 318</td>\n",
       "      <td>What is the title of the text chunk provided?</td>\n",
       "      <td>The text chunk is titled 'Pension Funding 318'.</td>\n",
       "      <td>Document-enhanced questions</td>\n",
       "    </tr>\n",
       "    <tr>\n",
       "      <th>12367</th>\n",
       "      <td>2024_Operating_Budget.pdf</td>\n",
       "      <td>City of Pittsburgh Operating Budget  Fiscal Ye...</td>\n",
       "      <td>What is the subject of document 319 within the...</td>\n",
       "      <td>Document 319 within the City of Pittsburgh Ope...</td>\n",
       "      <td>Specific information questions</td>\n",
       "    </tr>\n",
       "    <tr>\n",
       "      <th>12368</th>\n",
       "      <td>2024_Operating_Budget.pdf</td>\n",
       "      <td>City of Pittsburgh Operating Budget  Fiscal Ye...</td>\n",
       "      <td>What is the subject of the City of Pittsburgh'...</td>\n",
       "      <td>The City of Pittsburgh Operating Budget for Fi...</td>\n",
       "      <td>Specific information questions</td>\n",
       "    </tr>\n",
       "    <tr>\n",
       "      <th>12369</th>\n",
       "      <td>2024_Operating_Budget.pdf</td>\n",
       "      <td>City of Pittsburgh Operating Budget  Fiscal Ye...</td>\n",
       "      <td>What is the subject of document number 321 wit...</td>\n",
       "      <td>Document number 321 within the City of Pittsbu...</td>\n",
       "      <td>Specific information questions</td>\n",
       "    </tr>\n",
       "  </tbody>\n",
       "</table>\n",
       "<p>12352 rows × 5 columns</p>\n",
       "</div>"
      ],
      "text/plain": [
       "                                                  source  \\\n",
       "0      https://www.heinzhistorycenter.org/event/irish...   \n",
       "1      https://www.heinzhistorycenter.org/event/one-o...   \n",
       "2      https://www.heinzhistorycenter.org/event/histo...   \n",
       "3      https://www.heinzhistorycenter.org/event/speak...   \n",
       "4      https://www.heinzhistorycenter.org/event/gut-y...   \n",
       "...                                                  ...   \n",
       "12365                          2024_Operating_Budget.pdf   \n",
       "12366                          2024_Operating_Budget.pdf   \n",
       "12367                          2024_Operating_Budget.pdf   \n",
       "12368                          2024_Operating_Budget.pdf   \n",
       "12369                          2024_Operating_Budget.pdf   \n",
       "\n",
       "                                                    text  \\\n",
       "0      Skip Main NavigationSkip to site alert\\nHeinz ...   \n",
       "1      Skip Main NavigationSkip to site alert\\nHeinz ...   \n",
       "2      Skip Main NavigationSkip to site alert\\nHeinz ...   \n",
       "3      Skip Main NavigationSkip to site alert\\nHeinz ...   \n",
       "4      Skip Main NavigationSkip to site alert\\nHeinz ...   \n",
       "...                                                  ...   \n",
       "12365  Anticipated 2028 Issuance ($49 million plus 1%...   \n",
       "12366                                Pension Funding 318   \n",
       "12367  City of Pittsburgh Operating Budget  Fiscal Ye...   \n",
       "12368  City of Pittsburgh Operating Budget  Fiscal Ye...   \n",
       "12369  City of Pittsburgh Operating Budget  Fiscal Ye...   \n",
       "\n",
       "                                     gemma3:12b_question  \\\n",
       "0      What dates will the one-on-one consultation se...   \n",
       "1      What is the cost of a single 30-minute consult...   \n",
       "2      What is the date and time of the History Uncor...   \n",
       "3      When will Jason A. Cherry's lecture on 'Willia...   \n",
       "4      What does the Yiddish greeting 'Gut Yontif' me...   \n",
       "...                                                  ...   \n",
       "12365  What is the amount of debt service for the Cit...   \n",
       "12366      What is the title of the text chunk provided?   \n",
       "12367  What is the subject of document 319 within the...   \n",
       "12368  What is the subject of the City of Pittsburgh'...   \n",
       "12369  What is the subject of document number 321 wit...   \n",
       "\n",
       "                                       gemma3:12b_answer  \\\n",
       "0      The individual, one-on-one consultation sessio...   \n",
       "1      Each 30-minute consultation session is priced ...   \n",
       "2      History Uncorked: Mirror Ball will be held on ...   \n",
       "3      Jason A. Cherry’s lecture will take place on S...   \n",
       "4      According to the text, 'Gut Yontif' is a Yiddi...   \n",
       "...                                                  ...   \n",
       "12365  The City of Pittsburgh Operating Budget for Fi...   \n",
       "12366    The text chunk is titled 'Pension Funding 318'.   \n",
       "12367  Document 319 within the City of Pittsburgh Ope...   \n",
       "12368  The City of Pittsburgh Operating Budget for Fi...   \n",
       "12369  Document number 321 within the City of Pittsbu...   \n",
       "\n",
       "                             category  \n",
       "0            Time-sensitive questions  \n",
       "1      Specific information questions  \n",
       "2            Time-sensitive questions  \n",
       "3            Time-sensitive questions  \n",
       "4         Document-enhanced questions  \n",
       "...                               ...  \n",
       "12365  Specific information questions  \n",
       "12366     Document-enhanced questions  \n",
       "12367  Specific information questions  \n",
       "12368  Specific information questions  \n",
       "12369  Specific information questions  \n",
       "\n",
       "[12352 rows x 5 columns]"
      ]
     },
     "execution_count": 51,
     "metadata": {},
     "output_type": "execute_result"
    }
   ],
   "source": [
    "categorize_question_for_dataset(df_filtered, model_name=\"gemma3:12b\", save_path=\"gemma3_questions_filtered_tmp.csv\")"
   ]
  },
  {
   "cell_type": "code",
   "execution_count": 52,
   "metadata": {},
   "outputs": [
    {
     "data": {
      "text/html": [
       "<div>\n",
       "<style scoped>\n",
       "    .dataframe tbody tr th:only-of-type {\n",
       "        vertical-align: middle;\n",
       "    }\n",
       "\n",
       "    .dataframe tbody tr th {\n",
       "        vertical-align: top;\n",
       "    }\n",
       "\n",
       "    .dataframe thead th {\n",
       "        text-align: right;\n",
       "    }\n",
       "</style>\n",
       "<table border=\"1\" class=\"dataframe\">\n",
       "  <thead>\n",
       "    <tr style=\"text-align: right;\">\n",
       "      <th></th>\n",
       "      <th>source</th>\n",
       "      <th>text</th>\n",
       "      <th>gemma3:12b_question</th>\n",
       "      <th>gemma3:12b_answer</th>\n",
       "      <th>category</th>\n",
       "    </tr>\n",
       "  </thead>\n",
       "  <tbody>\n",
       "    <tr>\n",
       "      <th>0</th>\n",
       "      <td>https://www.heinzhistorycenter.org/event/irish...</td>\n",
       "      <td>Skip Main NavigationSkip to site alert\\nHeinz ...</td>\n",
       "      <td>What dates will the one-on-one consultation se...</td>\n",
       "      <td>The individual, one-on-one consultation sessio...</td>\n",
       "      <td>Time-sensitive questions</td>\n",
       "    </tr>\n",
       "    <tr>\n",
       "      <th>1</th>\n",
       "      <td>https://www.heinzhistorycenter.org/event/one-o...</td>\n",
       "      <td>Skip Main NavigationSkip to site alert\\nHeinz ...</td>\n",
       "      <td>What is the cost of a single 30-minute consult...</td>\n",
       "      <td>Each 30-minute consultation session is priced ...</td>\n",
       "      <td>Specific information questions</td>\n",
       "    </tr>\n",
       "    <tr>\n",
       "      <th>2</th>\n",
       "      <td>https://www.heinzhistorycenter.org/event/histo...</td>\n",
       "      <td>Skip Main NavigationSkip to site alert\\nHeinz ...</td>\n",
       "      <td>What is the date and time of the History Uncor...</td>\n",
       "      <td>History Uncorked: Mirror Ball will be held on ...</td>\n",
       "      <td>Time-sensitive questions</td>\n",
       "    </tr>\n",
       "    <tr>\n",
       "      <th>3</th>\n",
       "      <td>https://www.heinzhistorycenter.org/event/speak...</td>\n",
       "      <td>Skip Main NavigationSkip to site alert\\nHeinz ...</td>\n",
       "      <td>When will Jason A. Cherry's lecture on 'Willia...</td>\n",
       "      <td>Jason A. Cherry’s lecture will take place on S...</td>\n",
       "      <td>Time-sensitive questions</td>\n",
       "    </tr>\n",
       "    <tr>\n",
       "      <th>4</th>\n",
       "      <td>https://www.heinzhistorycenter.org/event/gut-y...</td>\n",
       "      <td>Skip Main NavigationSkip to site alert\\nHeinz ...</td>\n",
       "      <td>What does the Yiddish greeting 'Gut Yontif' me...</td>\n",
       "      <td>According to the text, 'Gut Yontif' is a Yiddi...</td>\n",
       "      <td>Document-enhanced questions</td>\n",
       "    </tr>\n",
       "  </tbody>\n",
       "</table>\n",
       "</div>"
      ],
      "text/plain": [
       "                                              source  \\\n",
       "0  https://www.heinzhistorycenter.org/event/irish...   \n",
       "1  https://www.heinzhistorycenter.org/event/one-o...   \n",
       "2  https://www.heinzhistorycenter.org/event/histo...   \n",
       "3  https://www.heinzhistorycenter.org/event/speak...   \n",
       "4  https://www.heinzhistorycenter.org/event/gut-y...   \n",
       "\n",
       "                                                text  \\\n",
       "0  Skip Main NavigationSkip to site alert\\nHeinz ...   \n",
       "1  Skip Main NavigationSkip to site alert\\nHeinz ...   \n",
       "2  Skip Main NavigationSkip to site alert\\nHeinz ...   \n",
       "3  Skip Main NavigationSkip to site alert\\nHeinz ...   \n",
       "4  Skip Main NavigationSkip to site alert\\nHeinz ...   \n",
       "\n",
       "                                 gemma3:12b_question  \\\n",
       "0  What dates will the one-on-one consultation se...   \n",
       "1  What is the cost of a single 30-minute consult...   \n",
       "2  What is the date and time of the History Uncor...   \n",
       "3  When will Jason A. Cherry's lecture on 'Willia...   \n",
       "4  What does the Yiddish greeting 'Gut Yontif' me...   \n",
       "\n",
       "                                   gemma3:12b_answer  \\\n",
       "0  The individual, one-on-one consultation sessio...   \n",
       "1  Each 30-minute consultation session is priced ...   \n",
       "2  History Uncorked: Mirror Ball will be held on ...   \n",
       "3  Jason A. Cherry’s lecture will take place on S...   \n",
       "4  According to the text, 'Gut Yontif' is a Yiddi...   \n",
       "\n",
       "                         category  \n",
       "0        Time-sensitive questions  \n",
       "1  Specific information questions  \n",
       "2        Time-sensitive questions  \n",
       "3        Time-sensitive questions  \n",
       "4     Document-enhanced questions  "
      ]
     },
     "execution_count": 52,
     "metadata": {},
     "output_type": "execute_result"
    }
   ],
   "source": [
    "category_df = pd.read_csv(\"gemma3_questions_filtered_tmp.csv\", lineterminator='\\n')\n",
    "category_df.head()\n"
   ]
  },
  {
   "cell_type": "code",
   "execution_count": 54,
   "metadata": {},
   "outputs": [
    {
     "name": "stdout",
     "output_type": "stream",
     "text": [
      "Distribution of question categories:\n",
      "category\n",
      "Specific information questions    6937\n",
      "Document-enhanced questions       2161\n",
      "Basic factual questions           1659\n",
      "Time-sensitive questions          1595\n",
      "Name: count, dtype: int64\n",
      "\n",
      "Percentage distribution:\n",
      "Specific information questions: 56.16%\n",
      "Document-enhanced questions: 17.50%\n",
      "Basic factual questions: 13.43%\n",
      "Time-sensitive questions: 12.91%\n"
     ]
    },
    {
     "data": {
      "image/png": "[encoded data removed]",
      "text/plain": [
       "<Figure size 1200x600 with 1 Axes>"
      ]
     },
     "metadata": {},
     "output_type": "display_data"
    },
    {
     "data": {
      "image/png": "[encoded data removed]",
      "text/plain": [
       "<Figure size 1000x1000 with 1 Axes>"
      ]
     },
     "metadata": {},
     "output_type": "display_data"
    }
   ],
   "source": [
    "# Calculate the distribution of categories\n",
    "category_counts = category_df['category'].value_counts()\n",
    "\n",
    "# Display the distribution\n",
    "print(\"Distribution of question categories:\")\n",
    "print(category_counts)\n",
    "\n",
    "# Calculate percentages\n",
    "category_percentages = category_df['category'].value_counts(normalize=True) * 100\n",
    "print(\"\\nPercentage distribution:\")\n",
    "for category, percentage in category_percentages.items():\n",
    "    print(f\"{category}: {percentage:.2f}%\")\n",
    "\n",
    "# Create a bar plot of the distribution\n",
    "import matplotlib.pyplot as plt\n",
    "\n",
    "plt.figure(figsize=(12, 6))\n",
    "category_counts.plot(kind='bar', color='skyblue')\n",
    "plt.title('Distribution of Question Categories')\n",
    "plt.xlabel('Category')\n",
    "plt.ylabel('Count')\n",
    "plt.xticks(rotation=45, ha='right')\n",
    "plt.tight_layout()\n",
    "plt.show()\n",
    "\n",
    "# Create a pie chart for percentage distribution\n",
    "plt.figure(figsize=(10, 10))\n",
    "plt.pie(category_counts, labels=category_counts.index, autopct='%1.1f%%', \n",
    "        startangle=90, shadow=True)\n",
    "plt.axis('equal')  # Equal aspect ratio ensures that pie is drawn as a circle\n",
    "plt.title('Percentage Distribution of Question Categories')\n",
    "plt.tight_layout()\n",
    "plt.show()\n"
   ]
  },
  {
   "cell_type": "code",
   "execution_count": 55,
   "metadata": {},
   "outputs": [
    {
     "name": "stdout",
     "output_type": "stream",
     "text": [
      "Sampled 100 entries from category 'Time-sensitive questions'.\n",
      "Sampled 100 entries from category 'Specific information questions'.\n",
      "Sampled 100 entries from category 'Document-enhanced questions'.\n",
      "Sampled 100 entries from category 'Basic factual questions'.\n",
      "\n",
      "Distribution in balanced sample:\n",
      "category\n",
      "Time-sensitive questions          100\n",
      "Specific information questions    100\n",
      "Document-enhanced questions       100\n",
      "Basic factual questions           100\n",
      "Name: count, dtype: int64\n",
      "\n",
      "Saved balanced sample with 400 entries to 'gemma3_balanced_sample.csv'\n"
     ]
    }
   ],
   "source": [
    "# Randomly sample 100 entries from each category\n",
    "sampled_data = []\n",
    "\n",
    "# Get unique categories\n",
    "unique_categories = category_df['category'].unique()\n",
    "\n",
    "# Sample from each category\n",
    "for category in unique_categories:\n",
    "    # Filter the dataframe for the current category\n",
    "    category_data = category_df[category_df['category'] == category]\n",
    "    \n",
    "    # If there are less than 100 entries, take all of them\n",
    "    # Otherwise, randomly sample 100 entries\n",
    "    if len(category_data) <= 100:\n",
    "        sampled = category_data\n",
    "        print(f\"Category '{category}' has only {len(category_data)} entries, taking all of them.\")\n",
    "    else:\n",
    "        sampled = category_data.sample(n=100, random_state=42)\n",
    "        print(f\"Sampled 100 entries from category '{category}'.\")\n",
    "    \n",
    "    # Add the sampled data to our list\n",
    "    sampled_data.append(sampled)\n",
    "\n",
    "# Combine all sampled data into a single dataframe\n",
    "balanced_sample_df = pd.concat(sampled_data, ignore_index=True)\n",
    "\n",
    "# Display the count of entries in each category in the balanced sample\n",
    "print(\"\\nDistribution in balanced sample:\")\n",
    "print(balanced_sample_df['category'].value_counts())\n",
    "\n",
    "# Save the balanced sample to a CSV file\n",
    "balanced_sample_df.to_csv(\"gemma3_balanced_sample.csv\", index=False)\n",
    "print(f\"\\nSaved balanced sample with {len(balanced_sample_df)} entries to 'gemma3_balanced_sample.csv'\")\n"
   ]
  },
  {
   "cell_type": "code",
   "execution_count": 58,
   "metadata": {},
   "outputs": [
    {
     "data": {
      "text/html": [
       "<div>\n",
       "<style scoped>\n",
       "    .dataframe tbody tr th:only-of-type {\n",
       "        vertical-align: middle;\n",
       "    }\n",
       "\n",
       "    .dataframe tbody tr th {\n",
       "        vertical-align: top;\n",
       "    }\n",
       "\n",
       "    .dataframe thead th {\n",
       "        text-align: right;\n",
       "    }\n",
       "</style>\n",
       "<table border=\"1\" class=\"dataframe\">\n",
       "  <thead>\n",
       "    <tr style=\"text-align: right;\">\n",
       "      <th></th>\n",
       "      <th>source</th>\n",
       "      <th>text</th>\n",
       "      <th>gemma3:12b_question</th>\n",
       "      <th>gemma3:12b_answer</th>\n",
       "      <th>category</th>\n",
       "    </tr>\n",
       "  </thead>\n",
       "  <tbody>\n",
       "    <tr>\n",
       "      <th>0</th>\n",
       "      <td>https://www.pittsburghpa.gov/City-Government/M...</td>\n",
       "      <td>...</td>\n",
       "      <td>What is the purpose of the Late Night Basketba...</td>\n",
       "      <td>The Late Night Basketball Initiative, led by M...</td>\n",
       "      <td>Time-sensitive questions</td>\n",
       "    </tr>\n",
       "    <tr>\n",
       "      <th>1</th>\n",
       "      <td>https://www.pittsburghpa.gov/Safety/Alerts/Pub...</td>\n",
       "      <td>30/10/2018 13:09:28   Update on Injured Poli...</td>\n",
       "      <td>What were the injuries sustained by Pittsburgh...</td>\n",
       "      <td>According to the Public Safety Department's up...</td>\n",
       "      <td>Time-sensitive questions</td>\n",
       "    </tr>\n",
       "    <tr>\n",
       "      <th>2</th>\n",
       "      <td>https://www.visitpittsburgh.com/blog/live-your...</td>\n",
       "      <td>Live Your Pittsburgh Romanti...</td>\n",
       "      <td>What categories of travel experiences are high...</td>\n",
       "      <td>The Visit Pittsburgh website highlights catego...</td>\n",
       "      <td>Time-sensitive questions</td>\n",
       "    </tr>\n",
       "    <tr>\n",
       "      <th>3</th>\n",
       "      <td>Downtown_Pittsburgh_Events_20250310_004602.json</td>\n",
       "      <td>Community,\\n&gt;&gt;&gt;&gt;&gt;&gt;&gt; b908513ca90e848d0de1d449a8...</td>\n",
       "      <td>What special offerings will be available at Sp...</td>\n",
       "      <td>Space Bar will offer Special Irish Coffee &amp; Da...</td>\n",
       "      <td>Time-sensitive questions</td>\n",
       "    </tr>\n",
       "    <tr>\n",
       "      <th>4</th>\n",
       "      <td>https://www.visitpittsburgh.com/blog/trace-ech...</td>\n",
       "      <td>The beer continues to get...</td>\n",
       "      <td>What exclusive beverage offering does Trace Ec...</td>\n",
       "      <td>Trace Echo exclusively offers 'A Few Bad Apple...</td>\n",
       "      <td>Time-sensitive questions</td>\n",
       "    </tr>\n",
       "    <tr>\n",
       "      <th>5</th>\n",
       "      <td>https://carnegieart.org/exhibition/tatiana-bil...</td>\n",
       "      <td>Sep 21, 2024 - Jun 15, 2025\\n&gt;&gt;&gt;&gt;&gt;&gt;&gt; 2c80a1b63...</td>\n",
       "      <td>What is the exhibition 'Tatiana Bilbao Estudio...</td>\n",
       "      <td>The exhibition 'Tatiana Bilbao Estudio: City o...</td>\n",
       "      <td>Time-sensitive questions</td>\n",
       "    </tr>\n",
       "    <tr>\n",
       "      <th>6</th>\n",
       "      <td>https://www.pittsburghpa.gov/Safety/Alerts/Pub...</td>\n",
       "      <td>(PITTSBURGH, PA), June 22, 2023 --The Pittsb...</td>\n",
       "      <td>What was Sergeant Dawn Mercurio’s career path ...</td>\n",
       "      <td>Sergeant Dawn Mercurio began her policing care...</td>\n",
       "      <td>Time-sensitive questions</td>\n",
       "    </tr>\n",
       "    <tr>\n",
       "      <th>7</th>\n",
       "      <td>Pittsburgh_City_Paper_Events_Page_20_20250310_...</td>\n",
       "      <td>Freshworks: Anya Collins - Fugue\\n&gt;&gt;&gt;&gt;&gt;&gt;&gt; b908...</td>\n",
       "      <td>What is the central theme explored in Anya Col...</td>\n",
       "      <td>Anya Collins's 'Fugue' explores the relationsh...</td>\n",
       "      <td>Time-sensitive questions</td>\n",
       "    </tr>\n",
       "    <tr>\n",
       "      <th>8</th>\n",
       "      <td>https://www.pittsburghpa.gov/Safety/Alerts/Pub...</td>\n",
       "      <td>31/3/2018 15:25:46   Test  Test    4/4/2018 ...</td>\n",
       "      <td>What illegal substances and other items did Pi...</td>\n",
       "      <td>Detectives recovered crack cocaine, heroin, ma...</td>\n",
       "      <td>Time-sensitive questions</td>\n",
       "    </tr>\n",
       "    <tr>\n",
       "      <th>9</th>\n",
       "      <td>Pittsburgh_Events_August_20250310_004620.json</td>\n",
       "      <td>Aug\\n&gt;&gt;&gt;&gt;&gt;&gt;&gt; b908513ca90e848d0de1d449a84290738...</td>\n",
       "      <td>What is the scheduled time for the Cincinnati ...</td>\n",
       "      <td>The Cincinnati Reds at Pittsburgh Pirates game...</td>\n",
       "      <td>Time-sensitive questions</td>\n",
       "    </tr>\n",
       "  </tbody>\n",
       "</table>\n",
       "</div>"
      ],
      "text/plain": [
       "                                              source  \\\n",
       "0  https://www.pittsburghpa.gov/City-Government/M...   \n",
       "1  https://www.pittsburghpa.gov/Safety/Alerts/Pub...   \n",
       "2  https://www.visitpittsburgh.com/blog/live-your...   \n",
       "3    Downtown_Pittsburgh_Events_20250310_004602.json   \n",
       "4  https://www.visitpittsburgh.com/blog/trace-ech...   \n",
       "5  https://carnegieart.org/exhibition/tatiana-bil...   \n",
       "6  https://www.pittsburghpa.gov/Safety/Alerts/Pub...   \n",
       "7  Pittsburgh_City_Paper_Events_Page_20_20250310_...   \n",
       "8  https://www.pittsburghpa.gov/Safety/Alerts/Pub...   \n",
       "9      Pittsburgh_Events_August_20250310_004620.json   \n",
       "\n",
       "                                                text  \\\n",
       "0                                                ...   \n",
       "1    30/10/2018 13:09:28   Update on Injured Poli...   \n",
       "2                    Live Your Pittsburgh Romanti...   \n",
       "3  Community,\\n>>>>>>> b908513ca90e848d0de1d449a8...   \n",
       "4                       The beer continues to get...   \n",
       "5  Sep 21, 2024 - Jun 15, 2025\\n>>>>>>> 2c80a1b63...   \n",
       "6    (PITTSBURGH, PA), June 22, 2023 --The Pittsb...   \n",
       "7  Freshworks: Anya Collins - Fugue\\n>>>>>>> b908...   \n",
       "8    31/3/2018 15:25:46   Test  Test    4/4/2018 ...   \n",
       "9  Aug\\n>>>>>>> b908513ca90e848d0de1d449a84290738...   \n",
       "\n",
       "                                 gemma3:12b_question  \\\n",
       "0  What is the purpose of the Late Night Basketba...   \n",
       "1  What were the injuries sustained by Pittsburgh...   \n",
       "2  What categories of travel experiences are high...   \n",
       "3  What special offerings will be available at Sp...   \n",
       "4  What exclusive beverage offering does Trace Ec...   \n",
       "5  What is the exhibition 'Tatiana Bilbao Estudio...   \n",
       "6  What was Sergeant Dawn Mercurio’s career path ...   \n",
       "7  What is the central theme explored in Anya Col...   \n",
       "8  What illegal substances and other items did Pi...   \n",
       "9  What is the scheduled time for the Cincinnati ...   \n",
       "\n",
       "                                   gemma3:12b_answer                  category  \n",
       "0  The Late Night Basketball Initiative, led by M...  Time-sensitive questions  \n",
       "1  According to the Public Safety Department's up...  Time-sensitive questions  \n",
       "2  The Visit Pittsburgh website highlights catego...  Time-sensitive questions  \n",
       "3  Space Bar will offer Special Irish Coffee & Da...  Time-sensitive questions  \n",
       "4  Trace Echo exclusively offers 'A Few Bad Apple...  Time-sensitive questions  \n",
       "5  The exhibition 'Tatiana Bilbao Estudio: City o...  Time-sensitive questions  \n",
       "6  Sergeant Dawn Mercurio began her policing care...  Time-sensitive questions  \n",
       "7  Anya Collins's 'Fugue' explores the relationsh...  Time-sensitive questions  \n",
       "8  Detectives recovered crack cocaine, heroin, ma...  Time-sensitive questions  \n",
       "9  The Cincinnati Reds at Pittsburgh Pirates game...  Time-sensitive questions  "
      ]
     },
     "execution_count": 58,
     "metadata": {},
     "output_type": "execute_result"
    }
   ],
   "source": [
    "balanced_sample_df.head(10)"
   ]
  },
  {
   "cell_type": "code",
   "execution_count": 59,
   "metadata": {},
   "outputs": [
    {
     "name": "stdout",
     "output_type": "stream",
     "text": [
      "Added 'selected' column to balanced_sample_df:\n"
     ]
    },
    {
     "data": {
      "text/html": [
       "<div>\n",
       "<style scoped>\n",
       "    .dataframe tbody tr th:only-of-type {\n",
       "        vertical-align: middle;\n",
       "    }\n",
       "\n",
       "    .dataframe tbody tr th {\n",
       "        vertical-align: top;\n",
       "    }\n",
       "\n",
       "    .dataframe thead th {\n",
       "        text-align: right;\n",
       "    }\n",
       "</style>\n",
       "<table border=\"1\" class=\"dataframe\">\n",
       "  <thead>\n",
       "    <tr style=\"text-align: right;\">\n",
       "      <th></th>\n",
       "      <th>source</th>\n",
       "      <th>gemma3:12b_question</th>\n",
       "      <th>category</th>\n",
       "      <th>selected</th>\n",
       "    </tr>\n",
       "  </thead>\n",
       "  <tbody>\n",
       "    <tr>\n",
       "      <th>0</th>\n",
       "      <td>https://www.pittsburghpa.gov/City-Government/M...</td>\n",
       "      <td>What is the purpose of the Late Night Basketba...</td>\n",
       "      <td>Time-sensitive questions</td>\n",
       "      <td>False</td>\n",
       "    </tr>\n",
       "    <tr>\n",
       "      <th>1</th>\n",
       "      <td>https://www.pittsburghpa.gov/Safety/Alerts/Pub...</td>\n",
       "      <td>What were the injuries sustained by Pittsburgh...</td>\n",
       "      <td>Time-sensitive questions</td>\n",
       "      <td>False</td>\n",
       "    </tr>\n",
       "    <tr>\n",
       "      <th>2</th>\n",
       "      <td>https://www.visitpittsburgh.com/blog/live-your...</td>\n",
       "      <td>What categories of travel experiences are high...</td>\n",
       "      <td>Time-sensitive questions</td>\n",
       "      <td>False</td>\n",
       "    </tr>\n",
       "    <tr>\n",
       "      <th>3</th>\n",
       "      <td>Downtown_Pittsburgh_Events_20250310_004602.json</td>\n",
       "      <td>What special offerings will be available at Sp...</td>\n",
       "      <td>Time-sensitive questions</td>\n",
       "      <td>False</td>\n",
       "    </tr>\n",
       "    <tr>\n",
       "      <th>4</th>\n",
       "      <td>https://www.visitpittsburgh.com/blog/trace-ech...</td>\n",
       "      <td>What exclusive beverage offering does Trace Ec...</td>\n",
       "      <td>Time-sensitive questions</td>\n",
       "      <td>False</td>\n",
       "    </tr>\n",
       "  </tbody>\n",
       "</table>\n",
       "</div>"
      ],
      "text/plain": [
       "                                              source  \\\n",
       "0  https://www.pittsburghpa.gov/City-Government/M...   \n",
       "1  https://www.pittsburghpa.gov/Safety/Alerts/Pub...   \n",
       "2  https://www.visitpittsburgh.com/blog/live-your...   \n",
       "3    Downtown_Pittsburgh_Events_20250310_004602.json   \n",
       "4  https://www.visitpittsburgh.com/blog/trace-ech...   \n",
       "\n",
       "                                 gemma3:12b_question  \\\n",
       "0  What is the purpose of the Late Night Basketba...   \n",
       "1  What were the injuries sustained by Pittsburgh...   \n",
       "2  What categories of travel experiences are high...   \n",
       "3  What special offerings will be available at Sp...   \n",
       "4  What exclusive beverage offering does Trace Ec...   \n",
       "\n",
       "                   category  selected  \n",
       "0  Time-sensitive questions     False  \n",
       "1  Time-sensitive questions     False  \n",
       "2  Time-sensitive questions     False  \n",
       "3  Time-sensitive questions     False  \n",
       "4  Time-sensitive questions     False  "
      ]
     },
     "execution_count": 59,
     "metadata": {},
     "output_type": "execute_result"
    }
   ],
   "source": [
    "# Add a new column called 'selected' to the balanced_sample_df\n",
    "balanced_sample_df['selected'] = False\n",
    "\n",
    "# Display the first few rows to confirm the new column was added\n",
    "print(\"Added 'selected' column to balanced_sample_df:\")\n",
    "balanced_sample_df[['source', 'gemma3:12b_question', 'category', 'selected']].head()\n"
   ]
  },
  {
   "cell_type": "code",
   "execution_count": 10,
   "metadata": {},
   "outputs": [],
   "source": [
    "import requests\n",
    "import json\n",
    "\n",
    "def categorize_url(url, model_name=\"llama3.2\"):\n",
    "    \"\"\"\n",
    "    Categorize a given URL into one of the predefined categories using an Ollama model.\n",
    "    \n",
    "    Args:\n",
    "        url (str): The URL to categorize\n",
    "        model_name (str): The name of the Ollama model to use (default: \"llama3.2\")\n",
    "        \n",
    "    Returns:\n",
    "        str: Category number of the URL (1-4)\n",
    "    \"\"\"\n",
    "    # Ollama API endpoint (default is localhost on port 11434)\n",
    "    api_url = \"http://localhost:11434/api/generate\"\n",
    "    \n",
    "    # Create the prompt for URL categorization\n",
    "    prompt = f\"\"\"\n",
    "    Analyze the following URL and classify it into exactly ONE of these four categories.\n",
    "    \n",
    "    URL: {url}\n",
    "    \n",
    "    CATEGORIES:\n",
    "    1. General Info and History of Pittsburgh/CMU - URLs about Pittsburgh or CMU history, general information, city webpages, encyclopedias, etc.\n",
    "    2. Events in Pittsburgh and CMU - URLs for calendars, event listings, festivals, upcoming activities, etc.\n",
    "    3. Music and Culture - URLs about symphony, opera, museums, cultural venues, food festivals, etc.\n",
    "    4. Sports - URLs about Pittsburgh sports teams (Pirates, Steelers, Penguins), sporting venues, sports information, etc.\n",
    "    \n",
    "    INSTRUCTIONS:\n",
    "    - Respond with ONLY the category number (1, 2, 3, or 4)\n",
    "    - Do not include any explanations, reasoning, or additional text\n",
    "    - Output must be only a single digit from 1-4\n",
    "    \n",
    "    CATEGORY:\n",
    "    \"\"\"\n",
    "    \n",
    "    # Prepare the request payload\n",
    "    payload = {\n",
    "        \"model\": model_name,\n",
    "        \"prompt\": prompt,\n",
    "        \"stream\": False,\n",
    "        \"temperature\": 0.1  # Lower temperature for more deterministic outputs\n",
    "    }\n",
    "    \n",
    "    try:\n",
    "        # Make the API request to Ollama\n",
    "        response = requests.post(api_url, json=payload)\n",
    "        response.raise_for_status()  # Raise exception for HTTP errors\n",
    "        \n",
    "        # Parse the response and extract just the category number\n",
    "        result = response.json()\n",
    "        response_text = result[\"response\"].strip()\n",
    "        \n",
    "        # Additional processing to ensure we only get a category number\n",
    "        for char in response_text:\n",
    "            if char in [\"1\", \"2\", \"3\", \"4\"]:\n",
    "                return char\n",
    "        \n",
    "        # If no valid category was found in the response\n",
    "        print(f\"Warning: Could not extract a valid category from response: {response_text}\")\n",
    "        return None\n",
    "    \n",
    "    except requests.exceptions.RequestException as e:\n",
    "        print(f\"Error communicating with Ollama: {e}\")\n",
    "        return None\n",
    "    except (KeyError, json.JSONDecodeError) as e:\n",
    "        print(f\"Error processing Ollama response: {e}\")\n",
    "        return None"
   ]
  },
  {
   "cell_type": "code",
   "execution_count": 13,
   "metadata": {},
   "outputs": [
    {
     "data": {
      "text/plain": [
       "'1'"
      ]
     },
     "execution_count": 13,
     "metadata": {},
     "output_type": "execute_result"
    }
   ],
   "source": [
    "categorize_url(\"https://www.pittsburghpa.gov/\", model_name=\"gemma3:12b\")"
   ]
  },
  {
   "cell_type": "code",
   "execution_count": 7,
   "metadata": {},
   "outputs": [],
   "source": [
    "def categorize_url_for_dataset(df, model_name=\"llama3.3:latest\", max_attempts=5, save_path=\"all_combined.csv\"):\n",
    "    \"\"\"\n",
    "    Generate questions for each text in the dataframe using the specified model.\n",
    "    \n",
    "    Args:\n",
    "        df: DataFrame containing a 'text' column\n",
    "        model_name: Name of the model to use for question generation\n",
    "        max_attempts: Maximum number of attempts for each text\n",
    "        save_path: Path to save the updated dataframe\n",
    "        \n",
    "    Returns:\n",
    "        Updated DataFrame with a new column containing generated questions\n",
    "    \"\"\"\n",
    "\n",
    "    \n",
    "    all_categories = []\n",
    "    dictionary = {'1': 'General Info and History of Pittsburgh/CMU', '2': 'Events in Pittsburgh and CMU', '3': 'Music and Culture', '4': 'Sports'}\n",
    "    # Add tqdm progress bar\n",
    "    for i in tqdm(range(len(df)), desc=f\"Generating questions with {model_name}\"):\n",
    "        # if i % 100 == 0:\n",
    "        #     print(\"current row index: \", i)\n",
    "        attempts = 0\n",
    "        \n",
    "        while attempts < max_attempts:\n",
    "            try:\n",
    "                response = categorize_url(df[\"source\"][i], model_name=model_name)\n",
    "                # print(\"The text is: \", df[\"text\"][i])\n",
    "                \n",
    "                if response in dictionary:  # If we got a valid response\n",
    "                    # print(\"-------- ---------\")\n",
    "                    # print(question)\n",
    "                    # print(answer)\n",
    "                    # print(\"-------- ---------\")\n",
    "                    break\n",
    "                raise Exception(\"Empty response received\")\n",
    "                \n",
    "            except Exception as e:\n",
    "                attempts += 1\n",
    "                print(f\"Attempt {attempts} failed: {str(e)}\")\n",
    "                if attempts == max_attempts:\n",
    "                    print(f\"Failed to generate question after {max_attempts} attempts\")\n",
    "        if response in dictionary:\n",
    "            all_categories.append(dictionary[response])\n",
    "        else:\n",
    "            all_categories.append(\"\")\n",
    "\n",
    "    # After collecting all questions, add them as a new column\n",
    "    column_name = f\"content_category\"\n",
    "    df[column_name] = all_categories\n",
    "\n",
    "\n",
    "    # Save the final dataframe once at the end\n",
    "    df.to_csv(save_path, index=False)\n",
    "    \n",
    "    return df"
   ]
  },
  {
   "cell_type": "code",
   "execution_count": 15,
   "metadata": {},
   "outputs": [
    {
     "name": "stderr",
     "output_type": "stream",
     "text": [
      "Generating questions with gemma3:12b: 100%|██████████| 12352/12352 [14:40<00:00, 14.03it/s]\n"
     ]
    },
    {
     "data": {
      "text/html": [
       "<div>\n",
       "<style scoped>\n",
       "    .dataframe tbody tr th:only-of-type {\n",
       "        vertical-align: middle;\n",
       "    }\n",
       "\n",
       "    .dataframe tbody tr th {\n",
       "        vertical-align: top;\n",
       "    }\n",
       "\n",
       "    .dataframe thead th {\n",
       "        text-align: right;\n",
       "    }\n",
       "</style>\n",
       "<table border=\"1\" class=\"dataframe\">\n",
       "  <thead>\n",
       "    <tr style=\"text-align: right;\">\n",
       "      <th></th>\n",
       "      <th>source</th>\n",
       "      <th>text</th>\n",
       "      <th>gemma3:12b_question</th>\n",
       "      <th>gemma3:12b_answer</th>\n",
       "      <th>category</th>\n",
       "      <th>content_category</th>\n",
       "    </tr>\n",
       "  </thead>\n",
       "  <tbody>\n",
       "    <tr>\n",
       "      <th>0</th>\n",
       "      <td>https://www.heinzhistorycenter.org/event/irish...</td>\n",
       "      <td>Skip Main NavigationSkip to site alert\\nHeinz ...</td>\n",
       "      <td>What dates will the one-on-one consultation se...</td>\n",
       "      <td>The individual, one-on-one consultation sessio...</td>\n",
       "      <td>Time-sensitive questions</td>\n",
       "      <td>Music and Culture</td>\n",
       "    </tr>\n",
       "    <tr>\n",
       "      <th>1</th>\n",
       "      <td>https://www.heinzhistorycenter.org/event/one-o...</td>\n",
       "      <td>Skip Main NavigationSkip to site alert\\nHeinz ...</td>\n",
       "      <td>What is the cost of a single 30-minute consult...</td>\n",
       "      <td>Each 30-minute consultation session is priced ...</td>\n",
       "      <td>Specific information questions</td>\n",
       "      <td>Music and Culture</td>\n",
       "    </tr>\n",
       "    <tr>\n",
       "      <th>2</th>\n",
       "      <td>https://www.heinzhistorycenter.org/event/histo...</td>\n",
       "      <td>Skip Main NavigationSkip to site alert\\nHeinz ...</td>\n",
       "      <td>What is the date and time of the History Uncor...</td>\n",
       "      <td>History Uncorked: Mirror Ball will be held on ...</td>\n",
       "      <td>Time-sensitive questions</td>\n",
       "      <td>Music and Culture</td>\n",
       "    </tr>\n",
       "    <tr>\n",
       "      <th>3</th>\n",
       "      <td>https://www.heinzhistorycenter.org/event/speak...</td>\n",
       "      <td>Skip Main NavigationSkip to site alert\\nHeinz ...</td>\n",
       "      <td>When will Jason A. Cherry's lecture on 'Willia...</td>\n",
       "      <td>Jason A. Cherry’s lecture will take place on S...</td>\n",
       "      <td>Time-sensitive questions</td>\n",
       "      <td>Music and Culture</td>\n",
       "    </tr>\n",
       "    <tr>\n",
       "      <th>4</th>\n",
       "      <td>https://www.heinzhistorycenter.org/event/gut-y...</td>\n",
       "      <td>Skip Main NavigationSkip to site alert\\nHeinz ...</td>\n",
       "      <td>What does the Yiddish greeting 'Gut Yontif' me...</td>\n",
       "      <td>According to the text, 'Gut Yontif' is a Yiddi...</td>\n",
       "      <td>Document-enhanced questions</td>\n",
       "      <td>Music and Culture</td>\n",
       "    </tr>\n",
       "    <tr>\n",
       "      <th>...</th>\n",
       "      <td>...</td>\n",
       "      <td>...</td>\n",
       "      <td>...</td>\n",
       "      <td>...</td>\n",
       "      <td>...</td>\n",
       "      <td>...</td>\n",
       "    </tr>\n",
       "    <tr>\n",
       "      <th>12347</th>\n",
       "      <td>2024_Operating_Budget.pdf</td>\n",
       "      <td>Anticipated 2028 Issuance ($49 million plus 1%...</td>\n",
       "      <td>What is the amount of debt service for the Cit...</td>\n",
       "      <td>The City of Pittsburgh Operating Budget for Fi...</td>\n",
       "      <td>Specific information questions</td>\n",
       "      <td>General Info and History of Pittsburgh/CMU</td>\n",
       "    </tr>\n",
       "    <tr>\n",
       "      <th>12348</th>\n",
       "      <td>2024_Operating_Budget.pdf</td>\n",
       "      <td>Pension Funding 318</td>\n",
       "      <td>What is the title of the text chunk provided?</td>\n",
       "      <td>The text chunk is titled 'Pension Funding 318'.</td>\n",
       "      <td>Document-enhanced questions</td>\n",
       "      <td>General Info and History of Pittsburgh/CMU</td>\n",
       "    </tr>\n",
       "    <tr>\n",
       "      <th>12349</th>\n",
       "      <td>2024_Operating_Budget.pdf</td>\n",
       "      <td>City of Pittsburgh Operating Budget  Fiscal Ye...</td>\n",
       "      <td>What is the subject of document 319 within the...</td>\n",
       "      <td>Document 319 within the City of Pittsburgh Ope...</td>\n",
       "      <td>Specific information questions</td>\n",
       "      <td>General Info and History of Pittsburgh/CMU</td>\n",
       "    </tr>\n",
       "    <tr>\n",
       "      <th>12350</th>\n",
       "      <td>2024_Operating_Budget.pdf</td>\n",
       "      <td>City of Pittsburgh Operating Budget  Fiscal Ye...</td>\n",
       "      <td>What is the subject of the City of Pittsburgh'...</td>\n",
       "      <td>The City of Pittsburgh Operating Budget for Fi...</td>\n",
       "      <td>Specific information questions</td>\n",
       "      <td>General Info and History of Pittsburgh/CMU</td>\n",
       "    </tr>\n",
       "    <tr>\n",
       "      <th>12351</th>\n",
       "      <td>2024_Operating_Budget.pdf</td>\n",
       "      <td>City of Pittsburgh Operating Budget  Fiscal Ye...</td>\n",
       "      <td>What is the subject of document number 321 wit...</td>\n",
       "      <td>Document number 321 within the City of Pittsbu...</td>\n",
       "      <td>Specific information questions</td>\n",
       "      <td>General Info and History of Pittsburgh/CMU</td>\n",
       "    </tr>\n",
       "  </tbody>\n",
       "</table>\n",
       "<p>12352 rows × 6 columns</p>\n",
       "</div>"
      ],
      "text/plain": [
       "                                                  source  \\\n",
       "0      https://www.heinzhistorycenter.org/event/irish...   \n",
       "1      https://www.heinzhistorycenter.org/event/one-o...   \n",
       "2      https://www.heinzhistorycenter.org/event/histo...   \n",
       "3      https://www.heinzhistorycenter.org/event/speak...   \n",
       "4      https://www.heinzhistorycenter.org/event/gut-y...   \n",
       "...                                                  ...   \n",
       "12347                          2024_Operating_Budget.pdf   \n",
       "12348                          2024_Operating_Budget.pdf   \n",
       "12349                          2024_Operating_Budget.pdf   \n",
       "12350                          2024_Operating_Budget.pdf   \n",
       "12351                          2024_Operating_Budget.pdf   \n",
       "\n",
       "                                                    text  \\\n",
       "0      Skip Main NavigationSkip to site alert\\nHeinz ...   \n",
       "1      Skip Main NavigationSkip to site alert\\nHeinz ...   \n",
       "2      Skip Main NavigationSkip to site alert\\nHeinz ...   \n",
       "3      Skip Main NavigationSkip to site alert\\nHeinz ...   \n",
       "4      Skip Main NavigationSkip to site alert\\nHeinz ...   \n",
       "...                                                  ...   \n",
       "12347  Anticipated 2028 Issuance ($49 million plus 1%...   \n",
       "12348                                Pension Funding 318   \n",
       "12349  City of Pittsburgh Operating Budget  Fiscal Ye...   \n",
       "12350  City of Pittsburgh Operating Budget  Fiscal Ye...   \n",
       "12351  City of Pittsburgh Operating Budget  Fiscal Ye...   \n",
       "\n",
       "                                     gemma3:12b_question  \\\n",
       "0      What dates will the one-on-one consultation se...   \n",
       "1      What is the cost of a single 30-minute consult...   \n",
       "2      What is the date and time of the History Uncor...   \n",
       "3      When will Jason A. Cherry's lecture on 'Willia...   \n",
       "4      What does the Yiddish greeting 'Gut Yontif' me...   \n",
       "...                                                  ...   \n",
       "12347  What is the amount of debt service for the Cit...   \n",
       "12348      What is the title of the text chunk provided?   \n",
       "12349  What is the subject of document 319 within the...   \n",
       "12350  What is the subject of the City of Pittsburgh'...   \n",
       "12351  What is the subject of document number 321 wit...   \n",
       "\n",
       "                                       gemma3:12b_answer  \\\n",
       "0      The individual, one-on-one consultation sessio...   \n",
       "1      Each 30-minute consultation session is priced ...   \n",
       "2      History Uncorked: Mirror Ball will be held on ...   \n",
       "3      Jason A. Cherry’s lecture will take place on S...   \n",
       "4      According to the text, 'Gut Yontif' is a Yiddi...   \n",
       "...                                                  ...   \n",
       "12347  The City of Pittsburgh Operating Budget for Fi...   \n",
       "12348    The text chunk is titled 'Pension Funding 318'.   \n",
       "12349  Document 319 within the City of Pittsburgh Ope...   \n",
       "12350  The City of Pittsburgh Operating Budget for Fi...   \n",
       "12351  Document number 321 within the City of Pittsbu...   \n",
       "\n",
       "                             category  \\\n",
       "0            Time-sensitive questions   \n",
       "1      Specific information questions   \n",
       "2            Time-sensitive questions   \n",
       "3            Time-sensitive questions   \n",
       "4         Document-enhanced questions   \n",
       "...                               ...   \n",
       "12347  Specific information questions   \n",
       "12348     Document-enhanced questions   \n",
       "12349  Specific information questions   \n",
       "12350  Specific information questions   \n",
       "12351  Specific information questions   \n",
       "\n",
       "                                 content_category  \n",
       "0                               Music and Culture  \n",
       "1                               Music and Culture  \n",
       "2                               Music and Culture  \n",
       "3                               Music and Culture  \n",
       "4                               Music and Culture  \n",
       "...                                           ...  \n",
       "12347  General Info and History of Pittsburgh/CMU  \n",
       "12348  General Info and History of Pittsburgh/CMU  \n",
       "12349  General Info and History of Pittsburgh/CMU  \n",
       "12350  General Info and History of Pittsburgh/CMU  \n",
       "12351  General Info and History of Pittsburgh/CMU  \n",
       "\n",
       "[12352 rows x 6 columns]"
      ]
     },
     "execution_count": 15,
     "metadata": {},
     "output_type": "execute_result"
    }
   ],
   "source": [
    "import pandas as pd\n",
    "from tqdm import tqdm\n",
    "df = pd.read_csv(\"gemma3_questions_filtered_tmp.csv\", lineterminator='\\n')\n",
    "categorize_url_for_dataset(df, model_name=\"gemma3:12b\", save_path=\"gemma3_questions_filtered_tmp_with_2cat.csv\")"
   ]
  },
  {
   "cell_type": "code",
   "execution_count": 16,
   "metadata": {},
   "outputs": [
    {
     "data": {
      "text/html": [
       "<div>\n",
       "<style scoped>\n",
       "    .dataframe tbody tr th:only-of-type {\n",
       "        vertical-align: middle;\n",
       "    }\n",
       "\n",
       "    .dataframe tbody tr th {\n",
       "        vertical-align: top;\n",
       "    }\n",
       "\n",
       "    .dataframe thead th {\n",
       "        text-align: right;\n",
       "    }\n",
       "</style>\n",
       "<table border=\"1\" class=\"dataframe\">\n",
       "  <thead>\n",
       "    <tr style=\"text-align: right;\">\n",
       "      <th></th>\n",
       "      <th>source</th>\n",
       "      <th>text</th>\n",
       "      <th>gemma3:12b_question</th>\n",
       "      <th>gemma3:12b_answer</th>\n",
       "      <th>category</th>\n",
       "      <th>content_category</th>\n",
       "    </tr>\n",
       "  </thead>\n",
       "  <tbody>\n",
       "    <tr>\n",
       "      <th>0</th>\n",
       "      <td>https://www.heinzhistorycenter.org/event/irish...</td>\n",
       "      <td>Skip Main NavigationSkip to site alert\\nHeinz ...</td>\n",
       "      <td>What dates will the one-on-one consultation se...</td>\n",
       "      <td>The individual, one-on-one consultation sessio...</td>\n",
       "      <td>Time-sensitive questions</td>\n",
       "      <td>Music and Culture</td>\n",
       "    </tr>\n",
       "    <tr>\n",
       "      <th>1</th>\n",
       "      <td>https://www.heinzhistorycenter.org/event/one-o...</td>\n",
       "      <td>Skip Main NavigationSkip to site alert\\nHeinz ...</td>\n",
       "      <td>What is the cost of a single 30-minute consult...</td>\n",
       "      <td>Each 30-minute consultation session is priced ...</td>\n",
       "      <td>Specific information questions</td>\n",
       "      <td>Music and Culture</td>\n",
       "    </tr>\n",
       "    <tr>\n",
       "      <th>2</th>\n",
       "      <td>https://www.heinzhistorycenter.org/event/histo...</td>\n",
       "      <td>Skip Main NavigationSkip to site alert\\nHeinz ...</td>\n",
       "      <td>What is the date and time of the History Uncor...</td>\n",
       "      <td>History Uncorked: Mirror Ball will be held on ...</td>\n",
       "      <td>Time-sensitive questions</td>\n",
       "      <td>Music and Culture</td>\n",
       "    </tr>\n",
       "    <tr>\n",
       "      <th>3</th>\n",
       "      <td>https://www.heinzhistorycenter.org/event/speak...</td>\n",
       "      <td>Skip Main NavigationSkip to site alert\\nHeinz ...</td>\n",
       "      <td>When will Jason A. Cherry's lecture on 'Willia...</td>\n",
       "      <td>Jason A. Cherry’s lecture will take place on S...</td>\n",
       "      <td>Time-sensitive questions</td>\n",
       "      <td>Music and Culture</td>\n",
       "    </tr>\n",
       "    <tr>\n",
       "      <th>4</th>\n",
       "      <td>https://www.heinzhistorycenter.org/event/gut-y...</td>\n",
       "      <td>Skip Main NavigationSkip to site alert\\nHeinz ...</td>\n",
       "      <td>What does the Yiddish greeting 'Gut Yontif' me...</td>\n",
       "      <td>According to the text, 'Gut Yontif' is a Yiddi...</td>\n",
       "      <td>Document-enhanced questions</td>\n",
       "      <td>Music and Culture</td>\n",
       "    </tr>\n",
       "  </tbody>\n",
       "</table>\n",
       "</div>"
      ],
      "text/plain": [
       "                                              source  \\\n",
       "0  https://www.heinzhistorycenter.org/event/irish...   \n",
       "1  https://www.heinzhistorycenter.org/event/one-o...   \n",
       "2  https://www.heinzhistorycenter.org/event/histo...   \n",
       "3  https://www.heinzhistorycenter.org/event/speak...   \n",
       "4  https://www.heinzhistorycenter.org/event/gut-y...   \n",
       "\n",
       "                                                text  \\\n",
       "0  Skip Main NavigationSkip to site alert\\nHeinz ...   \n",
       "1  Skip Main NavigationSkip to site alert\\nHeinz ...   \n",
       "2  Skip Main NavigationSkip to site alert\\nHeinz ...   \n",
       "3  Skip Main NavigationSkip to site alert\\nHeinz ...   \n",
       "4  Skip Main NavigationSkip to site alert\\nHeinz ...   \n",
       "\n",
       "                                 gemma3:12b_question  \\\n",
       "0  What dates will the one-on-one consultation se...   \n",
       "1  What is the cost of a single 30-minute consult...   \n",
       "2  What is the date and time of the History Uncor...   \n",
       "3  When will Jason A. Cherry's lecture on 'Willia...   \n",
       "4  What does the Yiddish greeting 'Gut Yontif' me...   \n",
       "\n",
       "                                   gemma3:12b_answer  \\\n",
       "0  The individual, one-on-one consultation sessio...   \n",
       "1  Each 30-minute consultation session is priced ...   \n",
       "2  History Uncorked: Mirror Ball will be held on ...   \n",
       "3  Jason A. Cherry’s lecture will take place on S...   \n",
       "4  According to the text, 'Gut Yontif' is a Yiddi...   \n",
       "\n",
       "                         category   content_category  \n",
       "0        Time-sensitive questions  Music and Culture  \n",
       "1  Specific information questions  Music and Culture  \n",
       "2        Time-sensitive questions  Music and Culture  \n",
       "3        Time-sensitive questions  Music and Culture  \n",
       "4     Document-enhanced questions  Music and Culture  "
      ]
     },
     "execution_count": 16,
     "metadata": {},
     "output_type": "execute_result"
    }
   ],
   "source": [
    "df_2cat = pd.read_csv(\"gemma3_questions_filtered_tmp_with_2cat.csv\", lineterminator='\\n')\n",
    "df_2cat.head()\n"
   ]
  },
  {
   "cell_type": "code",
   "execution_count": null,
   "metadata": {},
   "outputs": [],
   "source": []
  }
 ],
 "metadata": {
  "kernelspec": {
   "display_name": "anlp_hw2",
   "language": "python",
   "name": "python3"
  },
  "language_info": {
   "codemirror_mode": {
    "name": "ipython",
    "version": 3
   },
   "file_extension": ".py",
   "mimetype": "text/x-python",
   "name": "python",
   "nbconvert_exporter": "python",
   "pygments_lexer": "ipython3",
   "version": "3.11.11"
  }
 },
 "nbformat": 4,
 "nbformat_minor": 2
}
