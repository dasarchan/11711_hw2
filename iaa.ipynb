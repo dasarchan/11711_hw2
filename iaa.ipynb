{
 "cells": [
  {
   "cell_type": "code",
   "execution_count": 1,
   "id": "a7d007e5",
   "metadata": {},
   "outputs": [],
   "source": [
    "import numpy as np\n",
    "import pandas as pd\n",
    "import collections\n",
    "import ast"
   ]
  },
  {
   "cell_type": "code",
   "execution_count": 4,
   "id": "02ebd9b3",
   "metadata": {},
   "outputs": [
    {
     "data": {
      "text/plain": [
       "'/home/likegiver/Documents/zhijie/11711_hw2'"
      ]
     },
     "execution_count": 4,
     "metadata": {},
     "output_type": "execute_result"
    }
   ],
   "source": [
    "pwd"
   ]
  },
  {
   "cell_type": "code",
   "execution_count": 5,
   "id": "2e2ac42b",
   "metadata": {},
   "outputs": [],
   "source": [
    "all_df = pd.read_csv('gemma3_questions_filtered_tmp_with_2cat_concise.csv', lineterminator='\\n')"
   ]
  },
  {
   "cell_type": "code",
   "execution_count": 6,
   "id": "b2991667",
   "metadata": {},
   "outputs": [],
   "source": [
    "annotated_df = pd.read_csv(\"iaa_answers.csv\")"
   ]
  },
  {
   "cell_type": "code",
   "execution_count": 7,
   "id": "c8c2d04b",
   "metadata": {},
   "outputs": [],
   "source": [
    "# F1 measures the word overlap between the labeled and the predicted answer\n",
    "# tp: number of tokens* that are shared between the correct answer and the prediction.\n",
    "# fp: number of tokens that are in the prediction but not in the correct answer.\n",
    "# fn: number of tokens that are in the correct answer but not in the prediction.\n",
    "def get_f1(annotated_answer, gen_answer):\n",
    "    annotated_tokens = annotated_answer.split()\n",
    "    gen_tokens = gen_answer.split()\n",
    "    common = collections.Counter(annotated_tokens) & collections.Counter(gen_tokens)\n",
    "    num_same = sum(common.values())\n",
    "    \n",
    "    if len(annotated_tokens) == 0 or len(gen_tokens) == 0:\n",
    "        return int(annotated_tokens == gen_tokens)\n",
    "    \n",
    "    if num_same == 0:\n",
    "        return 0\n",
    "    \n",
    "    precision = 1.0 * num_same / len(gen_tokens)\n",
    "    recall = 1.0 * num_same / len(annotated_tokens)\n",
    "    f1 = (2 * precision * recall) / (precision + recall)\n",
    "    \n",
    "    return f1"
   ]
  },
  {
   "cell_type": "code",
   "execution_count": 11,
   "id": "2ad72cbc",
   "metadata": {},
   "outputs": [],
   "source": [
    "def get_annotator_f1(annotated_df, generated_df):\n",
    "    f1 = 0\n",
    "    for index, row in annotated_df.iterrows():\n",
    "        question, annotated_answer = row[0], row[1]\n",
    "        gen_answer = generated_df[generated_df[\"gemma3:12b_question\"] == question][\"gemma3:12b_answer_concise\"].iloc[0]\n",
    "        f1 += get_f1(annotated_answer, gen_answer)\n",
    "    \n",
    "    return f1 / annotated_df.shape[0]"
   ]
  },
  {
   "cell_type": "code",
   "execution_count": 12,
   "id": "8d0e677e",
   "metadata": {},
   "outputs": [
    {
     "name": "stderr",
     "output_type": "stream",
     "text": [
      "/tmp/ipykernel_1017332/164662950.py:4: FutureWarning: Series.__getitem__ treating keys as positions is deprecated. In a future version, integer keys will always be treated as labels (consistent with DataFrame behavior). To access a value by position, use `ser.iloc[pos]`\n",
      "  question, annotated_answer = row[0], row[1]\n",
      "/tmp/ipykernel_1017332/164662950.py:4: FutureWarning: Series.__getitem__ treating keys as positions is deprecated. In a future version, integer keys will always be treated as labels (consistent with DataFrame behavior). To access a value by position, use `ser.iloc[pos]`\n",
      "  question, annotated_answer = row[0], row[1]\n"
     ]
    }
   ],
   "source": [
    "annotator1_f1 = get_annotator_f1(annotated_df[[\"gemma3:12b_question\", \"annotated_answer1\"]], all_df)\n",
    "annotator2_f1 = get_annotator_f1(annotated_df[[\"gemma3:12b_question\", \"annotated_answer2\"]], all_df)\n",
    "overall_f1 = (annotator1_f1 + annotator2_f1) / 2"
   ]
  },
  {
   "cell_type": "code",
   "execution_count": 13,
   "id": "b3264cb0",
   "metadata": {},
   "outputs": [
    {
     "name": "stdout",
     "output_type": "stream",
     "text": [
      "0.21056926035525106\n"
     ]
    }
   ],
   "source": [
    "print(overall_f1)"
   ]
  },
  {
   "cell_type": "code",
   "execution_count": null,
   "id": "4dba07b8",
   "metadata": {},
   "outputs": [],
   "source": []
  }
 ],
 "metadata": {
  "kernelspec": {
   "display_name": "anlp_hw2",
   "language": "python",
   "name": "python3"
  },
  "language_info": {
   "codemirror_mode": {
    "name": "ipython",
    "version": 3
   },
   "file_extension": ".py",
   "mimetype": "text/x-python",
   "name": "python",
   "nbconvert_exporter": "python",
   "pygments_lexer": "ipython3",
   "version": "3.11.11"
  }
 },
 "nbformat": 4,
 "nbformat_minor": 5
}
